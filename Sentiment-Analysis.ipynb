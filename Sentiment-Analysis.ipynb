{
  "cells": [
    {
      "cell_type": "markdown",
      "metadata": {
        "id": "A-kfSgIGzgGL"
      },
      "source": [
        "# **Project : A Case Study of ExpressWay Logistics**"
      ]
    },
    {
      "cell_type": "markdown",
      "metadata": {
        "id": "O8Z-Vp4pzgGN"
      },
      "source": [
        "**Business Overview:**\n",
        "\n",
        "ExpressWay Logistics is a dynamic logistics service provider, committed to delivering efficient, reliable and cost-effective courier transportation and warehousing solutions. With a focus on speed, precision and customer satisfaction, we aim to be the go-to partner for our customers seeking seamless courier services. Our core service involves ensuring operational efficiency throughout our delivery and courier services, including inventory management, durable packaging and swift dispatch of couriers, real time tracking of shipments and on-time delivery of couriers as promised. We are committed to enhance our logistics and courier services and improve seamless connectivity for our customers."
      ]
    },
    {
      "cell_type": "markdown",
      "metadata": {
        "id": "46XFRcFTzgGN"
      },
      "source": [
        "**Current Challenge:**\n",
        "\n",
        "ExpressWay Logistics faces numerous challenges in ensuring seamless deliveries and customer satisfaction. These challenges include managing various customer demands simultaneously, addressing delays in deliveries and ensuring products arrive intact and safe. Additionally, the company struggles with complexity of efficiently storing and handling a large volume of packages and ultimately meeting customer expectations. Moreover, maintaining a skilled workforce capable of handling various aspects of logistics operations presents its own set of challenges. Overcoming these obstacles requires a comprehensive approach that integrates innovative technology, strategic planning, and continuous improvement initiatives to ensure smooth operations and exceptional service delivery."
      ]
    },
    {
      "cell_type": "markdown",
      "metadata": {
        "id": "maC1EgUJzgGO"
      },
      "source": [
        "**Objective:**\n",
        "\n",
        "Our primary objective is to conduct a sentiment analysis of user-generated reviews across various digital channels and platforms. By paying attention to their feedback, we want to find ways to make our services better - like handling different customer demands simultaneously, dealing with late deliveries, and keeping packages secured and intact. Through the application of prompt engineering methodologies and sentiment analysis, we'll figure out if sentiments expressed by users for our courier services are Positive or Negative. This will help us understand where we need to improve in order to meet customer expectations and keep them happy. With a focus on getting better all the time, we'll overcome the challenges at ExpressWay Logistics and make our services the best."
      ]
    },
    {
      "cell_type": "markdown",
      "metadata": {
        "id": "flUHF3xczgGO"
      },
      "source": [
        "**Data Description:**\n",
        "\n",
        "The dataset titled \"courier-service_reviews.csv\" is structured to facilitate sentiment analysis for courier service reviews. Here's a brief description of the data columns:\n",
        "\n",
        "1. id: This column contains unique identifiers for each review entry. It helps in distinguishing and referencing individual reviews.\n",
        "2. review: This column includes the actual text of the courier service reviews. The reviews are likely composed of customer opinions and experiences regarding different aspects of the services provided by ExpressWay Logistics.\n",
        "3. sentiment: This column provides an additional layer of classification (positive and negative) for the mentioned reviews."
      ]
    },
    {
      "cell_type": "markdown",
      "metadata": {
        "id": "ykLYC3zzSr8z"
      },
      "source": [
        "### Installation"
      ]
    },
    {
      "cell_type": "code",
      "execution_count": 1,
      "metadata": {
        "colab": {
          "base_uri": "https://localhost:8080/"
        },
        "id": "keb94_PFzgGO",
        "outputId": "2aa90f91-9920-4023-e229-34e5b3a1349d"
      },
      "outputs": [
        {
          "output_type": "stream",
          "name": "stdout",
          "text": [
            "  Preparing metadata (setup.py) ... \u001b[?25l\u001b[?25hdone\n",
            "\u001b[2K   \u001b[90m━━━━━━━━━━━━━━━━━━━━━━━━━━━━━━━━━━━━━━━━\u001b[0m \u001b[32m219.9/219.9 kB\u001b[0m \u001b[31m6.9 MB/s\u001b[0m eta \u001b[36m0:00:00\u001b[0m\n",
            "\u001b[2K   \u001b[90m━━━━━━━━━━━━━━━━━━━━━━━━━━━━━━━━━━━━━━━━\u001b[0m \u001b[32m1.2/1.2 MB\u001b[0m \u001b[31m32.1 MB/s\u001b[0m eta \u001b[36m0:00:00\u001b[0m\n",
            "\u001b[2K   \u001b[90m━━━━━━━━━━━━━━━━━━━━━━━━━━━━━━━━━━━━━━━━\u001b[0m \u001b[32m472.7/472.7 kB\u001b[0m \u001b[31m26.9 MB/s\u001b[0m eta \u001b[36m0:00:00\u001b[0m\n",
            "\u001b[2K   \u001b[90m━━━━━━━━━━━━━━━━━━━━━━━━━━━━━━━━━━━━━━━━\u001b[0m \u001b[32m116.3/116.3 kB\u001b[0m \u001b[31m7.5 MB/s\u001b[0m eta \u001b[36m0:00:00\u001b[0m\n",
            "\u001b[2K   \u001b[90m━━━━━━━━━━━━━━━━━━━━━━━━━━━━━━━━━━━━━━━━\u001b[0m \u001b[32m76.4/76.4 kB\u001b[0m \u001b[31m5.1 MB/s\u001b[0m eta \u001b[36m0:00:00\u001b[0m\n",
            "\u001b[2K   \u001b[90m━━━━━━━━━━━━━━━━━━━━━━━━━━━━━━━━━━━━━━━━\u001b[0m \u001b[32m78.0/78.0 kB\u001b[0m \u001b[31m4.5 MB/s\u001b[0m eta \u001b[36m0:00:00\u001b[0m\n",
            "\u001b[2K   \u001b[90m━━━━━━━━━━━━━━━━━━━━━━━━━━━━━━━━━━━━━━━━\u001b[0m \u001b[32m134.8/134.8 kB\u001b[0m \u001b[31m8.3 MB/s\u001b[0m eta \u001b[36m0:00:00\u001b[0m\n",
            "\u001b[2K   \u001b[90m━━━━━━━━━━━━━━━━━━━━━━━━━━━━━━━━━━━━━━━━\u001b[0m \u001b[32m83.6/83.6 kB\u001b[0m \u001b[31m5.2 MB/s\u001b[0m eta \u001b[36m0:00:00\u001b[0m\n",
            "\u001b[2K   \u001b[90m━━━━━━━━━━━━━━━━━━━━━━━━━━━━━━━━━━━━━━━━\u001b[0m \u001b[32m194.1/194.1 kB\u001b[0m \u001b[31m12.7 MB/s\u001b[0m eta \u001b[36m0:00:00\u001b[0m\n",
            "\u001b[2K   \u001b[90m━━━━━━━━━━━━━━━━━━━━━━━━━━━━━━━━━━━━━━━━\u001b[0m \u001b[32m58.3/58.3 kB\u001b[0m \u001b[31m3.3 MB/s\u001b[0m eta \u001b[36m0:00:00\u001b[0m\n",
            "\u001b[?25h  Building wheel for session-info (setup.py) ... \u001b[?25l\u001b[?25hdone\n"
          ]
        }
      ],
      "source": [
        "!pip install openai==1.2 tiktoken datasets session-info --quiet"
      ]
    },
    {
      "cell_type": "markdown",
      "metadata": {
        "id": "YFZj9kr8Pahl"
      },
      "source": [
        "### Imports"
      ]
    },
    {
      "cell_type": "code",
      "execution_count": 2,
      "metadata": {
        "id": "Q3gwxSqQPahl"
      },
      "outputs": [],
      "source": [
        "# Import all Python packages required to access the Azure Open AI API.\n",
        "# Import additional packages required to access datasets and create examples.\n",
        "\n",
        "from openai import AzureOpenAI\n",
        "import json\n",
        "import random\n",
        "import tiktoken\n",
        "import session_info\n",
        "\n",
        "import pandas as pd\n",
        "import numpy as np\n",
        "\n",
        "from collections import Counter\n",
        "from tqdm import tqdm\n",
        "from sklearn.model_selection import train_test_split\n",
        "from sklearn.metrics import f1_score\n",
        "from tabulate import tabulate"
      ]
    },
    {
      "cell_type": "code",
      "execution_count": 3,
      "metadata": {
        "colab": {
          "base_uri": "https://localhost:8080/",
          "height": 34
        },
        "id": "6mmXtfmrS7Ml",
        "outputId": "b57ceafe-6ebe-44fd-c768-b84f1f9f1596"
      },
      "outputs": [
        {
          "output_type": "execute_result",
          "data": {
            "text/plain": [
              "<IPython.core.display.HTML object>"
            ],
            "text/html": [
              "<details>\n",
              "<summary>Click to view session information</summary>\n",
              "<pre>\n",
              "-----\n",
              "numpy               1.26.4\n",
              "openai              1.2.0\n",
              "pandas              2.2.2\n",
              "session_info        1.0.0\n",
              "sklearn             1.5.2\n",
              "tabulate            0.9.0\n",
              "tiktoken            0.8.0\n",
              "tqdm                4.66.5\n",
              "-----\n",
              "</pre>\n",
              "<details>\n",
              "<summary>Click to view modules imported as dependencies</summary>\n",
              "<pre>\n",
              "Cython              3.0.11\n",
              "PIL                 10.4.0\n",
              "annotated_types     0.7.0\n",
              "anyio               NA\n",
              "attr                24.2.0\n",
              "backcall            0.2.0\n",
              "bottleneck          1.4.2\n",
              "certifi             2024.08.30\n",
              "cffi                1.17.1\n",
              "click               8.1.7\n",
              "cloudpickle         3.1.0\n",
              "cycler              0.12.1\n",
              "cython              3.0.11\n",
              "cython_runtime      NA\n",
              "dateutil            2.8.2\n",
              "debugpy             1.6.6\n",
              "decorator           4.4.2\n",
              "defusedxml          0.7.1\n",
              "distro              1.7.0\n",
              "entrypoints         0.4\n",
              "google              NA\n",
              "h11                 0.14.0\n",
              "httpcore            1.0.6\n",
              "httplib2            0.22.0\n",
              "httpx               0.27.2\n",
              "idna                3.10\n",
              "ipykernel           5.5.6\n",
              "ipyparallel         8.8.0\n",
              "ipython_genutils    0.2.0\n",
              "jaraco              NA\n",
              "joblib              1.4.2\n",
              "kiwisolver          1.4.7\n",
              "matplotlib          3.7.1\n",
              "matplotlib_inline   0.1.7\n",
              "more_itertools      10.5.0\n",
              "mpl_toolkits        NA\n",
              "numexpr             2.10.1\n",
              "packaging           24.1\n",
              "pexpect             4.9.0\n",
              "pickleshare         0.7.5\n",
              "pkg_resources       NA\n",
              "platformdirs        4.3.6\n",
              "portpicker          NA\n",
              "prompt_toolkit      3.0.48\n",
              "psutil              5.9.5\n",
              "ptyprocess          0.7.0\n",
              "pyarrow             16.1.0\n",
              "pydantic            2.9.2\n",
              "pydantic_core       2.23.4\n",
              "pydev_ipython       NA\n",
              "pydevconsole        NA\n",
              "pydevd              2.9.5\n",
              "pydevd_file_utils   NA\n",
              "pydevd_plugins      NA\n",
              "pydevd_tracing      NA\n",
              "pygments            2.18.0\n",
              "pyparsing           3.2.0\n",
              "pytz                2024.2\n",
              "regex               2.5.147\n",
              "rich                NA\n",
              "scipy               1.13.1\n",
              "setuptools          75.1.0\n",
              "sitecustomize       NA\n",
              "six                 1.16.0\n",
              "sniffio             1.3.1\n",
              "socks               1.7.1\n",
              "sphinxcontrib       NA\n",
              "stdlib_list         0.11.0\n",
              "storemagic          NA\n",
              "threadpoolctl       3.5.0\n",
              "tiktoken_ext        NA\n",
              "tornado             6.3.3\n",
              "traitlets           5.7.1\n",
              "typing_extensions   NA\n",
              "wcwidth             0.2.13\n",
              "zmq                 24.0.1\n",
              "zoneinfo            NA\n",
              "</pre>\n",
              "</details> <!-- seems like this ends pre, so might as well be explicit -->\n",
              "<pre>\n",
              "-----\n",
              "IPython             7.34.0\n",
              "jupyter_client      6.1.12\n",
              "jupyter_core        5.7.2\n",
              "notebook            6.5.5\n",
              "-----\n",
              "Python 3.10.12 (main, Sep 11 2024, 15:47:36) [GCC 11.4.0]\n",
              "Linux-6.1.85+-x86_64-with-glibc2.35\n",
              "-----\n",
              "Session information updated at 2024-10-29 06:03\n",
              "</pre>\n",
              "</details>"
            ]
          },
          "metadata": {},
          "execution_count": 3
        }
      ],
      "source": [
        "session_info.show(excludes= [\"backports\"])"
      ]
    },
    {
      "cell_type": "markdown",
      "metadata": {
        "id": "SN0wIDUjPahn"
      },
      "source": [
        "### Authentication"
      ]
    },
    {
      "cell_type": "code",
      "execution_count": 4,
      "metadata": {
        "id": "cxLhZIviPahn"
      },
      "outputs": [],
      "source": [
        "with open('config.json', 'r') as az_creds:\n",
        "    data = az_creds.read()"
      ]
    },
    {
      "cell_type": "code",
      "execution_count": 7,
      "metadata": {
        "id": "nL9GpBEVPahn"
      },
      "outputs": [],
      "source": [
        "creds = json.loads(data)"
      ]
    },
    {
      "cell_type": "code",
      "execution_count": 8,
      "metadata": {
        "id": "Ud7bPDquPahp"
      },
      "outputs": [],
      "source": [
        "client = AzureOpenAI(\n",
        "    azure_endpoint=creds[\"AZURE_OPENAI_ENDPOINT\"],\n",
        "    api_key=creds[\"AZURE_OPENAI_KEY\"],\n",
        "    api_version=creds[\"AZURE_OPENAI_APIVERSION\"]\n",
        ")"
      ]
    },
    {
      "cell_type": "code",
      "execution_count": 9,
      "metadata": {
        "id": "Atf3l2mNPahp"
      },
      "outputs": [],
      "source": [
        "chat_model_id = creds[\"CHATGPT_MODEL\"]"
      ]
    },
    {
      "cell_type": "markdown",
      "metadata": {
        "id": "HQpkd5elTMhd"
      },
      "source": [
        "### Utilities"
      ]
    },
    {
      "cell_type": "code",
      "execution_count": 10,
      "metadata": {
        "id": "V5Gp-_CxPahp"
      },
      "outputs": [],
      "source": [
        "def num_tokens_from_messages(messages):\n",
        "\n",
        "    \"\"\"\n",
        "    Return the number of tokens used by a list of messages.\n",
        "    Adapted from the Open AI cookbook token counter\n",
        "    \"\"\"\n",
        "\n",
        "    encoding = tiktoken.encoding_for_model(\"gpt-3.5-turbo\")\n",
        "\n",
        "    # Each message is sandwiched with <|start|>role and <|end|>\n",
        "    # Hence, messages look like: <|start|>system or user or assistant{message}<|end|>\n",
        "\n",
        "    tokens_per_message = 3 # token1:<|start|>, token2:system(or user or assistant), token3:<|end|>\n",
        "\n",
        "    num_tokens = 0\n",
        "\n",
        "    for message in messages:\n",
        "        num_tokens += tokens_per_message\n",
        "        for key, value in message.items():\n",
        "            num_tokens += len(encoding.encode(value))\n",
        "\n",
        "    num_tokens += 3  # every reply is primed with <|start|>assistant<|message|>\n",
        "\n",
        "    return num_tokens"
      ]
    },
    {
      "cell_type": "markdown",
      "metadata": {
        "id": "3sP7s5TDPahq"
      },
      "source": [
        "## Task : Sentiment Analysis"
      ]
    },
    {
      "cell_type": "code",
      "execution_count": 26,
      "metadata": {
        "id": "SA5Cyqgk5kgB"
      },
      "outputs": [],
      "source": [
        " cs_reviews_df = pd.read_csv(\"courier-service_reviews.csv\")\n"
      ]
    },
    {
      "cell_type": "code",
      "execution_count": 27,
      "metadata": {
        "colab": {
          "base_uri": "https://localhost:8080/"
        },
        "id": "a-NSh5_p7V5E",
        "outputId": "859ed5ce-01be-4dfc-b190-79ea42da7827"
      },
      "outputs": [
        {
          "output_type": "stream",
          "name": "stdout",
          "text": [
            "<class 'pandas.core.frame.DataFrame'>\n",
            "RangeIndex: 131 entries, 0 to 130\n",
            "Data columns (total 3 columns):\n",
            " #   Column     Non-Null Count  Dtype \n",
            "---  ------     --------------  ----- \n",
            " 0   id         131 non-null    int64 \n",
            " 1   review     131 non-null    object\n",
            " 2   sentiment  131 non-null    object\n",
            "dtypes: int64(1), object(2)\n",
            "memory usage: 3.2+ KB\n"
          ]
        }
      ],
      "source": [
        "cs_reviews_df.info()"
      ]
    },
    {
      "cell_type": "code",
      "source": [
        "cs_reviews_df['sentiment']= cs_reviews_df['sentiment'].str.lower()\n",
        "cs_reviews_df['review']=cs_reviews_df['review'].str.lower()"
      ],
      "metadata": {
        "id": "rAa8YFk25O91"
      },
      "execution_count": 28,
      "outputs": []
    },
    {
      "cell_type": "code",
      "execution_count": 29,
      "metadata": {
        "colab": {
          "base_uri": "https://localhost:8080/",
          "height": 206
        },
        "id": "UJmr1iJ5_tNm",
        "outputId": "41813768-dd00-42df-ae2e-a325cc684ec8"
      },
      "outputs": [
        {
          "output_type": "execute_result",
          "data": {
            "text/plain": [
              "      id                                             review sentiment\n",
              "124  125  i encountered numerous issues with expressway ...  negative\n",
              "54    55  the delivery executive from expressway logisti...  negative\n",
              "42    43  i encountered numerous issues with expressway ...  negative\n",
              "127  128  while expressway logistics' pricing is competi...  negative\n",
              "111  112  i had a disappointing experience with expressw...  negative"
            ],
            "text/html": [
              "\n",
              "  <div id=\"df-f6ccbbe0-35a9-40a3-8d13-920e88004d92\" class=\"colab-df-container\">\n",
              "    <div>\n",
              "<style scoped>\n",
              "    .dataframe tbody tr th:only-of-type {\n",
              "        vertical-align: middle;\n",
              "    }\n",
              "\n",
              "    .dataframe tbody tr th {\n",
              "        vertical-align: top;\n",
              "    }\n",
              "\n",
              "    .dataframe thead th {\n",
              "        text-align: right;\n",
              "    }\n",
              "</style>\n",
              "<table border=\"1\" class=\"dataframe\">\n",
              "  <thead>\n",
              "    <tr style=\"text-align: right;\">\n",
              "      <th></th>\n",
              "      <th>id</th>\n",
              "      <th>review</th>\n",
              "      <th>sentiment</th>\n",
              "    </tr>\n",
              "  </thead>\n",
              "  <tbody>\n",
              "    <tr>\n",
              "      <th>124</th>\n",
              "      <td>125</td>\n",
              "      <td>i encountered numerous issues with expressway ...</td>\n",
              "      <td>negative</td>\n",
              "    </tr>\n",
              "    <tr>\n",
              "      <th>54</th>\n",
              "      <td>55</td>\n",
              "      <td>the delivery executive from expressway logisti...</td>\n",
              "      <td>negative</td>\n",
              "    </tr>\n",
              "    <tr>\n",
              "      <th>42</th>\n",
              "      <td>43</td>\n",
              "      <td>i encountered numerous issues with expressway ...</td>\n",
              "      <td>negative</td>\n",
              "    </tr>\n",
              "    <tr>\n",
              "      <th>127</th>\n",
              "      <td>128</td>\n",
              "      <td>while expressway logistics' pricing is competi...</td>\n",
              "      <td>negative</td>\n",
              "    </tr>\n",
              "    <tr>\n",
              "      <th>111</th>\n",
              "      <td>112</td>\n",
              "      <td>i had a disappointing experience with expressw...</td>\n",
              "      <td>negative</td>\n",
              "    </tr>\n",
              "  </tbody>\n",
              "</table>\n",
              "</div>\n",
              "    <div class=\"colab-df-buttons\">\n",
              "\n",
              "  <div class=\"colab-df-container\">\n",
              "    <button class=\"colab-df-convert\" onclick=\"convertToInteractive('df-f6ccbbe0-35a9-40a3-8d13-920e88004d92')\"\n",
              "            title=\"Convert this dataframe to an interactive table.\"\n",
              "            style=\"display:none;\">\n",
              "\n",
              "  <svg xmlns=\"http://www.w3.org/2000/svg\" height=\"24px\" viewBox=\"0 -960 960 960\">\n",
              "    <path d=\"M120-120v-720h720v720H120Zm60-500h600v-160H180v160Zm220 220h160v-160H400v160Zm0 220h160v-160H400v160ZM180-400h160v-160H180v160Zm440 0h160v-160H620v160ZM180-180h160v-160H180v160Zm440 0h160v-160H620v160Z\"/>\n",
              "  </svg>\n",
              "    </button>\n",
              "\n",
              "  <style>\n",
              "    .colab-df-container {\n",
              "      display:flex;\n",
              "      gap: 12px;\n",
              "    }\n",
              "\n",
              "    .colab-df-convert {\n",
              "      background-color: #E8F0FE;\n",
              "      border: none;\n",
              "      border-radius: 50%;\n",
              "      cursor: pointer;\n",
              "      display: none;\n",
              "      fill: #1967D2;\n",
              "      height: 32px;\n",
              "      padding: 0 0 0 0;\n",
              "      width: 32px;\n",
              "    }\n",
              "\n",
              "    .colab-df-convert:hover {\n",
              "      background-color: #E2EBFA;\n",
              "      box-shadow: 0px 1px 2px rgba(60, 64, 67, 0.3), 0px 1px 3px 1px rgba(60, 64, 67, 0.15);\n",
              "      fill: #174EA6;\n",
              "    }\n",
              "\n",
              "    .colab-df-buttons div {\n",
              "      margin-bottom: 4px;\n",
              "    }\n",
              "\n",
              "    [theme=dark] .colab-df-convert {\n",
              "      background-color: #3B4455;\n",
              "      fill: #D2E3FC;\n",
              "    }\n",
              "\n",
              "    [theme=dark] .colab-df-convert:hover {\n",
              "      background-color: #434B5C;\n",
              "      box-shadow: 0px 1px 3px 1px rgba(0, 0, 0, 0.15);\n",
              "      filter: drop-shadow(0px 1px 2px rgba(0, 0, 0, 0.3));\n",
              "      fill: #FFFFFF;\n",
              "    }\n",
              "  </style>\n",
              "\n",
              "    <script>\n",
              "      const buttonEl =\n",
              "        document.querySelector('#df-f6ccbbe0-35a9-40a3-8d13-920e88004d92 button.colab-df-convert');\n",
              "      buttonEl.style.display =\n",
              "        google.colab.kernel.accessAllowed ? 'block' : 'none';\n",
              "\n",
              "      async function convertToInteractive(key) {\n",
              "        const element = document.querySelector('#df-f6ccbbe0-35a9-40a3-8d13-920e88004d92');\n",
              "        const dataTable =\n",
              "          await google.colab.kernel.invokeFunction('convertToInteractive',\n",
              "                                                    [key], {});\n",
              "        if (!dataTable) return;\n",
              "\n",
              "        const docLinkHtml = 'Like what you see? Visit the ' +\n",
              "          '<a target=\"_blank\" href=https://colab.research.google.com/notebooks/data_table.ipynb>data table notebook</a>'\n",
              "          + ' to learn more about interactive tables.';\n",
              "        element.innerHTML = '';\n",
              "        dataTable['output_type'] = 'display_data';\n",
              "        await google.colab.output.renderOutput(dataTable, element);\n",
              "        const docLink = document.createElement('div');\n",
              "        docLink.innerHTML = docLinkHtml;\n",
              "        element.appendChild(docLink);\n",
              "      }\n",
              "    </script>\n",
              "  </div>\n",
              "\n",
              "\n",
              "<div id=\"df-10b6b3d4-9320-4405-9169-316db2855c26\">\n",
              "  <button class=\"colab-df-quickchart\" onclick=\"quickchart('df-10b6b3d4-9320-4405-9169-316db2855c26')\"\n",
              "            title=\"Suggest charts\"\n",
              "            style=\"display:none;\">\n",
              "\n",
              "<svg xmlns=\"http://www.w3.org/2000/svg\" height=\"24px\"viewBox=\"0 0 24 24\"\n",
              "     width=\"24px\">\n",
              "    <g>\n",
              "        <path d=\"M19 3H5c-1.1 0-2 .9-2 2v14c0 1.1.9 2 2 2h14c1.1 0 2-.9 2-2V5c0-1.1-.9-2-2-2zM9 17H7v-7h2v7zm4 0h-2V7h2v10zm4 0h-2v-4h2v4z\"/>\n",
              "    </g>\n",
              "</svg>\n",
              "  </button>\n",
              "\n",
              "<style>\n",
              "  .colab-df-quickchart {\n",
              "      --bg-color: #E8F0FE;\n",
              "      --fill-color: #1967D2;\n",
              "      --hover-bg-color: #E2EBFA;\n",
              "      --hover-fill-color: #174EA6;\n",
              "      --disabled-fill-color: #AAA;\n",
              "      --disabled-bg-color: #DDD;\n",
              "  }\n",
              "\n",
              "  [theme=dark] .colab-df-quickchart {\n",
              "      --bg-color: #3B4455;\n",
              "      --fill-color: #D2E3FC;\n",
              "      --hover-bg-color: #434B5C;\n",
              "      --hover-fill-color: #FFFFFF;\n",
              "      --disabled-bg-color: #3B4455;\n",
              "      --disabled-fill-color: #666;\n",
              "  }\n",
              "\n",
              "  .colab-df-quickchart {\n",
              "    background-color: var(--bg-color);\n",
              "    border: none;\n",
              "    border-radius: 50%;\n",
              "    cursor: pointer;\n",
              "    display: none;\n",
              "    fill: var(--fill-color);\n",
              "    height: 32px;\n",
              "    padding: 0;\n",
              "    width: 32px;\n",
              "  }\n",
              "\n",
              "  .colab-df-quickchart:hover {\n",
              "    background-color: var(--hover-bg-color);\n",
              "    box-shadow: 0 1px 2px rgba(60, 64, 67, 0.3), 0 1px 3px 1px rgba(60, 64, 67, 0.15);\n",
              "    fill: var(--button-hover-fill-color);\n",
              "  }\n",
              "\n",
              "  .colab-df-quickchart-complete:disabled,\n",
              "  .colab-df-quickchart-complete:disabled:hover {\n",
              "    background-color: var(--disabled-bg-color);\n",
              "    fill: var(--disabled-fill-color);\n",
              "    box-shadow: none;\n",
              "  }\n",
              "\n",
              "  .colab-df-spinner {\n",
              "    border: 2px solid var(--fill-color);\n",
              "    border-color: transparent;\n",
              "    border-bottom-color: var(--fill-color);\n",
              "    animation:\n",
              "      spin 1s steps(1) infinite;\n",
              "  }\n",
              "\n",
              "  @keyframes spin {\n",
              "    0% {\n",
              "      border-color: transparent;\n",
              "      border-bottom-color: var(--fill-color);\n",
              "      border-left-color: var(--fill-color);\n",
              "    }\n",
              "    20% {\n",
              "      border-color: transparent;\n",
              "      border-left-color: var(--fill-color);\n",
              "      border-top-color: var(--fill-color);\n",
              "    }\n",
              "    30% {\n",
              "      border-color: transparent;\n",
              "      border-left-color: var(--fill-color);\n",
              "      border-top-color: var(--fill-color);\n",
              "      border-right-color: var(--fill-color);\n",
              "    }\n",
              "    40% {\n",
              "      border-color: transparent;\n",
              "      border-right-color: var(--fill-color);\n",
              "      border-top-color: var(--fill-color);\n",
              "    }\n",
              "    60% {\n",
              "      border-color: transparent;\n",
              "      border-right-color: var(--fill-color);\n",
              "    }\n",
              "    80% {\n",
              "      border-color: transparent;\n",
              "      border-right-color: var(--fill-color);\n",
              "      border-bottom-color: var(--fill-color);\n",
              "    }\n",
              "    90% {\n",
              "      border-color: transparent;\n",
              "      border-bottom-color: var(--fill-color);\n",
              "    }\n",
              "  }\n",
              "</style>\n",
              "\n",
              "  <script>\n",
              "    async function quickchart(key) {\n",
              "      const quickchartButtonEl =\n",
              "        document.querySelector('#' + key + ' button');\n",
              "      quickchartButtonEl.disabled = true;  // To prevent multiple clicks.\n",
              "      quickchartButtonEl.classList.add('colab-df-spinner');\n",
              "      try {\n",
              "        const charts = await google.colab.kernel.invokeFunction(\n",
              "            'suggestCharts', [key], {});\n",
              "      } catch (error) {\n",
              "        console.error('Error during call to suggestCharts:', error);\n",
              "      }\n",
              "      quickchartButtonEl.classList.remove('colab-df-spinner');\n",
              "      quickchartButtonEl.classList.add('colab-df-quickchart-complete');\n",
              "    }\n",
              "    (() => {\n",
              "      let quickchartButtonEl =\n",
              "        document.querySelector('#df-10b6b3d4-9320-4405-9169-316db2855c26 button');\n",
              "      quickchartButtonEl.style.display =\n",
              "        google.colab.kernel.accessAllowed ? 'block' : 'none';\n",
              "    })();\n",
              "  </script>\n",
              "</div>\n",
              "\n",
              "    </div>\n",
              "  </div>\n"
            ],
            "application/vnd.google.colaboratory.intrinsic+json": {
              "type": "dataframe",
              "summary": "{\n  \"name\": \"cs_reviews_df\",\n  \"rows\": 5,\n  \"fields\": [\n    {\n      \"column\": \"id\",\n      \"properties\": {\n        \"dtype\": \"number\",\n        \"std\": 40,\n        \"min\": 43,\n        \"max\": 128,\n        \"num_unique_values\": 5,\n        \"samples\": [\n          55,\n          112,\n          43\n        ],\n        \"semantic_type\": \"\",\n        \"description\": \"\"\n      }\n    },\n    {\n      \"column\": \"review\",\n      \"properties\": {\n        \"dtype\": \"string\",\n        \"num_unique_values\": 5,\n        \"samples\": [\n          \"the delivery executive from expressway logistics was a complete disappointment. they arrived late for the scheduled delivery and showed little regard for the package's fragile contents.\",\n          \"i had a disappointing experience with expressway logistics recently. despite paying for expedited shipping, my package arrived several days later than promised. the lack of communication about the delay was frustrating, and when i reached out for an explanation, i received vague responses that didn't address my concerns. overall, the experience left me feeling frustrated and let down by expressway logistics' lack of reliability.\",\n          \"i encountered numerous issues with expressway logistics' customer service department when trying to resolve a problem with my shipment. despite multiple attempts to reach them by phone and email, i was met with long wait times and unhelpful responses from representatives who seemed uninformed about company policies. the lack of professionalism and accountability from expressway logistics' customer service team only exacerbated my frustration and soured my overall experience.\"\n        ],\n        \"semantic_type\": \"\",\n        \"description\": \"\"\n      }\n    },\n    {\n      \"column\": \"sentiment\",\n      \"properties\": {\n        \"dtype\": \"category\",\n        \"num_unique_values\": 1,\n        \"samples\": [\n          \"negative\"\n        ],\n        \"semantic_type\": \"\",\n        \"description\": \"\"\n      }\n    }\n  ]\n}"
            }
          },
          "metadata": {},
          "execution_count": 29
        }
      ],
      "source": [
        "cs_reviews_df.sample(5)"
      ]
    },
    {
      "cell_type": "code",
      "execution_count": 30,
      "metadata": {
        "colab": {
          "base_uri": "https://localhost:8080/",
          "height": 178
        },
        "id": "O5AbhvRV9o-e",
        "outputId": "2f96c467-e227-4200-f3a9-e7ece0ec8455"
      },
      "outputs": [
        {
          "output_type": "execute_result",
          "data": {
            "text/plain": [
              "sentiment\n",
              "positive    68\n",
              "negative    63\n",
              "Name: count, dtype: int64"
            ],
            "text/html": [
              "<div>\n",
              "<style scoped>\n",
              "    .dataframe tbody tr th:only-of-type {\n",
              "        vertical-align: middle;\n",
              "    }\n",
              "\n",
              "    .dataframe tbody tr th {\n",
              "        vertical-align: top;\n",
              "    }\n",
              "\n",
              "    .dataframe thead th {\n",
              "        text-align: right;\n",
              "    }\n",
              "</style>\n",
              "<table border=\"1\" class=\"dataframe\">\n",
              "  <thead>\n",
              "    <tr style=\"text-align: right;\">\n",
              "      <th></th>\n",
              "      <th>count</th>\n",
              "    </tr>\n",
              "    <tr>\n",
              "      <th>sentiment</th>\n",
              "      <th></th>\n",
              "    </tr>\n",
              "  </thead>\n",
              "  <tbody>\n",
              "    <tr>\n",
              "      <th>positive</th>\n",
              "      <td>68</td>\n",
              "    </tr>\n",
              "    <tr>\n",
              "      <th>negative</th>\n",
              "      <td>63</td>\n",
              "    </tr>\n",
              "  </tbody>\n",
              "</table>\n",
              "</div><br><label><b>dtype:</b> int64</label>"
            ]
          },
          "metadata": {},
          "execution_count": 30
        }
      ],
      "source": [
        "cs_reviews_df.sentiment.value_counts()"
      ]
    },
    {
      "cell_type": "code",
      "execution_count": 31,
      "metadata": {
        "colab": {
          "base_uri": "https://localhost:8080/"
        },
        "id": "l3Z0q0b6zgGT",
        "outputId": "779c28a5-d217-4291-aab1-272e62076184"
      },
      "outputs": [
        {
          "output_type": "execute_result",
          "data": {
            "text/plain": [
              "(131, 3)"
            ]
          },
          "metadata": {},
          "execution_count": 31
        }
      ],
      "source": [
        "cs_reviews_df.shape"
      ]
    },
    {
      "cell_type": "markdown",
      "source": [
        "Split The Dataset"
      ],
      "metadata": {
        "id": "H6hNkjn84TUg"
      }
    },
    {
      "cell_type": "code",
      "execution_count": 32,
      "metadata": {
        "id": "dkXtXbc9N5rC"
      },
      "outputs": [],
      "source": [
        "cs_examples_df, cs_gold_examples_df = train_test_split(\n",
        "    cs_reviews_df, #<- the full dataset\n",
        "    test_size=0.2, #<- 20% random sample selected for gold examples\n",
        "    random_state=42 #<- ensures that the splits are the same for every session\n",
        ")"
      ]
    },
    {
      "cell_type": "code",
      "execution_count": 33,
      "metadata": {
        "colab": {
          "base_uri": "https://localhost:8080/"
        },
        "id": "bGSj2dfZOMW-",
        "outputId": "685a3fbf-41eb-42a4-fa71-ae0573fa0c5a"
      },
      "outputs": [
        {
          "output_type": "execute_result",
          "data": {
            "text/plain": [
              "((104, 3), (27, 3))"
            ]
          },
          "metadata": {},
          "execution_count": 33
        }
      ],
      "source": [
        "(cs_examples_df.shape, cs_gold_examples_df.shape)"
      ]
    },
    {
      "cell_type": "markdown",
      "metadata": {
        "id": "2ExVGFPl4tdx"
      },
      "source": [
        "To select gold examples for this session, we sample randomly from the test data using a `random_state=42`. This ensures that the examples from multiple runs of the sampling are the same (i.e., they are randomly selected but do not change between different runs of the notebook). Note that we are doing this only to keep execution times low for illustration. In practise, large number of gold examples facilitate robust estimates of model accuracy."
      ]
    },
    {
      "cell_type": "code",
      "execution_count": 34,
      "metadata": {
        "id": "YLj4LVu_Ozc_"
      },
      "outputs": [],
      "source": [
        "columns_to_select = ['review','sentiment']"
      ]
    },
    {
      "cell_type": "code",
      "execution_count": 35,
      "metadata": {
        "id": "nDIZm2RdMsDt"
      },
      "outputs": [],
      "source": [
        "gold_examples = (\n",
        "        cs_gold_examples_df.loc[:, columns_to_select]\n",
        "                                     .sample(21, random_state=42) #<- ensures that gold examples are the same for every session\n",
        "                                     .to_json(orient='records')\n",
        ")"
      ]
    },
    {
      "cell_type": "code",
      "execution_count": 36,
      "metadata": {
        "colab": {
          "base_uri": "https://localhost:8080/",
          "height": 145
        },
        "id": "5AcH3eqgzgGV",
        "outputId": "19f59f46-460e-486d-e445-b340959de8dc"
      },
      "outputs": [
        {
          "output_type": "execute_result",
          "data": {
            "text/plain": [
              "'[{\"review\":\"the delivery executive assigned by expressway logistics was courteous and professional during the delivery process. they tried their best to handle the package with care.unfortunately, the package arrived with slight damage despite the delivery executive\\'s efforts. the packaging seemed more than adequate to protect the contents during transit.\",\"sentiment\":\"positive\"},{\"review\":\"expressway logistics failed to meet my expectations. the delivery was delayed, and the customer support team was unresponsive and unhelpful when i tried to inquire about the status of my parcel.\",\"sentiment\":\"negative\"},{\"review\":\"expressway logistics\\' incompetence resulted in a major inconvenience when my package was delivered to the wrong recipient. despite providing accurate delivery information, the package ended up in the hands of someone else, and efforts to retrieve it were unsuccessful. when i contacted customer service for assistance, i was met with apathy and a lack of urgency. their failure to rectify the situation in a timely manner is unacceptable, and i will be avoiding their services at all costs.\",\"sentiment\":\"negative\"},{\"review\":\"kudos to expressway logistics for their outstanding service! they\\'ve been an essential partner for my business, handling all our shipping needs with professionalism and efficiency. if you\\'re looking for a reliable logistic service provider, look no further than expressway logistics.\",\"sentiment\":\"positive\"},{\"review\":\"expressway logistics offers a convenient online platform for booking shipments, and their competitive rates initially drew me in. however, the frequent delays in delivery and lack of transparency regarding additional fees have soured my experience. while their customer service representatives are polite, they often seem powerless to resolve issues effectively.this lack of care and responsibilites from the concerned teams have led me unsatisfied and irritated.i cannot trust and rely on this again.will definitely not contact them ever for my courier deliveries!\",\"sentiment\":\"negative\"},{\"review\":\"planning a destination wedding is undoubtedly a daunting task, especially when it comes to coordinating transportation for guests and wedding essentials. fortunately, expressway logistics made this aspect of our wedding planning effortless. from the beginning, they were attentive to our needs and provided valuable insights to streamline the process.\",\"sentiment\":\"positive\"},{\"review\":\"expressway logistics consistently delivers on its promises, providing fast, efficient, and reliable courier services that exceeded my expectations.\",\"sentiment\":\"positive\"},{\"review\":\"i needed to ship perishable items internationally, and expressway logistics handled the process flawlessly. they ensured that the items were properly packaged and transported in temperature-controlled conditions.\",\"sentiment\":\"positive\"},{\"review\":\"i appreciated the flexibility offered by expressway logistics in terms of delivery options. their range of delivery speeds and service levels allowed me to choose the option that best suited my needs and budget.however, i was slightly disappointed by the lack of transparency regarding few additional fees and surcharges. i selected a specific delivery option and paid minor charges at checkout, which undermined the initial affordability of the service..\",\"sentiment\":\"negative\"},{\"review\":\"while expressway logistics\\' pricing is competitive, their lack of accountability for delays and damages is disappointing. it\\'s frustrating to pay for a service that fails to deliver on its promises consistently.\",\"sentiment\":\"negative\"},{\"review\":\"expressway logistics\\' pricing may seem attractive at first glance, but beware of some internal hidden fees that may sometimes add up. coupled with their reliable delivery times, it\\'s simply not worth the hassle.but still i appreciate that my parcel got delivered safely a day after the promised window.\",\"sentiment\":\"positive\"},{\"review\":\"expressway logistics has been my go-to courier service for years, primarily due to their extensive network coverage and competitive pricing. however, my recent experience has left me questioning their reliability. while their user-friendly website and efficient booking process remain commendable, the repeated delays in delivery and lack of proactive communication have been disappointing.despite these setbacks, their customer service team has always been courteous and responsive, attempting to address my concerns promptly.\",\"sentiment\":\"negative\"},{\"review\":\"expressway logistics\\' incompetence led to the loss of my parcel, and their lack of accountability only added to the frustration. despite filing a claim and providing evidence of the missing items, i received no assistance or compensation for the lost package. their negligence and disregard for customer satisfaction are unacceptable, and i will be exploring legal options to recoup the value of the lost items.\",\"sentiment\":\"negative\"},{\"review\":\"i was deeply disappointed by the behavior of the delivery executive from expressway logistics. they exhibited a complete disregard for customer satisfaction, arriving late and mishandling the package upon delivery. despite raising my concerns with expressway logistics, there was no acknowledgment or resolution provided.\",\"sentiment\":\"negative\"},{\"review\":\"as a frequent traveler, i often use expressway logistics to ship luggage and personal belongings ahead of time. their door-to-door service and reliable tracking make traveling a breeze.\",\"sentiment\":\"positive\"},{\"review\":\"expressway logistics caught my attention with its promise of seamless shipping solutions and a comprehensive network. however, my recent experiences have revealed some significant shortcomings. their online platform is disgusting and their tracking system is inaccurate.i\\'ve encountered repeated issues with inaccurate weight calculations that have led to unexpected charges. moreover, the limited options for customizing shipment preferences have made it challenging to meet my requirements.i cannot rely upon it for my future requirements.it failed to meet my requirements.\",\"sentiment\":\"negative\"},{\"review\":\"the packaging provided by expressway logistics is always secure and well-protected, and ensured that my items arrive in perfect condition.\",\"sentiment\":\"positive\"},{\"review\":\"my recent experience with expressway logistics left me thoroughly impressed. i had a highly time-sensitive shipment that required delicate handling and precise coordination. despite the challenges, expressway rose to the occasion, demonstrating an unparalleled level of professionalism and efficiency. their team meticulously planned every aspect of the shipment, from packaging to transportation, ensuring that no detail was overlooked. \",\"sentiment\":\"positive\"},{\"review\":\"i was initially impressed by expressway logistics\\' promise of reliability and affordability, but my recent encounters have been less than satisfactory. their website is so irritating and their drivers are too harsh, the repeated delays in delivery have been frustrating. additionally, the discovery of hidden fees within their pricing structure has left me feeling misled. in addition to these challenges, their customer service team has been inattentive and disrespectful, which has degraded the overall experience.not at all recommend! \",\"sentiment\":\"negative\"},{\"review\":\"thumbs up to expressway for their prompt responses and reliable shipping solutions. impressed!\",\"sentiment\":\"positive\"},{\"review\":\"i had a terrible experience with expressway logistics. not only was my pickup delayed, but the packaging was not done intactly, and the customer support team was unresponsive when i tried to raise the issue.\",\"sentiment\":\"negative\"}]'"
            ],
            "application/vnd.google.colaboratory.intrinsic+json": {
              "type": "string"
            }
          },
          "metadata": {},
          "execution_count": 36
        }
      ],
      "source": [
        "gold_examples"
      ]
    },
    {
      "cell_type": "code",
      "execution_count": 37,
      "metadata": {
        "colab": {
          "base_uri": "https://localhost:8080/"
        },
        "id": "r8J58KMMM95s",
        "outputId": "62716578-dec0-4834-cd7e-8862331afcb9"
      },
      "outputs": [
        {
          "output_type": "execute_result",
          "data": {
            "text/plain": [
              "{'review': \"the delivery executive assigned by expressway logistics was courteous and professional during the delivery process. they tried their best to handle the package with care.unfortunately, the package arrived with slight damage despite the delivery executive's efforts. the packaging seemed more than adequate to protect the contents during transit.\",\n",
              " 'sentiment': 'positive'}"
            ]
          },
          "metadata": {},
          "execution_count": 37
        }
      ],
      "source": [
        "json.loads(gold_examples)[0]     #Json format"
      ]
    },
    {
      "cell_type": "markdown",
      "source": [
        "Derive Prompt"
      ],
      "metadata": {
        "id": "_Vr_q_mj4iti"
      }
    },
    {
      "cell_type": "code",
      "execution_count": 38,
      "metadata": {
        "id": "NfDUKbCgPahu"
      },
      "outputs": [],
      "source": [
        "user_message_template = \"\"\"```{courier_service_review}```\"\"\""
      ]
    },
    {
      "cell_type": "markdown",
      "metadata": {
        "id": "X3uS8NWfNqBG"
      },
      "source": [
        "(A) Write Zero Shot System Message"
      ]
    },
    {
      "cell_type": "code",
      "execution_count": 39,
      "metadata": {
        "id": "J79_IaxHJdY2"
      },
      "outputs": [],
      "source": [
        "zero_shot_system_message = \"\"\"\n",
        "Classify the following review presented in the input into one of the following sentiment.\n",
        "sentiment - ['negative', 'positive']\n",
        "review will be delimited by triple backticks in the input.\n",
        "Answer only 'negative' or 'positive'. Nothing Else. Do not explain your answer.\n",
        "\"\"\"\n"
      ]
    },
    {
      "cell_type": "markdown",
      "metadata": {
        "id": "46AWalvrLTxs"
      },
      "source": [
        "Create Zero Shot Prompt"
      ]
    },
    {
      "cell_type": "code",
      "execution_count": 40,
      "metadata": {
        "id": "t8cjNjiJJpzc"
      },
      "outputs": [],
      "source": [
        "zero_shot_prompt = [{'role':'system', 'content': zero_shot_system_message}]\n"
      ]
    },
    {
      "cell_type": "code",
      "execution_count": 41,
      "metadata": {
        "colab": {
          "base_uri": "https://localhost:8080/"
        },
        "id": "xlbBt1u_OJEz",
        "outputId": "87a785dd-2b78-448b-e250-0a6ce2d95b73"
      },
      "outputs": [
        {
          "output_type": "execute_result",
          "data": {
            "text/plain": [
              "63"
            ]
          },
          "metadata": {},
          "execution_count": 41
        }
      ],
      "source": [
        "num_tokens_from_messages(zero_shot_prompt)"
      ]
    },
    {
      "cell_type": "markdown",
      "source": [
        " Write Few Shot System Message"
      ],
      "metadata": {
        "id": "48bF42gAyQ7Q"
      }
    },
    {
      "cell_type": "code",
      "execution_count": 42,
      "metadata": {
        "id": "2nrW4jzGLdce"
      },
      "outputs": [],
      "source": [
        "few_shot_system_message = \"\"\"\n",
        "Classify the following review presented in the input into one of the following sentiment.\n",
        "sentiment - ['negative', 'positive']\n",
        "review will be delimited by triple backticks in the input.\n",
        "Answer only 'negative' or 'positive'. Nothing Else. Do not explain your answer.\n",
        "\"\"\""
      ]
    },
    {
      "cell_type": "markdown",
      "metadata": {
        "id": "d3ExNtgPRDhJ"
      },
      "source": [
        "Merely selecting random samples from the polarity subsets is not enough because the examples included in a prompt are prone to a set of known biases such as:\n",
        " - Majority label bias (frequent answers in predictions)\n",
        " - Recency bias (examples near the end of the prompt)\n"
      ]
    },
    {
      "cell_type": "markdown",
      "metadata": {
        "id": "bEA_Ab2FRrYB"
      },
      "source": [
        "To avoid these biases, it is important to have a balanced set of examples that are arranged in random order. Let us create a Python function that generates bias-free examples:"
      ]
    },
    {
      "cell_type": "code",
      "execution_count": 43,
      "metadata": {
        "id": "Qb0mLtE9R7ZA"
      },
      "outputs": [],
      "source": [
        "def create_examples(dataset, n=4):\n",
        "\n",
        "    \"\"\"\n",
        "    Return a JSON list of randomized examples of size 2n with two classes.\n",
        "    Create subsets of each class, choose random samples from the subsets,\n",
        "    merge and randomize the order of samples in the merged list.\n",
        "    Each run of this function creates a different random sample of examples\n",
        "    chosen from the training data.\n",
        "\n",
        "    Args:\n",
        "        dataset (DataFrame): A DataFrame with examples (review + label)\n",
        "        n (int): number of examples of each class to be selected\n",
        "\n",
        "    Output:\n",
        "        randomized_examples (JSON): A JSON with examples in random order\n",
        "    \"\"\"\n",
        "\n",
        "    positive_reviews = (dataset.sentiment == 'positive')\n",
        "    negative_reviews = (dataset.sentiment == 'negative')\n",
        "    columns_to_select = ['review', 'sentiment']\n",
        "\n",
        "    positive_examples = dataset.loc[positive_reviews, columns_to_select].sample(n)\n",
        "    negative_examples = dataset.loc[negative_reviews, columns_to_select].sample(n)\n",
        "\n",
        "    examples = pd.concat([positive_examples, negative_examples])\n",
        "\n",
        "    # sampling without replacement is equivalent to random shuffling\n",
        "\n",
        "    randomized_examples = examples.sample(2*n, replace=False)\n",
        "\n",
        "    return randomized_examples.to_json(orient='records')"
      ]
    },
    {
      "cell_type": "markdown",
      "source": [
        "Create Examples For Few shot prompt"
      ],
      "metadata": {
        "id": "vHhPExVTyO93"
      }
    },
    {
      "cell_type": "code",
      "execution_count": 44,
      "metadata": {
        "id": "jb1VpSgZPaht"
      },
      "outputs": [],
      "source": [
        "examples = create_examples(cs_examples_df, 2)\n"
      ]
    },
    {
      "cell_type": "code",
      "execution_count": 45,
      "metadata": {
        "colab": {
          "base_uri": "https://localhost:8080/"
        },
        "id": "dJInVW2PSucc",
        "outputId": "160bb8b4-6500-4997-b479-3ff3a9a865f9"
      },
      "outputs": [
        {
          "output_type": "execute_result",
          "data": {
            "text/plain": [
              "[{'review': \"expressway logistics promises efficient delivery, but their drivers seem careless and unprofessional. i've received damaged goods more than once, indicating a lack of proper handling procedures.\",\n",
              "  'sentiment': 'negative'},\n",
              " {'review': 'expressway logistics makes shipping hassle-free.their tracking system is top-notch, giving me peace of mind every step of the way.i highly recommend expressway logistics for all your shipping needs.',\n",
              "  'sentiment': 'positive'},\n",
              " {'review': 'expressway logistics is known for its prompt delivery times.it ensured that my parcels arrive well ahead of schedule.i am happy with the service.',\n",
              "  'sentiment': 'positive'},\n",
              " {'review': \"expressway logistics presents itself as a modern logistics solution with a focus on customer satisfaction. however, my recent experiences have highlighted some notable drawbacks. while their website offers a seamless booking experience and their packaging options are diverse, i've encountered issues with the accuracy of delivery addresses. this has led to missed deliveries and unnecessary delays, impacting my overall experience. additionally, the limited flexibility in scheduling pickup times has been inconvenient. i cannot trust on this level of service anymore definitely.overall,i am disappointed and irritated by the level of services offered to me inspite of paying high charges! \",\n",
              "  'sentiment': 'negative'}]"
            ]
          },
          "metadata": {},
          "execution_count": 45
        }
      ],
      "source": [
        "json.loads(examples)"
      ]
    },
    {
      "cell_type": "markdown",
      "metadata": {
        "id": "PEnNkOzJSwTk"
      },
      "source": [
        "With the examples in place, we can now assemble a few-shot prompt. Since we will be using the few-shot prompt several times during evaluation, let us write a function to create a few-shot prompt (the logic of this function is depicted below)."
      ]
    },
    {
      "cell_type": "code",
      "execution_count": 46,
      "metadata": {
        "id": "mFK2WQOgS8ey"
      },
      "outputs": [],
      "source": [
        "def create_prompt(system_message, examples, user_message_template):\n",
        "\n",
        "    \"\"\"\n",
        "    Return a prompt message in the format expected by the Open AI API.\n",
        "    Loop through the examples and parse them as user message and assistant\n",
        "    message.\n",
        "\n",
        "    Args:\n",
        "        system_message (str): system message with instructions for sentiment analysis\n",
        "        examples (str): JSON string with list of examples\n",
        "        user_message_template (str): string with a placeholder for courier service reviews\n",
        "\n",
        "    Output:\n",
        "        few_shot_prompt (List): A list of dictionaries in the Open AI prompt format\n",
        "    \"\"\"\n",
        "\n",
        "    few_shot_prompt = [{'role':'system', 'content': system_message}]\n",
        "\n",
        "    for example in json.loads(examples):\n",
        "        example_review = example['review']\n",
        "        example_sentiment = example['sentiment']\n",
        "\n",
        "        few_shot_prompt.append(\n",
        "            {\n",
        "                'role': 'user',\n",
        "                'content': user_message_template.format(\n",
        "                    courier_service_review=example_review\n",
        "                )\n",
        "            }\n",
        "        )\n",
        "\n",
        "        few_shot_prompt.append(\n",
        "            {'role': 'assistant', 'content': f\"{example_sentiment}\"}\n",
        "        )\n",
        "\n",
        "    return few_shot_prompt"
      ]
    },
    {
      "cell_type": "markdown",
      "source": [
        "Create Few Shot Prompt"
      ],
      "metadata": {
        "id": "5YN0Zt1dyZ3X"
      }
    },
    {
      "cell_type": "code",
      "execution_count": 47,
      "metadata": {
        "id": "QoO1lCFtTBUV"
      },
      "outputs": [],
      "source": [
        "few_shot_prompt = create_prompt(\n",
        "    few_shot_system_message,\n",
        "    examples,\n",
        "    user_message_template\n",
        ")\n"
      ]
    },
    {
      "cell_type": "code",
      "execution_count": 48,
      "metadata": {
        "colab": {
          "base_uri": "https://localhost:8080/"
        },
        "id": "sy91eq9FTNeo",
        "outputId": "f04a7084-038e-4a0d-a265-5dcd01fa4501"
      },
      "outputs": [
        {
          "output_type": "execute_result",
          "data": {
            "text/plain": [
              "[{'role': 'system',\n",
              "  'content': \"\\nClassify the following review presented in the input into one of the following sentiment.\\nsentiment - ['negative', 'positive']\\nreview will be delimited by triple backticks in the input.\\nAnswer only 'negative' or 'positive'. Nothing Else. Do not explain your answer.\\n\"},\n",
              " {'role': 'user',\n",
              "  'content': \"```expressway logistics promises efficient delivery, but their drivers seem careless and unprofessional. i've received damaged goods more than once, indicating a lack of proper handling procedures.```\"},\n",
              " {'role': 'assistant', 'content': 'negative'},\n",
              " {'role': 'user',\n",
              "  'content': '```expressway logistics makes shipping hassle-free.their tracking system is top-notch, giving me peace of mind every step of the way.i highly recommend expressway logistics for all your shipping needs.```'},\n",
              " {'role': 'assistant', 'content': 'positive'},\n",
              " {'role': 'user',\n",
              "  'content': '```expressway logistics is known for its prompt delivery times.it ensured that my parcels arrive well ahead of schedule.i am happy with the service.```'},\n",
              " {'role': 'assistant', 'content': 'positive'},\n",
              " {'role': 'user',\n",
              "  'content': \"```expressway logistics presents itself as a modern logistics solution with a focus on customer satisfaction. however, my recent experiences have highlighted some notable drawbacks. while their website offers a seamless booking experience and their packaging options are diverse, i've encountered issues with the accuracy of delivery addresses. this has led to missed deliveries and unnecessary delays, impacting my overall experience. additionally, the limited flexibility in scheduling pickup times has been inconvenient. i cannot trust on this level of service anymore definitely.overall,i am disappointed and irritated by the level of services offered to me inspite of paying high charges! ```\"},\n",
              " {'role': 'assistant', 'content': 'negative'}]"
            ]
          },
          "metadata": {},
          "execution_count": 48
        }
      ],
      "source": [
        "few_shot_prompt"
      ]
    },
    {
      "cell_type": "code",
      "execution_count": 49,
      "metadata": {
        "colab": {
          "base_uri": "https://localhost:8080/"
        },
        "id": "ItFH6zLJMnb9",
        "outputId": "8a2a1a4a-1726-4834-8c43-d5cb6ef9a70f"
      },
      "outputs": [
        {
          "output_type": "execute_result",
          "data": {
            "text/plain": [
              "318"
            ]
          },
          "metadata": {},
          "execution_count": 49
        }
      ],
      "source": [
        "num_tokens_from_messages(few_shot_prompt)"
      ]
    },
    {
      "cell_type": "markdown",
      "metadata": {
        "id": "mcI8oyIcPfPW"
      },
      "source": [
        " Evaluate prompts\n",
        "\n"
      ]
    },
    {
      "cell_type": "markdown",
      "metadata": {
        "id": "2BWfjbiFUCSp"
      },
      "source": [
        "Now we have two sets of prompts that we need to evaluate using gold labels. Since the few-shot prompt depends on the sample of examples that was drawn to make up the prompt, we expect some variability in evaluation. Hence, we evaluate each prompt multiple times to get a sense of the average and the variation around the average.\n",
        "\n",
        "To reiterate, a choice on the prompt should account for variability due to the choice of the random sample. To aid repeated evaluation, we assemble an evaluation function ."
      ]
    },
    {
      "cell_type": "code",
      "execution_count": 50,
      "metadata": {
        "id": "yWpWWcLAzgGY"
      },
      "outputs": [],
      "source": [
        "def evaluate_prompt(prompt, gold_examples, user_message_template):\n",
        "\n",
        "    \"\"\"\n",
        "    Return the micro-F1 score for predictions on gold examples.\n",
        "    For each example, we make a prediction using the prompt. Gold labels and\n",
        "    model predictions are aggregated into lists and compared to compute the\n",
        "    F1 score.\n",
        "\n",
        "    Args:\n",
        "        prompt (List): list of messages in the Open AI prompt format\n",
        "        gold_examples (str): JSON string with list of gold examples\n",
        "        user_message_template (str): string with a placeholder for courier service review\n",
        "\n",
        "    Output:\n",
        "        micro_f1_score (float): Micro-F1 score computed by comparing model predictions\n",
        "                                with ground truth\n",
        "    \"\"\"\n",
        "\n",
        "    model_predictions, ground_truths, review_texts = [], [], []\n",
        "\n",
        "    for example in json.loads(gold_examples):\n",
        "        gold_input = example['review']\n",
        "        user_input = [\n",
        "            {\n",
        "                'role':'user',\n",
        "                'content': user_message_template.format(courier_service_review=gold_input)\n",
        "            }\n",
        "        ]\n",
        "\n",
        "        try:\n",
        "            response = client.chat.completions.create(\n",
        "                model=chat_model_id,\n",
        "                messages=prompt+user_input,\n",
        "                temperature=0, # <- Note the low temperature (For a deterministic response)\n",
        "                max_tokens=2 # <- Note how we restrict the output to not more than 2 tokens\n",
        "            )\n",
        "\n",
        "            prediction = response.choices[0].message.content\n",
        "            # response = openai.ChatCompletion.create(\n",
        "            #     deployment_id=chat_model_id,\n",
        "            #     messages=prompt+user_input,\n",
        "            #     temperature=0, # <- Note the low temperature(For a deterministic response)\n",
        "            #     # max_tokens=2 # <- Note how we restrict the output to not more than 2 tokens\n",
        "            # )\n",
        "\n",
        "            # prediction = response['choices'][0]['message']['content']\n",
        "            model_predictions.append(prediction.strip()) # <- removes extraneous white spaces\n",
        "            ground_truths.append(example['sentiment'])\n",
        "            review_texts.append(gold_input)\n",
        "\n",
        "        except Exception as e:\n",
        "            continue\n",
        "\n",
        "    micro_f1_score = f1_score(ground_truths, model_predictions, average=\"micro\")\n",
        "\n",
        "    table_data = [[text, pred, truth] for text, pred, truth in zip(review_texts, model_predictions, ground_truths)]\n",
        "    headers = [\"Review\", \"Model Prediction\", \"Ground Truth\"]\n",
        "    print(tabulate(table_data, headers=headers, tablefmt=\"grid\"))\n",
        "\n",
        "    return micro_f1_score\n"
      ]
    },
    {
      "cell_type": "markdown",
      "metadata": {
        "id": "s61rE4tMVHqt"
      },
      "source": [
        "Let us now use this function to do one evaluation of all the two prompts assembled so far, each time computing the Micro-F1 score."
      ]
    },
    {
      "cell_type": "markdown",
      "metadata": {
        "id": "XpmEiVPIZUBl",
        "nteract": {
          "transient": {
            "deleting": false
          }
        }
      },
      "source": [
        "Evaluate zero shot prompt"
      ]
    },
    {
      "cell_type": "code",
      "execution_count": 51,
      "metadata": {
        "id": "Kar164F4nd9x",
        "colab": {
          "base_uri": "https://localhost:8080/"
        },
        "outputId": "436dee7d-c601-4540-fbde-58bd358fb1ef"
      },
      "outputs": [
        {
          "output_type": "stream",
          "name": "stdout",
          "text": [
            "+-------------------------------------------------------------------------------------------------------------------------------------------------------------------------------------------------------------------------------------------------------------------------------------------------------------------------------------------------------------------------------------------------------------------------------------------------------------------------------------------------------------------------------------------------------------------------------------------------+--------------------+----------------+\n",
            "| Review                                                                                                                                                                                                                                                                                                                                                                                                                                                                                                                                                                                          | Model Prediction   | Ground Truth   |\n",
            "+=================================================================================================================================================================================================================================================================================================================================================================================================================================================================================================================================================================================================+====================+================+\n",
            "| the delivery executive assigned by expressway logistics was courteous and professional during the delivery process. they tried their best to handle the package with care.unfortunately, the package arrived with slight damage despite the delivery executive's efforts. the packaging seemed more than adequate to protect the contents during transit.                                                                                                                                                                                                                                       | negative           | positive       |\n",
            "+-------------------------------------------------------------------------------------------------------------------------------------------------------------------------------------------------------------------------------------------------------------------------------------------------------------------------------------------------------------------------------------------------------------------------------------------------------------------------------------------------------------------------------------------------------------------------------------------------+--------------------+----------------+\n",
            "| expressway logistics failed to meet my expectations. the delivery was delayed, and the customer support team was unresponsive and unhelpful when i tried to inquire about the status of my parcel.                                                                                                                                                                                                                                                                                                                                                                                              | negative           | negative       |\n",
            "+-------------------------------------------------------------------------------------------------------------------------------------------------------------------------------------------------------------------------------------------------------------------------------------------------------------------------------------------------------------------------------------------------------------------------------------------------------------------------------------------------------------------------------------------------------------------------------------------------+--------------------+----------------+\n",
            "| expressway logistics' incompetence resulted in a major inconvenience when my package was delivered to the wrong recipient. despite providing accurate delivery information, the package ended up in the hands of someone else, and efforts to retrieve it were unsuccessful. when i contacted customer service for assistance, i was met with apathy and a lack of urgency. their failure to rectify the situation in a timely manner is unacceptable, and i will be avoiding their services at all costs.                                                                                      | negative           | negative       |\n",
            "+-------------------------------------------------------------------------------------------------------------------------------------------------------------------------------------------------------------------------------------------------------------------------------------------------------------------------------------------------------------------------------------------------------------------------------------------------------------------------------------------------------------------------------------------------------------------------------------------------+--------------------+----------------+\n",
            "| kudos to expressway logistics for their outstanding service! they've been an essential partner for my business, handling all our shipping needs with professionalism and efficiency. if you're looking for a reliable logistic service provider, look no further than expressway logistics.                                                                                                                                                                                                                                                                                                     | positive           | positive       |\n",
            "+-------------------------------------------------------------------------------------------------------------------------------------------------------------------------------------------------------------------------------------------------------------------------------------------------------------------------------------------------------------------------------------------------------------------------------------------------------------------------------------------------------------------------------------------------------------------------------------------------+--------------------+----------------+\n",
            "| expressway logistics offers a convenient online platform for booking shipments, and their competitive rates initially drew me in. however, the frequent delays in delivery and lack of transparency regarding additional fees have soured my experience. while their customer service representatives are polite, they often seem powerless to resolve issues effectively.this lack of care and responsibilites from the concerned teams have led me unsatisfied and irritated.i cannot trust and rely on this again.will definitely not contact them ever for my courier deliveries!           | negative           | negative       |\n",
            "+-------------------------------------------------------------------------------------------------------------------------------------------------------------------------------------------------------------------------------------------------------------------------------------------------------------------------------------------------------------------------------------------------------------------------------------------------------------------------------------------------------------------------------------------------------------------------------------------------+--------------------+----------------+\n",
            "| planning a destination wedding is undoubtedly a daunting task, especially when it comes to coordinating transportation for guests and wedding essentials. fortunately, expressway logistics made this aspect of our wedding planning effortless. from the beginning, they were attentive to our needs and provided valuable insights to streamline the process.                                                                                                                                                                                                                                 | positive           | positive       |\n",
            "+-------------------------------------------------------------------------------------------------------------------------------------------------------------------------------------------------------------------------------------------------------------------------------------------------------------------------------------------------------------------------------------------------------------------------------------------------------------------------------------------------------------------------------------------------------------------------------------------------+--------------------+----------------+\n",
            "| expressway logistics consistently delivers on its promises, providing fast, efficient, and reliable courier services that exceeded my expectations.                                                                                                                                                                                                                                                                                                                                                                                                                                             | positive           | positive       |\n",
            "+-------------------------------------------------------------------------------------------------------------------------------------------------------------------------------------------------------------------------------------------------------------------------------------------------------------------------------------------------------------------------------------------------------------------------------------------------------------------------------------------------------------------------------------------------------------------------------------------------+--------------------+----------------+\n",
            "| i needed to ship perishable items internationally, and expressway logistics handled the process flawlessly. they ensured that the items were properly packaged and transported in temperature-controlled conditions.                                                                                                                                                                                                                                                                                                                                                                            | positive           | positive       |\n",
            "+-------------------------------------------------------------------------------------------------------------------------------------------------------------------------------------------------------------------------------------------------------------------------------------------------------------------------------------------------------------------------------------------------------------------------------------------------------------------------------------------------------------------------------------------------------------------------------------------------+--------------------+----------------+\n",
            "| i appreciated the flexibility offered by expressway logistics in terms of delivery options. their range of delivery speeds and service levels allowed me to choose the option that best suited my needs and budget.however, i was slightly disappointed by the lack of transparency regarding few additional fees and surcharges. i selected a specific delivery option and paid minor charges at checkout, which undermined the initial affordability of the service..                                                                                                                         | negative           | negative       |\n",
            "+-------------------------------------------------------------------------------------------------------------------------------------------------------------------------------------------------------------------------------------------------------------------------------------------------------------------------------------------------------------------------------------------------------------------------------------------------------------------------------------------------------------------------------------------------------------------------------------------------+--------------------+----------------+\n",
            "| while expressway logistics' pricing is competitive, their lack of accountability for delays and damages is disappointing. it's frustrating to pay for a service that fails to deliver on its promises consistently.                                                                                                                                                                                                                                                                                                                                                                             | negative           | negative       |\n",
            "+-------------------------------------------------------------------------------------------------------------------------------------------------------------------------------------------------------------------------------------------------------------------------------------------------------------------------------------------------------------------------------------------------------------------------------------------------------------------------------------------------------------------------------------------------------------------------------------------------+--------------------+----------------+\n",
            "| expressway logistics' pricing may seem attractive at first glance, but beware of some internal hidden fees that may sometimes add up. coupled with their reliable delivery times, it's simply not worth the hassle.but still i appreciate that my parcel got delivered safely a day after the promised window.                                                                                                                                                                                                                                                                                  | negative           | positive       |\n",
            "+-------------------------------------------------------------------------------------------------------------------------------------------------------------------------------------------------------------------------------------------------------------------------------------------------------------------------------------------------------------------------------------------------------------------------------------------------------------------------------------------------------------------------------------------------------------------------------------------------+--------------------+----------------+\n",
            "| expressway logistics has been my go-to courier service for years, primarily due to their extensive network coverage and competitive pricing. however, my recent experience has left me questioning their reliability. while their user-friendly website and efficient booking process remain commendable, the repeated delays in delivery and lack of proactive communication have been disappointing.despite these setbacks, their customer service team has always been courteous and responsive, attempting to address my concerns promptly.                                                 | negative           | negative       |\n",
            "+-------------------------------------------------------------------------------------------------------------------------------------------------------------------------------------------------------------------------------------------------------------------------------------------------------------------------------------------------------------------------------------------------------------------------------------------------------------------------------------------------------------------------------------------------------------------------------------------------+--------------------+----------------+\n",
            "| expressway logistics' incompetence led to the loss of my parcel, and their lack of accountability only added to the frustration. despite filing a claim and providing evidence of the missing items, i received no assistance or compensation for the lost package. their negligence and disregard for customer satisfaction are unacceptable, and i will be exploring legal options to recoup the value of the lost items.                                                                                                                                                                     | negative           | negative       |\n",
            "+-------------------------------------------------------------------------------------------------------------------------------------------------------------------------------------------------------------------------------------------------------------------------------------------------------------------------------------------------------------------------------------------------------------------------------------------------------------------------------------------------------------------------------------------------------------------------------------------------+--------------------+----------------+\n",
            "| i was deeply disappointed by the behavior of the delivery executive from expressway logistics. they exhibited a complete disregard for customer satisfaction, arriving late and mishandling the package upon delivery. despite raising my concerns with expressway logistics, there was no acknowledgment or resolution provided.                                                                                                                                                                                                                                                               | negative           | negative       |\n",
            "+-------------------------------------------------------------------------------------------------------------------------------------------------------------------------------------------------------------------------------------------------------------------------------------------------------------------------------------------------------------------------------------------------------------------------------------------------------------------------------------------------------------------------------------------------------------------------------------------------+--------------------+----------------+\n",
            "| as a frequent traveler, i often use expressway logistics to ship luggage and personal belongings ahead of time. their door-to-door service and reliable tracking make traveling a breeze.                                                                                                                                                                                                                                                                                                                                                                                                       | positive           | positive       |\n",
            "+-------------------------------------------------------------------------------------------------------------------------------------------------------------------------------------------------------------------------------------------------------------------------------------------------------------------------------------------------------------------------------------------------------------------------------------------------------------------------------------------------------------------------------------------------------------------------------------------------+--------------------+----------------+\n",
            "| expressway logistics caught my attention with its promise of seamless shipping solutions and a comprehensive network. however, my recent experiences have revealed some significant shortcomings. their online platform is disgusting and their tracking system is inaccurate.i've encountered repeated issues with inaccurate weight calculations that have led to unexpected charges. moreover, the limited options for customizing shipment preferences have made it challenging to meet my requirements.i cannot rely upon it for my future requirements.it failed to meet my requirements. | negative           | negative       |\n",
            "+-------------------------------------------------------------------------------------------------------------------------------------------------------------------------------------------------------------------------------------------------------------------------------------------------------------------------------------------------------------------------------------------------------------------------------------------------------------------------------------------------------------------------------------------------------------------------------------------------+--------------------+----------------+\n",
            "| the packaging provided by expressway logistics is always secure and well-protected, and ensured that my items arrive in perfect condition.                                                                                                                                                                                                                                                                                                                                                                                                                                                      | positive           | positive       |\n",
            "+-------------------------------------------------------------------------------------------------------------------------------------------------------------------------------------------------------------------------------------------------------------------------------------------------------------------------------------------------------------------------------------------------------------------------------------------------------------------------------------------------------------------------------------------------------------------------------------------------+--------------------+----------------+\n",
            "| my recent experience with expressway logistics left me thoroughly impressed. i had a highly time-sensitive shipment that required delicate handling and precise coordination. despite the challenges, expressway rose to the occasion, demonstrating an unparalleled level of professionalism and efficiency. their team meticulously planned every aspect of the shipment, from packaging to transportation, ensuring that no detail was overlooked.                                                                                                                                           | positive           | positive       |\n",
            "+-------------------------------------------------------------------------------------------------------------------------------------------------------------------------------------------------------------------------------------------------------------------------------------------------------------------------------------------------------------------------------------------------------------------------------------------------------------------------------------------------------------------------------------------------------------------------------------------------+--------------------+----------------+\n",
            "| i was initially impressed by expressway logistics' promise of reliability and affordability, but my recent encounters have been less than satisfactory. their website is so irritating and their drivers are too harsh, the repeated delays in delivery have been frustrating. additionally, the discovery of hidden fees within their pricing structure has left me feeling misled. in addition to these challenges, their customer service team has been inattentive and disrespectful, which has degraded the overall experience.not at all recommend!                                       | negative           | negative       |\n",
            "+-------------------------------------------------------------------------------------------------------------------------------------------------------------------------------------------------------------------------------------------------------------------------------------------------------------------------------------------------------------------------------------------------------------------------------------------------------------------------------------------------------------------------------------------------------------------------------------------------+--------------------+----------------+\n",
            "| thumbs up to expressway for their prompt responses and reliable shipping solutions. impressed!                                                                                                                                                                                                                                                                                                                                                                                                                                                                                                  | positive           | positive       |\n",
            "+-------------------------------------------------------------------------------------------------------------------------------------------------------------------------------------------------------------------------------------------------------------------------------------------------------------------------------------------------------------------------------------------------------------------------------------------------------------------------------------------------------------------------------------------------------------------------------------------------+--------------------+----------------+\n",
            "| i had a terrible experience with expressway logistics. not only was my pickup delayed, but the packaging was not done intactly, and the customer support team was unresponsive when i tried to raise the issue.                                                                                                                                                                                                                                                                                                                                                                                 | negative           | negative       |\n",
            "+-------------------------------------------------------------------------------------------------------------------------------------------------------------------------------------------------------------------------------------------------------------------------------------------------------------------------------------------------------------------------------------------------------------------------------------------------------------------------------------------------------------------------------------------------------------------------------------------------+--------------------+----------------+\n"
          ]
        },
        {
          "output_type": "execute_result",
          "data": {
            "text/plain": [
              "0.9047619047619048"
            ]
          },
          "metadata": {},
          "execution_count": 51
        }
      ],
      "source": [
        "evaluate_prompt(zero_shot_prompt, gold_examples, user_message_template)"
      ]
    },
    {
      "cell_type": "markdown",
      "metadata": {
        "id": "ya73XdatZUBl",
        "nteract": {
          "transient": {
            "deleting": false
          }
        }
      },
      "source": [
        "Evaluate few shot prompt"
      ]
    },
    {
      "cell_type": "code",
      "execution_count": 52,
      "metadata": {
        "id": "tqQTgKUkZUBl",
        "jupyter": {
          "outputs_hidden": false,
          "source_hidden": false
        },
        "nteract": {
          "transient": {
            "deleting": false
          }
        },
        "colab": {
          "base_uri": "https://localhost:8080/"
        },
        "outputId": "8a7cce02-9545-4441-c7c3-28f7ce1c0d02"
      },
      "outputs": [
        {
          "output_type": "stream",
          "name": "stdout",
          "text": [
            "+-------------------------------------------------------------------------------------------------------------------------------------------------------------------------------------------------------------------------------------------------------------------------------------------------------------------------------------------------------------------------------------------------------------------------------------------------------------------------------------------------------------------------------------------------------------------------------------------------+--------------------+----------------+\n",
            "| Review                                                                                                                                                                                                                                                                                                                                                                                                                                                                                                                                                                                          | Model Prediction   | Ground Truth   |\n",
            "+=================================================================================================================================================================================================================================================================================================================================================================================================================================================================================================================================================================================================+====================+================+\n",
            "| the delivery executive assigned by expressway logistics was courteous and professional during the delivery process. they tried their best to handle the package with care.unfortunately, the package arrived with slight damage despite the delivery executive's efforts. the packaging seemed more than adequate to protect the contents during transit.                                                                                                                                                                                                                                       | negative           | positive       |\n",
            "+-------------------------------------------------------------------------------------------------------------------------------------------------------------------------------------------------------------------------------------------------------------------------------------------------------------------------------------------------------------------------------------------------------------------------------------------------------------------------------------------------------------------------------------------------------------------------------------------------+--------------------+----------------+\n",
            "| expressway logistics failed to meet my expectations. the delivery was delayed, and the customer support team was unresponsive and unhelpful when i tried to inquire about the status of my parcel.                                                                                                                                                                                                                                                                                                                                                                                              | negative           | negative       |\n",
            "+-------------------------------------------------------------------------------------------------------------------------------------------------------------------------------------------------------------------------------------------------------------------------------------------------------------------------------------------------------------------------------------------------------------------------------------------------------------------------------------------------------------------------------------------------------------------------------------------------+--------------------+----------------+\n",
            "| expressway logistics' incompetence resulted in a major inconvenience when my package was delivered to the wrong recipient. despite providing accurate delivery information, the package ended up in the hands of someone else, and efforts to retrieve it were unsuccessful. when i contacted customer service for assistance, i was met with apathy and a lack of urgency. their failure to rectify the situation in a timely manner is unacceptable, and i will be avoiding their services at all costs.                                                                                      | negative           | negative       |\n",
            "+-------------------------------------------------------------------------------------------------------------------------------------------------------------------------------------------------------------------------------------------------------------------------------------------------------------------------------------------------------------------------------------------------------------------------------------------------------------------------------------------------------------------------------------------------------------------------------------------------+--------------------+----------------+\n",
            "| kudos to expressway logistics for their outstanding service! they've been an essential partner for my business, handling all our shipping needs with professionalism and efficiency. if you're looking for a reliable logistic service provider, look no further than expressway logistics.                                                                                                                                                                                                                                                                                                     | positive           | positive       |\n",
            "+-------------------------------------------------------------------------------------------------------------------------------------------------------------------------------------------------------------------------------------------------------------------------------------------------------------------------------------------------------------------------------------------------------------------------------------------------------------------------------------------------------------------------------------------------------------------------------------------------+--------------------+----------------+\n",
            "| expressway logistics offers a convenient online platform for booking shipments, and their competitive rates initially drew me in. however, the frequent delays in delivery and lack of transparency regarding additional fees have soured my experience. while their customer service representatives are polite, they often seem powerless to resolve issues effectively.this lack of care and responsibilites from the concerned teams have led me unsatisfied and irritated.i cannot trust and rely on this again.will definitely not contact them ever for my courier deliveries!           | negative           | negative       |\n",
            "+-------------------------------------------------------------------------------------------------------------------------------------------------------------------------------------------------------------------------------------------------------------------------------------------------------------------------------------------------------------------------------------------------------------------------------------------------------------------------------------------------------------------------------------------------------------------------------------------------+--------------------+----------------+\n",
            "| planning a destination wedding is undoubtedly a daunting task, especially when it comes to coordinating transportation for guests and wedding essentials. fortunately, expressway logistics made this aspect of our wedding planning effortless. from the beginning, they were attentive to our needs and provided valuable insights to streamline the process.                                                                                                                                                                                                                                 | positive           | positive       |\n",
            "+-------------------------------------------------------------------------------------------------------------------------------------------------------------------------------------------------------------------------------------------------------------------------------------------------------------------------------------------------------------------------------------------------------------------------------------------------------------------------------------------------------------------------------------------------------------------------------------------------+--------------------+----------------+\n",
            "| expressway logistics consistently delivers on its promises, providing fast, efficient, and reliable courier services that exceeded my expectations.                                                                                                                                                                                                                                                                                                                                                                                                                                             | positive           | positive       |\n",
            "+-------------------------------------------------------------------------------------------------------------------------------------------------------------------------------------------------------------------------------------------------------------------------------------------------------------------------------------------------------------------------------------------------------------------------------------------------------------------------------------------------------------------------------------------------------------------------------------------------+--------------------+----------------+\n",
            "| i needed to ship perishable items internationally, and expressway logistics handled the process flawlessly. they ensured that the items were properly packaged and transported in temperature-controlled conditions.                                                                                                                                                                                                                                                                                                                                                                            | positive           | positive       |\n",
            "+-------------------------------------------------------------------------------------------------------------------------------------------------------------------------------------------------------------------------------------------------------------------------------------------------------------------------------------------------------------------------------------------------------------------------------------------------------------------------------------------------------------------------------------------------------------------------------------------------+--------------------+----------------+\n",
            "| i appreciated the flexibility offered by expressway logistics in terms of delivery options. their range of delivery speeds and service levels allowed me to choose the option that best suited my needs and budget.however, i was slightly disappointed by the lack of transparency regarding few additional fees and surcharges. i selected a specific delivery option and paid minor charges at checkout, which undermined the initial affordability of the service..                                                                                                                         | negative           | negative       |\n",
            "+-------------------------------------------------------------------------------------------------------------------------------------------------------------------------------------------------------------------------------------------------------------------------------------------------------------------------------------------------------------------------------------------------------------------------------------------------------------------------------------------------------------------------------------------------------------------------------------------------+--------------------+----------------+\n",
            "| while expressway logistics' pricing is competitive, their lack of accountability for delays and damages is disappointing. it's frustrating to pay for a service that fails to deliver on its promises consistently.                                                                                                                                                                                                                                                                                                                                                                             | negative           | negative       |\n",
            "+-------------------------------------------------------------------------------------------------------------------------------------------------------------------------------------------------------------------------------------------------------------------------------------------------------------------------------------------------------------------------------------------------------------------------------------------------------------------------------------------------------------------------------------------------------------------------------------------------+--------------------+----------------+\n",
            "| expressway logistics' pricing may seem attractive at first glance, but beware of some internal hidden fees that may sometimes add up. coupled with their reliable delivery times, it's simply not worth the hassle.but still i appreciate that my parcel got delivered safely a day after the promised window.                                                                                                                                                                                                                                                                                  | negative           | positive       |\n",
            "+-------------------------------------------------------------------------------------------------------------------------------------------------------------------------------------------------------------------------------------------------------------------------------------------------------------------------------------------------------------------------------------------------------------------------------------------------------------------------------------------------------------------------------------------------------------------------------------------------+--------------------+----------------+\n",
            "| expressway logistics has been my go-to courier service for years, primarily due to their extensive network coverage and competitive pricing. however, my recent experience has left me questioning their reliability. while their user-friendly website and efficient booking process remain commendable, the repeated delays in delivery and lack of proactive communication have been disappointing.despite these setbacks, their customer service team has always been courteous and responsive, attempting to address my concerns promptly.                                                 | negative           | negative       |\n",
            "+-------------------------------------------------------------------------------------------------------------------------------------------------------------------------------------------------------------------------------------------------------------------------------------------------------------------------------------------------------------------------------------------------------------------------------------------------------------------------------------------------------------------------------------------------------------------------------------------------+--------------------+----------------+\n",
            "| expressway logistics' incompetence led to the loss of my parcel, and their lack of accountability only added to the frustration. despite filing a claim and providing evidence of the missing items, i received no assistance or compensation for the lost package. their negligence and disregard for customer satisfaction are unacceptable, and i will be exploring legal options to recoup the value of the lost items.                                                                                                                                                                     | negative           | negative       |\n",
            "+-------------------------------------------------------------------------------------------------------------------------------------------------------------------------------------------------------------------------------------------------------------------------------------------------------------------------------------------------------------------------------------------------------------------------------------------------------------------------------------------------------------------------------------------------------------------------------------------------+--------------------+----------------+\n",
            "| i was deeply disappointed by the behavior of the delivery executive from expressway logistics. they exhibited a complete disregard for customer satisfaction, arriving late and mishandling the package upon delivery. despite raising my concerns with expressway logistics, there was no acknowledgment or resolution provided.                                                                                                                                                                                                                                                               | negative           | negative       |\n",
            "+-------------------------------------------------------------------------------------------------------------------------------------------------------------------------------------------------------------------------------------------------------------------------------------------------------------------------------------------------------------------------------------------------------------------------------------------------------------------------------------------------------------------------------------------------------------------------------------------------+--------------------+----------------+\n",
            "| as a frequent traveler, i often use expressway logistics to ship luggage and personal belongings ahead of time. their door-to-door service and reliable tracking make traveling a breeze.                                                                                                                                                                                                                                                                                                                                                                                                       | positive           | positive       |\n",
            "+-------------------------------------------------------------------------------------------------------------------------------------------------------------------------------------------------------------------------------------------------------------------------------------------------------------------------------------------------------------------------------------------------------------------------------------------------------------------------------------------------------------------------------------------------------------------------------------------------+--------------------+----------------+\n",
            "| expressway logistics caught my attention with its promise of seamless shipping solutions and a comprehensive network. however, my recent experiences have revealed some significant shortcomings. their online platform is disgusting and their tracking system is inaccurate.i've encountered repeated issues with inaccurate weight calculations that have led to unexpected charges. moreover, the limited options for customizing shipment preferences have made it challenging to meet my requirements.i cannot rely upon it for my future requirements.it failed to meet my requirements. | negative           | negative       |\n",
            "+-------------------------------------------------------------------------------------------------------------------------------------------------------------------------------------------------------------------------------------------------------------------------------------------------------------------------------------------------------------------------------------------------------------------------------------------------------------------------------------------------------------------------------------------------------------------------------------------------+--------------------+----------------+\n",
            "| the packaging provided by expressway logistics is always secure and well-protected, and ensured that my items arrive in perfect condition.                                                                                                                                                                                                                                                                                                                                                                                                                                                      | positive           | positive       |\n",
            "+-------------------------------------------------------------------------------------------------------------------------------------------------------------------------------------------------------------------------------------------------------------------------------------------------------------------------------------------------------------------------------------------------------------------------------------------------------------------------------------------------------------------------------------------------------------------------------------------------+--------------------+----------------+\n",
            "| my recent experience with expressway logistics left me thoroughly impressed. i had a highly time-sensitive shipment that required delicate handling and precise coordination. despite the challenges, expressway rose to the occasion, demonstrating an unparalleled level of professionalism and efficiency. their team meticulously planned every aspect of the shipment, from packaging to transportation, ensuring that no detail was overlooked.                                                                                                                                           | positive           | positive       |\n",
            "+-------------------------------------------------------------------------------------------------------------------------------------------------------------------------------------------------------------------------------------------------------------------------------------------------------------------------------------------------------------------------------------------------------------------------------------------------------------------------------------------------------------------------------------------------------------------------------------------------+--------------------+----------------+\n",
            "| i was initially impressed by expressway logistics' promise of reliability and affordability, but my recent encounters have been less than satisfactory. their website is so irritating and their drivers are too harsh, the repeated delays in delivery have been frustrating. additionally, the discovery of hidden fees within their pricing structure has left me feeling misled. in addition to these challenges, their customer service team has been inattentive and disrespectful, which has degraded the overall experience.not at all recommend!                                       | negative           | negative       |\n",
            "+-------------------------------------------------------------------------------------------------------------------------------------------------------------------------------------------------------------------------------------------------------------------------------------------------------------------------------------------------------------------------------------------------------------------------------------------------------------------------------------------------------------------------------------------------------------------------------------------------+--------------------+----------------+\n",
            "| thumbs up to expressway for their prompt responses and reliable shipping solutions. impressed!                                                                                                                                                                                                                                                                                                                                                                                                                                                                                                  | positive           | positive       |\n",
            "+-------------------------------------------------------------------------------------------------------------------------------------------------------------------------------------------------------------------------------------------------------------------------------------------------------------------------------------------------------------------------------------------------------------------------------------------------------------------------------------------------------------------------------------------------------------------------------------------------+--------------------+----------------+\n",
            "| i had a terrible experience with expressway logistics. not only was my pickup delayed, but the packaging was not done intactly, and the customer support team was unresponsive when i tried to raise the issue.                                                                                                                                                                                                                                                                                                                                                                                 | negative           | negative       |\n",
            "+-------------------------------------------------------------------------------------------------------------------------------------------------------------------------------------------------------------------------------------------------------------------------------------------------------------------------------------------------------------------------------------------------------------------------------------------------------------------------------------------------------------------------------------------------------------------------------------------------+--------------------+----------------+\n"
          ]
        },
        {
          "output_type": "execute_result",
          "data": {
            "text/plain": [
              "0.9047619047619048"
            ]
          },
          "metadata": {},
          "execution_count": 52
        }
      ],
      "source": [
        "evaluate_prompt(few_shot_prompt, gold_examples, user_message_template)"
      ]
    },
    {
      "cell_type": "markdown",
      "metadata": {
        "id": "IUYn7f-LVzs-"
      },
      "source": [
        "However, this is just *one* choice of examples. We will need to run these evaluations with multiple choices of examples to get a sense of variability in F1 score for the few-shot prompt. As an example, let us run evaluations for the few-shot prompt 5 times."
      ]
    },
    {
      "cell_type": "code",
      "execution_count": 53,
      "metadata": {
        "id": "GTXUDXYy7dku"
      },
      "outputs": [],
      "source": [
        "num_eval_runs = 5"
      ]
    },
    {
      "cell_type": "code",
      "execution_count": 54,
      "metadata": {
        "id": "n6pQkocytqG_"
      },
      "outputs": [],
      "source": [
        "zero_shot_performance = []\n",
        "few_shot_performance = []"
      ]
    },
    {
      "cell_type": "code",
      "execution_count": 55,
      "metadata": {
        "colab": {
          "base_uri": "https://localhost:8080/"
        },
        "id": "BdUaodX3tseE",
        "outputId": "651c3581-8eb1-4e62-f773-4197ba51bee2"
      },
      "outputs": [
        {
          "output_type": "stream",
          "name": "stderr",
          "text": [
            "\r  0%|          | 0/5 [00:00<?, ?it/s]"
          ]
        },
        {
          "output_type": "stream",
          "name": "stdout",
          "text": [
            "+-------------------------------------------------------------------------------------------------------------------------------------------------------------------------------------------------------------------------------------------------------------------------------------------------------------------------------------------------------------------------------------------------------------------------------------------------------------------------------------------------------------------------------------------------------------------------------------------------+--------------------+----------------+\n",
            "| Review                                                                                                                                                                                                                                                                                                                                                                                                                                                                                                                                                                                          | Model Prediction   | Ground Truth   |\n",
            "+=================================================================================================================================================================================================================================================================================================================================================================================================================================================================================================================================================================================================+====================+================+\n",
            "| the delivery executive assigned by expressway logistics was courteous and professional during the delivery process. they tried their best to handle the package with care.unfortunately, the package arrived with slight damage despite the delivery executive's efforts. the packaging seemed more than adequate to protect the contents during transit.                                                                                                                                                                                                                                       | negative           | positive       |\n",
            "+-------------------------------------------------------------------------------------------------------------------------------------------------------------------------------------------------------------------------------------------------------------------------------------------------------------------------------------------------------------------------------------------------------------------------------------------------------------------------------------------------------------------------------------------------------------------------------------------------+--------------------+----------------+\n",
            "| expressway logistics failed to meet my expectations. the delivery was delayed, and the customer support team was unresponsive and unhelpful when i tried to inquire about the status of my parcel.                                                                                                                                                                                                                                                                                                                                                                                              | negative           | negative       |\n",
            "+-------------------------------------------------------------------------------------------------------------------------------------------------------------------------------------------------------------------------------------------------------------------------------------------------------------------------------------------------------------------------------------------------------------------------------------------------------------------------------------------------------------------------------------------------------------------------------------------------+--------------------+----------------+\n",
            "| expressway logistics' incompetence resulted in a major inconvenience when my package was delivered to the wrong recipient. despite providing accurate delivery information, the package ended up in the hands of someone else, and efforts to retrieve it were unsuccessful. when i contacted customer service for assistance, i was met with apathy and a lack of urgency. their failure to rectify the situation in a timely manner is unacceptable, and i will be avoiding their services at all costs.                                                                                      | negative           | negative       |\n",
            "+-------------------------------------------------------------------------------------------------------------------------------------------------------------------------------------------------------------------------------------------------------------------------------------------------------------------------------------------------------------------------------------------------------------------------------------------------------------------------------------------------------------------------------------------------------------------------------------------------+--------------------+----------------+\n",
            "| kudos to expressway logistics for their outstanding service! they've been an essential partner for my business, handling all our shipping needs with professionalism and efficiency. if you're looking for a reliable logistic service provider, look no further than expressway logistics.                                                                                                                                                                                                                                                                                                     | positive           | positive       |\n",
            "+-------------------------------------------------------------------------------------------------------------------------------------------------------------------------------------------------------------------------------------------------------------------------------------------------------------------------------------------------------------------------------------------------------------------------------------------------------------------------------------------------------------------------------------------------------------------------------------------------+--------------------+----------------+\n",
            "| expressway logistics offers a convenient online platform for booking shipments, and their competitive rates initially drew me in. however, the frequent delays in delivery and lack of transparency regarding additional fees have soured my experience. while their customer service representatives are polite, they often seem powerless to resolve issues effectively.this lack of care and responsibilites from the concerned teams have led me unsatisfied and irritated.i cannot trust and rely on this again.will definitely not contact them ever for my courier deliveries!           | negative           | negative       |\n",
            "+-------------------------------------------------------------------------------------------------------------------------------------------------------------------------------------------------------------------------------------------------------------------------------------------------------------------------------------------------------------------------------------------------------------------------------------------------------------------------------------------------------------------------------------------------------------------------------------------------+--------------------+----------------+\n",
            "| planning a destination wedding is undoubtedly a daunting task, especially when it comes to coordinating transportation for guests and wedding essentials. fortunately, expressway logistics made this aspect of our wedding planning effortless. from the beginning, they were attentive to our needs and provided valuable insights to streamline the process.                                                                                                                                                                                                                                 | positive           | positive       |\n",
            "+-------------------------------------------------------------------------------------------------------------------------------------------------------------------------------------------------------------------------------------------------------------------------------------------------------------------------------------------------------------------------------------------------------------------------------------------------------------------------------------------------------------------------------------------------------------------------------------------------+--------------------+----------------+\n",
            "| expressway logistics consistently delivers on its promises, providing fast, efficient, and reliable courier services that exceeded my expectations.                                                                                                                                                                                                                                                                                                                                                                                                                                             | positive           | positive       |\n",
            "+-------------------------------------------------------------------------------------------------------------------------------------------------------------------------------------------------------------------------------------------------------------------------------------------------------------------------------------------------------------------------------------------------------------------------------------------------------------------------------------------------------------------------------------------------------------------------------------------------+--------------------+----------------+\n",
            "| i needed to ship perishable items internationally, and expressway logistics handled the process flawlessly. they ensured that the items were properly packaged and transported in temperature-controlled conditions.                                                                                                                                                                                                                                                                                                                                                                            | positive           | positive       |\n",
            "+-------------------------------------------------------------------------------------------------------------------------------------------------------------------------------------------------------------------------------------------------------------------------------------------------------------------------------------------------------------------------------------------------------------------------------------------------------------------------------------------------------------------------------------------------------------------------------------------------+--------------------+----------------+\n",
            "| i appreciated the flexibility offered by expressway logistics in terms of delivery options. their range of delivery speeds and service levels allowed me to choose the option that best suited my needs and budget.however, i was slightly disappointed by the lack of transparency regarding few additional fees and surcharges. i selected a specific delivery option and paid minor charges at checkout, which undermined the initial affordability of the service..                                                                                                                         | negative           | negative       |\n",
            "+-------------------------------------------------------------------------------------------------------------------------------------------------------------------------------------------------------------------------------------------------------------------------------------------------------------------------------------------------------------------------------------------------------------------------------------------------------------------------------------------------------------------------------------------------------------------------------------------------+--------------------+----------------+\n",
            "| while expressway logistics' pricing is competitive, their lack of accountability for delays and damages is disappointing. it's frustrating to pay for a service that fails to deliver on its promises consistently.                                                                                                                                                                                                                                                                                                                                                                             | negative           | negative       |\n",
            "+-------------------------------------------------------------------------------------------------------------------------------------------------------------------------------------------------------------------------------------------------------------------------------------------------------------------------------------------------------------------------------------------------------------------------------------------------------------------------------------------------------------------------------------------------------------------------------------------------+--------------------+----------------+\n",
            "| expressway logistics' pricing may seem attractive at first glance, but beware of some internal hidden fees that may sometimes add up. coupled with their reliable delivery times, it's simply not worth the hassle.but still i appreciate that my parcel got delivered safely a day after the promised window.                                                                                                                                                                                                                                                                                  | negative           | positive       |\n",
            "+-------------------------------------------------------------------------------------------------------------------------------------------------------------------------------------------------------------------------------------------------------------------------------------------------------------------------------------------------------------------------------------------------------------------------------------------------------------------------------------------------------------------------------------------------------------------------------------------------+--------------------+----------------+\n",
            "| expressway logistics has been my go-to courier service for years, primarily due to their extensive network coverage and competitive pricing. however, my recent experience has left me questioning their reliability. while their user-friendly website and efficient booking process remain commendable, the repeated delays in delivery and lack of proactive communication have been disappointing.despite these setbacks, their customer service team has always been courteous and responsive, attempting to address my concerns promptly.                                                 | negative           | negative       |\n",
            "+-------------------------------------------------------------------------------------------------------------------------------------------------------------------------------------------------------------------------------------------------------------------------------------------------------------------------------------------------------------------------------------------------------------------------------------------------------------------------------------------------------------------------------------------------------------------------------------------------+--------------------+----------------+\n",
            "| expressway logistics' incompetence led to the loss of my parcel, and their lack of accountability only added to the frustration. despite filing a claim and providing evidence of the missing items, i received no assistance or compensation for the lost package. their negligence and disregard for customer satisfaction are unacceptable, and i will be exploring legal options to recoup the value of the lost items.                                                                                                                                                                     | negative           | negative       |\n",
            "+-------------------------------------------------------------------------------------------------------------------------------------------------------------------------------------------------------------------------------------------------------------------------------------------------------------------------------------------------------------------------------------------------------------------------------------------------------------------------------------------------------------------------------------------------------------------------------------------------+--------------------+----------------+\n",
            "| i was deeply disappointed by the behavior of the delivery executive from expressway logistics. they exhibited a complete disregard for customer satisfaction, arriving late and mishandling the package upon delivery. despite raising my concerns with expressway logistics, there was no acknowledgment or resolution provided.                                                                                                                                                                                                                                                               | negative           | negative       |\n",
            "+-------------------------------------------------------------------------------------------------------------------------------------------------------------------------------------------------------------------------------------------------------------------------------------------------------------------------------------------------------------------------------------------------------------------------------------------------------------------------------------------------------------------------------------------------------------------------------------------------+--------------------+----------------+\n",
            "| as a frequent traveler, i often use expressway logistics to ship luggage and personal belongings ahead of time. their door-to-door service and reliable tracking make traveling a breeze.                                                                                                                                                                                                                                                                                                                                                                                                       | positive           | positive       |\n",
            "+-------------------------------------------------------------------------------------------------------------------------------------------------------------------------------------------------------------------------------------------------------------------------------------------------------------------------------------------------------------------------------------------------------------------------------------------------------------------------------------------------------------------------------------------------------------------------------------------------+--------------------+----------------+\n",
            "| expressway logistics caught my attention with its promise of seamless shipping solutions and a comprehensive network. however, my recent experiences have revealed some significant shortcomings. their online platform is disgusting and their tracking system is inaccurate.i've encountered repeated issues with inaccurate weight calculations that have led to unexpected charges. moreover, the limited options for customizing shipment preferences have made it challenging to meet my requirements.i cannot rely upon it for my future requirements.it failed to meet my requirements. | negative           | negative       |\n",
            "+-------------------------------------------------------------------------------------------------------------------------------------------------------------------------------------------------------------------------------------------------------------------------------------------------------------------------------------------------------------------------------------------------------------------------------------------------------------------------------------------------------------------------------------------------------------------------------------------------+--------------------+----------------+\n",
            "| the packaging provided by expressway logistics is always secure and well-protected, and ensured that my items arrive in perfect condition.                                                                                                                                                                                                                                                                                                                                                                                                                                                      | positive           | positive       |\n",
            "+-------------------------------------------------------------------------------------------------------------------------------------------------------------------------------------------------------------------------------------------------------------------------------------------------------------------------------------------------------------------------------------------------------------------------------------------------------------------------------------------------------------------------------------------------------------------------------------------------+--------------------+----------------+\n",
            "| my recent experience with expressway logistics left me thoroughly impressed. i had a highly time-sensitive shipment that required delicate handling and precise coordination. despite the challenges, expressway rose to the occasion, demonstrating an unparalleled level of professionalism and efficiency. their team meticulously planned every aspect of the shipment, from packaging to transportation, ensuring that no detail was overlooked.                                                                                                                                           | positive           | positive       |\n",
            "+-------------------------------------------------------------------------------------------------------------------------------------------------------------------------------------------------------------------------------------------------------------------------------------------------------------------------------------------------------------------------------------------------------------------------------------------------------------------------------------------------------------------------------------------------------------------------------------------------+--------------------+----------------+\n",
            "| i was initially impressed by expressway logistics' promise of reliability and affordability, but my recent encounters have been less than satisfactory. their website is so irritating and their drivers are too harsh, the repeated delays in delivery have been frustrating. additionally, the discovery of hidden fees within their pricing structure has left me feeling misled. in addition to these challenges, their customer service team has been inattentive and disrespectful, which has degraded the overall experience.not at all recommend!                                       | negative           | negative       |\n",
            "+-------------------------------------------------------------------------------------------------------------------------------------------------------------------------------------------------------------------------------------------------------------------------------------------------------------------------------------------------------------------------------------------------------------------------------------------------------------------------------------------------------------------------------------------------------------------------------------------------+--------------------+----------------+\n",
            "| thumbs up to expressway for their prompt responses and reliable shipping solutions. impressed!                                                                                                                                                                                                                                                                                                                                                                                                                                                                                                  | positive           | positive       |\n",
            "+-------------------------------------------------------------------------------------------------------------------------------------------------------------------------------------------------------------------------------------------------------------------------------------------------------------------------------------------------------------------------------------------------------------------------------------------------------------------------------------------------------------------------------------------------------------------------------------------------+--------------------+----------------+\n",
            "| i had a terrible experience with expressway logistics. not only was my pickup delayed, but the packaging was not done intactly, and the customer support team was unresponsive when i tried to raise the issue.                                                                                                                                                                                                                                                                                                                                                                                 | negative           | negative       |\n",
            "+-------------------------------------------------------------------------------------------------------------------------------------------------------------------------------------------------------------------------------------------------------------------------------------------------------------------------------------------------------------------------------------------------------------------------------------------------------------------------------------------------------------------------------------------------------------------------------------------------+--------------------+----------------+\n"
          ]
        },
        {
          "output_type": "stream",
          "name": "stderr",
          "text": [
            "\r 20%|██        | 1/5 [00:12<00:50, 12.66s/it]"
          ]
        },
        {
          "output_type": "stream",
          "name": "stdout",
          "text": [
            "+-------------------------------------------------------------------------------------------------------------------------------------------------------------------------------------------------------------------------------------------------------------------------------------------------------------------------------------------------------------------------------------------------------------------------------------------------------------------------------------------------------------------------------------------------------------------------------------------------+--------------------+----------------+\n",
            "| Review                                                                                                                                                                                                                                                                                                                                                                                                                                                                                                                                                                                          | Model Prediction   | Ground Truth   |\n",
            "+=================================================================================================================================================================================================================================================================================================================================================================================================================================================================================================================================================================================================+====================+================+\n",
            "| the delivery executive assigned by expressway logistics was courteous and professional during the delivery process. they tried their best to handle the package with care.unfortunately, the package arrived with slight damage despite the delivery executive's efforts. the packaging seemed more than adequate to protect the contents during transit.                                                                                                                                                                                                                                       | negative           | positive       |\n",
            "+-------------------------------------------------------------------------------------------------------------------------------------------------------------------------------------------------------------------------------------------------------------------------------------------------------------------------------------------------------------------------------------------------------------------------------------------------------------------------------------------------------------------------------------------------------------------------------------------------+--------------------+----------------+\n",
            "| expressway logistics failed to meet my expectations. the delivery was delayed, and the customer support team was unresponsive and unhelpful when i tried to inquire about the status of my parcel.                                                                                                                                                                                                                                                                                                                                                                                              | negative           | negative       |\n",
            "+-------------------------------------------------------------------------------------------------------------------------------------------------------------------------------------------------------------------------------------------------------------------------------------------------------------------------------------------------------------------------------------------------------------------------------------------------------------------------------------------------------------------------------------------------------------------------------------------------+--------------------+----------------+\n",
            "| expressway logistics' incompetence resulted in a major inconvenience when my package was delivered to the wrong recipient. despite providing accurate delivery information, the package ended up in the hands of someone else, and efforts to retrieve it were unsuccessful. when i contacted customer service for assistance, i was met with apathy and a lack of urgency. their failure to rectify the situation in a timely manner is unacceptable, and i will be avoiding their services at all costs.                                                                                      | negative           | negative       |\n",
            "+-------------------------------------------------------------------------------------------------------------------------------------------------------------------------------------------------------------------------------------------------------------------------------------------------------------------------------------------------------------------------------------------------------------------------------------------------------------------------------------------------------------------------------------------------------------------------------------------------+--------------------+----------------+\n",
            "| kudos to expressway logistics for their outstanding service! they've been an essential partner for my business, handling all our shipping needs with professionalism and efficiency. if you're looking for a reliable logistic service provider, look no further than expressway logistics.                                                                                                                                                                                                                                                                                                     | positive           | positive       |\n",
            "+-------------------------------------------------------------------------------------------------------------------------------------------------------------------------------------------------------------------------------------------------------------------------------------------------------------------------------------------------------------------------------------------------------------------------------------------------------------------------------------------------------------------------------------------------------------------------------------------------+--------------------+----------------+\n",
            "| expressway logistics offers a convenient online platform for booking shipments, and their competitive rates initially drew me in. however, the frequent delays in delivery and lack of transparency regarding additional fees have soured my experience. while their customer service representatives are polite, they often seem powerless to resolve issues effectively.this lack of care and responsibilites from the concerned teams have led me unsatisfied and irritated.i cannot trust and rely on this again.will definitely not contact them ever for my courier deliveries!           | negative           | negative       |\n",
            "+-------------------------------------------------------------------------------------------------------------------------------------------------------------------------------------------------------------------------------------------------------------------------------------------------------------------------------------------------------------------------------------------------------------------------------------------------------------------------------------------------------------------------------------------------------------------------------------------------+--------------------+----------------+\n",
            "| planning a destination wedding is undoubtedly a daunting task, especially when it comes to coordinating transportation for guests and wedding essentials. fortunately, expressway logistics made this aspect of our wedding planning effortless. from the beginning, they were attentive to our needs and provided valuable insights to streamline the process.                                                                                                                                                                                                                                 | positive           | positive       |\n",
            "+-------------------------------------------------------------------------------------------------------------------------------------------------------------------------------------------------------------------------------------------------------------------------------------------------------------------------------------------------------------------------------------------------------------------------------------------------------------------------------------------------------------------------------------------------------------------------------------------------+--------------------+----------------+\n",
            "| expressway logistics consistently delivers on its promises, providing fast, efficient, and reliable courier services that exceeded my expectations.                                                                                                                                                                                                                                                                                                                                                                                                                                             | positive           | positive       |\n",
            "+-------------------------------------------------------------------------------------------------------------------------------------------------------------------------------------------------------------------------------------------------------------------------------------------------------------------------------------------------------------------------------------------------------------------------------------------------------------------------------------------------------------------------------------------------------------------------------------------------+--------------------+----------------+\n",
            "| i needed to ship perishable items internationally, and expressway logistics handled the process flawlessly. they ensured that the items were properly packaged and transported in temperature-controlled conditions.                                                                                                                                                                                                                                                                                                                                                                            | positive           | positive       |\n",
            "+-------------------------------------------------------------------------------------------------------------------------------------------------------------------------------------------------------------------------------------------------------------------------------------------------------------------------------------------------------------------------------------------------------------------------------------------------------------------------------------------------------------------------------------------------------------------------------------------------+--------------------+----------------+\n",
            "| i appreciated the flexibility offered by expressway logistics in terms of delivery options. their range of delivery speeds and service levels allowed me to choose the option that best suited my needs and budget.however, i was slightly disappointed by the lack of transparency regarding few additional fees and surcharges. i selected a specific delivery option and paid minor charges at checkout, which undermined the initial affordability of the service..                                                                                                                         | negative           | negative       |\n",
            "+-------------------------------------------------------------------------------------------------------------------------------------------------------------------------------------------------------------------------------------------------------------------------------------------------------------------------------------------------------------------------------------------------------------------------------------------------------------------------------------------------------------------------------------------------------------------------------------------------+--------------------+----------------+\n",
            "| while expressway logistics' pricing is competitive, their lack of accountability for delays and damages is disappointing. it's frustrating to pay for a service that fails to deliver on its promises consistently.                                                                                                                                                                                                                                                                                                                                                                             | negative           | negative       |\n",
            "+-------------------------------------------------------------------------------------------------------------------------------------------------------------------------------------------------------------------------------------------------------------------------------------------------------------------------------------------------------------------------------------------------------------------------------------------------------------------------------------------------------------------------------------------------------------------------------------------------+--------------------+----------------+\n",
            "| expressway logistics' pricing may seem attractive at first glance, but beware of some internal hidden fees that may sometimes add up. coupled with their reliable delivery times, it's simply not worth the hassle.but still i appreciate that my parcel got delivered safely a day after the promised window.                                                                                                                                                                                                                                                                                  | negative           | positive       |\n",
            "+-------------------------------------------------------------------------------------------------------------------------------------------------------------------------------------------------------------------------------------------------------------------------------------------------------------------------------------------------------------------------------------------------------------------------------------------------------------------------------------------------------------------------------------------------------------------------------------------------+--------------------+----------------+\n",
            "| expressway logistics has been my go-to courier service for years, primarily due to their extensive network coverage and competitive pricing. however, my recent experience has left me questioning their reliability. while their user-friendly website and efficient booking process remain commendable, the repeated delays in delivery and lack of proactive communication have been disappointing.despite these setbacks, their customer service team has always been courteous and responsive, attempting to address my concerns promptly.                                                 | negative           | negative       |\n",
            "+-------------------------------------------------------------------------------------------------------------------------------------------------------------------------------------------------------------------------------------------------------------------------------------------------------------------------------------------------------------------------------------------------------------------------------------------------------------------------------------------------------------------------------------------------------------------------------------------------+--------------------+----------------+\n",
            "| expressway logistics' incompetence led to the loss of my parcel, and their lack of accountability only added to the frustration. despite filing a claim and providing evidence of the missing items, i received no assistance or compensation for the lost package. their negligence and disregard for customer satisfaction are unacceptable, and i will be exploring legal options to recoup the value of the lost items.                                                                                                                                                                     | negative           | negative       |\n",
            "+-------------------------------------------------------------------------------------------------------------------------------------------------------------------------------------------------------------------------------------------------------------------------------------------------------------------------------------------------------------------------------------------------------------------------------------------------------------------------------------------------------------------------------------------------------------------------------------------------+--------------------+----------------+\n",
            "| i was deeply disappointed by the behavior of the delivery executive from expressway logistics. they exhibited a complete disregard for customer satisfaction, arriving late and mishandling the package upon delivery. despite raising my concerns with expressway logistics, there was no acknowledgment or resolution provided.                                                                                                                                                                                                                                                               | negative           | negative       |\n",
            "+-------------------------------------------------------------------------------------------------------------------------------------------------------------------------------------------------------------------------------------------------------------------------------------------------------------------------------------------------------------------------------------------------------------------------------------------------------------------------------------------------------------------------------------------------------------------------------------------------+--------------------+----------------+\n",
            "| as a frequent traveler, i often use expressway logistics to ship luggage and personal belongings ahead of time. their door-to-door service and reliable tracking make traveling a breeze.                                                                                                                                                                                                                                                                                                                                                                                                       | positive           | positive       |\n",
            "+-------------------------------------------------------------------------------------------------------------------------------------------------------------------------------------------------------------------------------------------------------------------------------------------------------------------------------------------------------------------------------------------------------------------------------------------------------------------------------------------------------------------------------------------------------------------------------------------------+--------------------+----------------+\n",
            "| expressway logistics caught my attention with its promise of seamless shipping solutions and a comprehensive network. however, my recent experiences have revealed some significant shortcomings. their online platform is disgusting and their tracking system is inaccurate.i've encountered repeated issues with inaccurate weight calculations that have led to unexpected charges. moreover, the limited options for customizing shipment preferences have made it challenging to meet my requirements.i cannot rely upon it for my future requirements.it failed to meet my requirements. | negative           | negative       |\n",
            "+-------------------------------------------------------------------------------------------------------------------------------------------------------------------------------------------------------------------------------------------------------------------------------------------------------------------------------------------------------------------------------------------------------------------------------------------------------------------------------------------------------------------------------------------------------------------------------------------------+--------------------+----------------+\n",
            "| the packaging provided by expressway logistics is always secure and well-protected, and ensured that my items arrive in perfect condition.                                                                                                                                                                                                                                                                                                                                                                                                                                                      | positive           | positive       |\n",
            "+-------------------------------------------------------------------------------------------------------------------------------------------------------------------------------------------------------------------------------------------------------------------------------------------------------------------------------------------------------------------------------------------------------------------------------------------------------------------------------------------------------------------------------------------------------------------------------------------------+--------------------+----------------+\n",
            "| my recent experience with expressway logistics left me thoroughly impressed. i had a highly time-sensitive shipment that required delicate handling and precise coordination. despite the challenges, expressway rose to the occasion, demonstrating an unparalleled level of professionalism and efficiency. their team meticulously planned every aspect of the shipment, from packaging to transportation, ensuring that no detail was overlooked.                                                                                                                                           | positive           | positive       |\n",
            "+-------------------------------------------------------------------------------------------------------------------------------------------------------------------------------------------------------------------------------------------------------------------------------------------------------------------------------------------------------------------------------------------------------------------------------------------------------------------------------------------------------------------------------------------------------------------------------------------------+--------------------+----------------+\n",
            "| i was initially impressed by expressway logistics' promise of reliability and affordability, but my recent encounters have been less than satisfactory. their website is so irritating and their drivers are too harsh, the repeated delays in delivery have been frustrating. additionally, the discovery of hidden fees within their pricing structure has left me feeling misled. in addition to these challenges, their customer service team has been inattentive and disrespectful, which has degraded the overall experience.not at all recommend!                                       | negative           | negative       |\n",
            "+-------------------------------------------------------------------------------------------------------------------------------------------------------------------------------------------------------------------------------------------------------------------------------------------------------------------------------------------------------------------------------------------------------------------------------------------------------------------------------------------------------------------------------------------------------------------------------------------------+--------------------+----------------+\n",
            "| thumbs up to expressway for their prompt responses and reliable shipping solutions. impressed!                                                                                                                                                                                                                                                                                                                                                                                                                                                                                                  | positive           | positive       |\n",
            "+-------------------------------------------------------------------------------------------------------------------------------------------------------------------------------------------------------------------------------------------------------------------------------------------------------------------------------------------------------------------------------------------------------------------------------------------------------------------------------------------------------------------------------------------------------------------------------------------------+--------------------+----------------+\n",
            "| i had a terrible experience with expressway logistics. not only was my pickup delayed, but the packaging was not done intactly, and the customer support team was unresponsive when i tried to raise the issue.                                                                                                                                                                                                                                                                                                                                                                                 | negative           | negative       |\n",
            "+-------------------------------------------------------------------------------------------------------------------------------------------------------------------------------------------------------------------------------------------------------------------------------------------------------------------------------------------------------------------------------------------------------------------------------------------------------------------------------------------------------------------------------------------------------------------------------------------------+--------------------+----------------+\n",
            "+-------------------------------------------------------------------------------------------------------------------------------------------------------------------------------------------------------------------------------------------------------------------------------------------------------------------------------------------------------------------------------------------------------------------------------------------------------------------------------------------------------------------------------------------------------------------------------------------------+--------------------+----------------+\n",
            "| Review                                                                                                                                                                                                                                                                                                                                                                                                                                                                                                                                                                                          | Model Prediction   | Ground Truth   |\n",
            "+=================================================================================================================================================================================================================================================================================================================================================================================================================================================================================================================================================================================================+====================+================+\n",
            "| the delivery executive assigned by expressway logistics was courteous and professional during the delivery process. they tried their best to handle the package with care.unfortunately, the package arrived with slight damage despite the delivery executive's efforts. the packaging seemed more than adequate to protect the contents during transit.                                                                                                                                                                                                                                       | negative           | positive       |\n",
            "+-------------------------------------------------------------------------------------------------------------------------------------------------------------------------------------------------------------------------------------------------------------------------------------------------------------------------------------------------------------------------------------------------------------------------------------------------------------------------------------------------------------------------------------------------------------------------------------------------+--------------------+----------------+\n",
            "| expressway logistics failed to meet my expectations. the delivery was delayed, and the customer support team was unresponsive and unhelpful when i tried to inquire about the status of my parcel.                                                                                                                                                                                                                                                                                                                                                                                              | negative           | negative       |\n",
            "+-------------------------------------------------------------------------------------------------------------------------------------------------------------------------------------------------------------------------------------------------------------------------------------------------------------------------------------------------------------------------------------------------------------------------------------------------------------------------------------------------------------------------------------------------------------------------------------------------+--------------------+----------------+\n",
            "| expressway logistics' incompetence resulted in a major inconvenience when my package was delivered to the wrong recipient. despite providing accurate delivery information, the package ended up in the hands of someone else, and efforts to retrieve it were unsuccessful. when i contacted customer service for assistance, i was met with apathy and a lack of urgency. their failure to rectify the situation in a timely manner is unacceptable, and i will be avoiding their services at all costs.                                                                                      | negative           | negative       |\n",
            "+-------------------------------------------------------------------------------------------------------------------------------------------------------------------------------------------------------------------------------------------------------------------------------------------------------------------------------------------------------------------------------------------------------------------------------------------------------------------------------------------------------------------------------------------------------------------------------------------------+--------------------+----------------+\n",
            "| kudos to expressway logistics for their outstanding service! they've been an essential partner for my business, handling all our shipping needs with professionalism and efficiency. if you're looking for a reliable logistic service provider, look no further than expressway logistics.                                                                                                                                                                                                                                                                                                     | positive           | positive       |\n",
            "+-------------------------------------------------------------------------------------------------------------------------------------------------------------------------------------------------------------------------------------------------------------------------------------------------------------------------------------------------------------------------------------------------------------------------------------------------------------------------------------------------------------------------------------------------------------------------------------------------+--------------------+----------------+\n",
            "| expressway logistics offers a convenient online platform for booking shipments, and their competitive rates initially drew me in. however, the frequent delays in delivery and lack of transparency regarding additional fees have soured my experience. while their customer service representatives are polite, they often seem powerless to resolve issues effectively.this lack of care and responsibilites from the concerned teams have led me unsatisfied and irritated.i cannot trust and rely on this again.will definitely not contact them ever for my courier deliveries!           | negative           | negative       |\n",
            "+-------------------------------------------------------------------------------------------------------------------------------------------------------------------------------------------------------------------------------------------------------------------------------------------------------------------------------------------------------------------------------------------------------------------------------------------------------------------------------------------------------------------------------------------------------------------------------------------------+--------------------+----------------+\n",
            "| planning a destination wedding is undoubtedly a daunting task, especially when it comes to coordinating transportation for guests and wedding essentials. fortunately, expressway logistics made this aspect of our wedding planning effortless. from the beginning, they were attentive to our needs and provided valuable insights to streamline the process.                                                                                                                                                                                                                                 | positive           | positive       |\n",
            "+-------------------------------------------------------------------------------------------------------------------------------------------------------------------------------------------------------------------------------------------------------------------------------------------------------------------------------------------------------------------------------------------------------------------------------------------------------------------------------------------------------------------------------------------------------------------------------------------------+--------------------+----------------+\n",
            "| expressway logistics consistently delivers on its promises, providing fast, efficient, and reliable courier services that exceeded my expectations.                                                                                                                                                                                                                                                                                                                                                                                                                                             | positive           | positive       |\n",
            "+-------------------------------------------------------------------------------------------------------------------------------------------------------------------------------------------------------------------------------------------------------------------------------------------------------------------------------------------------------------------------------------------------------------------------------------------------------------------------------------------------------------------------------------------------------------------------------------------------+--------------------+----------------+\n",
            "| i needed to ship perishable items internationally, and expressway logistics handled the process flawlessly. they ensured that the items were properly packaged and transported in temperature-controlled conditions.                                                                                                                                                                                                                                                                                                                                                                            | positive           | positive       |\n",
            "+-------------------------------------------------------------------------------------------------------------------------------------------------------------------------------------------------------------------------------------------------------------------------------------------------------------------------------------------------------------------------------------------------------------------------------------------------------------------------------------------------------------------------------------------------------------------------------------------------+--------------------+----------------+\n",
            "| i appreciated the flexibility offered by expressway logistics in terms of delivery options. their range of delivery speeds and service levels allowed me to choose the option that best suited my needs and budget.however, i was slightly disappointed by the lack of transparency regarding few additional fees and surcharges. i selected a specific delivery option and paid minor charges at checkout, which undermined the initial affordability of the service..                                                                                                                         | negative           | negative       |\n",
            "+-------------------------------------------------------------------------------------------------------------------------------------------------------------------------------------------------------------------------------------------------------------------------------------------------------------------------------------------------------------------------------------------------------------------------------------------------------------------------------------------------------------------------------------------------------------------------------------------------+--------------------+----------------+\n",
            "| while expressway logistics' pricing is competitive, their lack of accountability for delays and damages is disappointing. it's frustrating to pay for a service that fails to deliver on its promises consistently.                                                                                                                                                                                                                                                                                                                                                                             | negative           | negative       |\n",
            "+-------------------------------------------------------------------------------------------------------------------------------------------------------------------------------------------------------------------------------------------------------------------------------------------------------------------------------------------------------------------------------------------------------------------------------------------------------------------------------------------------------------------------------------------------------------------------------------------------+--------------------+----------------+\n",
            "| expressway logistics' pricing may seem attractive at first glance, but beware of some internal hidden fees that may sometimes add up. coupled with their reliable delivery times, it's simply not worth the hassle.but still i appreciate that my parcel got delivered safely a day after the promised window.                                                                                                                                                                                                                                                                                  | negative           | positive       |\n",
            "+-------------------------------------------------------------------------------------------------------------------------------------------------------------------------------------------------------------------------------------------------------------------------------------------------------------------------------------------------------------------------------------------------------------------------------------------------------------------------------------------------------------------------------------------------------------------------------------------------+--------------------+----------------+\n",
            "| expressway logistics has been my go-to courier service for years, primarily due to their extensive network coverage and competitive pricing. however, my recent experience has left me questioning their reliability. while their user-friendly website and efficient booking process remain commendable, the repeated delays in delivery and lack of proactive communication have been disappointing.despite these setbacks, their customer service team has always been courteous and responsive, attempting to address my concerns promptly.                                                 | negative           | negative       |\n",
            "+-------------------------------------------------------------------------------------------------------------------------------------------------------------------------------------------------------------------------------------------------------------------------------------------------------------------------------------------------------------------------------------------------------------------------------------------------------------------------------------------------------------------------------------------------------------------------------------------------+--------------------+----------------+\n",
            "| expressway logistics' incompetence led to the loss of my parcel, and their lack of accountability only added to the frustration. despite filing a claim and providing evidence of the missing items, i received no assistance or compensation for the lost package. their negligence and disregard for customer satisfaction are unacceptable, and i will be exploring legal options to recoup the value of the lost items.                                                                                                                                                                     | negative           | negative       |\n",
            "+-------------------------------------------------------------------------------------------------------------------------------------------------------------------------------------------------------------------------------------------------------------------------------------------------------------------------------------------------------------------------------------------------------------------------------------------------------------------------------------------------------------------------------------------------------------------------------------------------+--------------------+----------------+\n",
            "| i was deeply disappointed by the behavior of the delivery executive from expressway logistics. they exhibited a complete disregard for customer satisfaction, arriving late and mishandling the package upon delivery. despite raising my concerns with expressway logistics, there was no acknowledgment or resolution provided.                                                                                                                                                                                                                                                               | negative           | negative       |\n",
            "+-------------------------------------------------------------------------------------------------------------------------------------------------------------------------------------------------------------------------------------------------------------------------------------------------------------------------------------------------------------------------------------------------------------------------------------------------------------------------------------------------------------------------------------------------------------------------------------------------+--------------------+----------------+\n",
            "| as a frequent traveler, i often use expressway logistics to ship luggage and personal belongings ahead of time. their door-to-door service and reliable tracking make traveling a breeze.                                                                                                                                                                                                                                                                                                                                                                                                       | positive           | positive       |\n",
            "+-------------------------------------------------------------------------------------------------------------------------------------------------------------------------------------------------------------------------------------------------------------------------------------------------------------------------------------------------------------------------------------------------------------------------------------------------------------------------------------------------------------------------------------------------------------------------------------------------+--------------------+----------------+\n",
            "| expressway logistics caught my attention with its promise of seamless shipping solutions and a comprehensive network. however, my recent experiences have revealed some significant shortcomings. their online platform is disgusting and their tracking system is inaccurate.i've encountered repeated issues with inaccurate weight calculations that have led to unexpected charges. moreover, the limited options for customizing shipment preferences have made it challenging to meet my requirements.i cannot rely upon it for my future requirements.it failed to meet my requirements. | negative           | negative       |\n",
            "+-------------------------------------------------------------------------------------------------------------------------------------------------------------------------------------------------------------------------------------------------------------------------------------------------------------------------------------------------------------------------------------------------------------------------------------------------------------------------------------------------------------------------------------------------------------------------------------------------+--------------------+----------------+\n",
            "| the packaging provided by expressway logistics is always secure and well-protected, and ensured that my items arrive in perfect condition.                                                                                                                                                                                                                                                                                                                                                                                                                                                      | positive           | positive       |\n",
            "+-------------------------------------------------------------------------------------------------------------------------------------------------------------------------------------------------------------------------------------------------------------------------------------------------------------------------------------------------------------------------------------------------------------------------------------------------------------------------------------------------------------------------------------------------------------------------------------------------+--------------------+----------------+\n",
            "| my recent experience with expressway logistics left me thoroughly impressed. i had a highly time-sensitive shipment that required delicate handling and precise coordination. despite the challenges, expressway rose to the occasion, demonstrating an unparalleled level of professionalism and efficiency. their team meticulously planned every aspect of the shipment, from packaging to transportation, ensuring that no detail was overlooked.                                                                                                                                           | positive           | positive       |\n",
            "+-------------------------------------------------------------------------------------------------------------------------------------------------------------------------------------------------------------------------------------------------------------------------------------------------------------------------------------------------------------------------------------------------------------------------------------------------------------------------------------------------------------------------------------------------------------------------------------------------+--------------------+----------------+\n",
            "| i was initially impressed by expressway logistics' promise of reliability and affordability, but my recent encounters have been less than satisfactory. their website is so irritating and their drivers are too harsh, the repeated delays in delivery have been frustrating. additionally, the discovery of hidden fees within their pricing structure has left me feeling misled. in addition to these challenges, their customer service team has been inattentive and disrespectful, which has degraded the overall experience.not at all recommend!                                       | negative           | negative       |\n",
            "+-------------------------------------------------------------------------------------------------------------------------------------------------------------------------------------------------------------------------------------------------------------------------------------------------------------------------------------------------------------------------------------------------------------------------------------------------------------------------------------------------------------------------------------------------------------------------------------------------+--------------------+----------------+\n",
            "| thumbs up to expressway for their prompt responses and reliable shipping solutions. impressed!                                                                                                                                                                                                                                                                                                                                                                                                                                                                                                  | positive           | positive       |\n",
            "+-------------------------------------------------------------------------------------------------------------------------------------------------------------------------------------------------------------------------------------------------------------------------------------------------------------------------------------------------------------------------------------------------------------------------------------------------------------------------------------------------------------------------------------------------------------------------------------------------+--------------------+----------------+\n",
            "| i had a terrible experience with expressway logistics. not only was my pickup delayed, but the packaging was not done intactly, and the customer support team was unresponsive when i tried to raise the issue.                                                                                                                                                                                                                                                                                                                                                                                 | negative           | negative       |\n",
            "+-------------------------------------------------------------------------------------------------------------------------------------------------------------------------------------------------------------------------------------------------------------------------------------------------------------------------------------------------------------------------------------------------------------------------------------------------------------------------------------------------------------------------------------------------------------------------------------------------+--------------------+----------------+\n"
          ]
        },
        {
          "output_type": "stream",
          "name": "stderr",
          "text": [
            "\r 40%|████      | 2/5 [00:25<00:38, 12.74s/it]"
          ]
        },
        {
          "output_type": "stream",
          "name": "stdout",
          "text": [
            "+-------------------------------------------------------------------------------------------------------------------------------------------------------------------------------------------------------------------------------------------------------------------------------------------------------------------------------------------------------------------------------------------------------------------------------------------------------------------------------------------------------------------------------------------------------------------------------------------------+--------------------+----------------+\n",
            "| Review                                                                                                                                                                                                                                                                                                                                                                                                                                                                                                                                                                                          | Model Prediction   | Ground Truth   |\n",
            "+=================================================================================================================================================================================================================================================================================================================================================================================================================================================================================================================================================================================================+====================+================+\n",
            "| the delivery executive assigned by expressway logistics was courteous and professional during the delivery process. they tried their best to handle the package with care.unfortunately, the package arrived with slight damage despite the delivery executive's efforts. the packaging seemed more than adequate to protect the contents during transit.                                                                                                                                                                                                                                       | negative           | positive       |\n",
            "+-------------------------------------------------------------------------------------------------------------------------------------------------------------------------------------------------------------------------------------------------------------------------------------------------------------------------------------------------------------------------------------------------------------------------------------------------------------------------------------------------------------------------------------------------------------------------------------------------+--------------------+----------------+\n",
            "| expressway logistics failed to meet my expectations. the delivery was delayed, and the customer support team was unresponsive and unhelpful when i tried to inquire about the status of my parcel.                                                                                                                                                                                                                                                                                                                                                                                              | negative           | negative       |\n",
            "+-------------------------------------------------------------------------------------------------------------------------------------------------------------------------------------------------------------------------------------------------------------------------------------------------------------------------------------------------------------------------------------------------------------------------------------------------------------------------------------------------------------------------------------------------------------------------------------------------+--------------------+----------------+\n",
            "| expressway logistics' incompetence resulted in a major inconvenience when my package was delivered to the wrong recipient. despite providing accurate delivery information, the package ended up in the hands of someone else, and efforts to retrieve it were unsuccessful. when i contacted customer service for assistance, i was met with apathy and a lack of urgency. their failure to rectify the situation in a timely manner is unacceptable, and i will be avoiding their services at all costs.                                                                                      | negative           | negative       |\n",
            "+-------------------------------------------------------------------------------------------------------------------------------------------------------------------------------------------------------------------------------------------------------------------------------------------------------------------------------------------------------------------------------------------------------------------------------------------------------------------------------------------------------------------------------------------------------------------------------------------------+--------------------+----------------+\n",
            "| kudos to expressway logistics for their outstanding service! they've been an essential partner for my business, handling all our shipping needs with professionalism and efficiency. if you're looking for a reliable logistic service provider, look no further than expressway logistics.                                                                                                                                                                                                                                                                                                     | positive           | positive       |\n",
            "+-------------------------------------------------------------------------------------------------------------------------------------------------------------------------------------------------------------------------------------------------------------------------------------------------------------------------------------------------------------------------------------------------------------------------------------------------------------------------------------------------------------------------------------------------------------------------------------------------+--------------------+----------------+\n",
            "| expressway logistics offers a convenient online platform for booking shipments, and their competitive rates initially drew me in. however, the frequent delays in delivery and lack of transparency regarding additional fees have soured my experience. while their customer service representatives are polite, they often seem powerless to resolve issues effectively.this lack of care and responsibilites from the concerned teams have led me unsatisfied and irritated.i cannot trust and rely on this again.will definitely not contact them ever for my courier deliveries!           | negative           | negative       |\n",
            "+-------------------------------------------------------------------------------------------------------------------------------------------------------------------------------------------------------------------------------------------------------------------------------------------------------------------------------------------------------------------------------------------------------------------------------------------------------------------------------------------------------------------------------------------------------------------------------------------------+--------------------+----------------+\n",
            "| planning a destination wedding is undoubtedly a daunting task, especially when it comes to coordinating transportation for guests and wedding essentials. fortunately, expressway logistics made this aspect of our wedding planning effortless. from the beginning, they were attentive to our needs and provided valuable insights to streamline the process.                                                                                                                                                                                                                                 | positive           | positive       |\n",
            "+-------------------------------------------------------------------------------------------------------------------------------------------------------------------------------------------------------------------------------------------------------------------------------------------------------------------------------------------------------------------------------------------------------------------------------------------------------------------------------------------------------------------------------------------------------------------------------------------------+--------------------+----------------+\n",
            "| expressway logistics consistently delivers on its promises, providing fast, efficient, and reliable courier services that exceeded my expectations.                                                                                                                                                                                                                                                                                                                                                                                                                                             | positive           | positive       |\n",
            "+-------------------------------------------------------------------------------------------------------------------------------------------------------------------------------------------------------------------------------------------------------------------------------------------------------------------------------------------------------------------------------------------------------------------------------------------------------------------------------------------------------------------------------------------------------------------------------------------------+--------------------+----------------+\n",
            "| i needed to ship perishable items internationally, and expressway logistics handled the process flawlessly. they ensured that the items were properly packaged and transported in temperature-controlled conditions.                                                                                                                                                                                                                                                                                                                                                                            | positive           | positive       |\n",
            "+-------------------------------------------------------------------------------------------------------------------------------------------------------------------------------------------------------------------------------------------------------------------------------------------------------------------------------------------------------------------------------------------------------------------------------------------------------------------------------------------------------------------------------------------------------------------------------------------------+--------------------+----------------+\n",
            "| i appreciated the flexibility offered by expressway logistics in terms of delivery options. their range of delivery speeds and service levels allowed me to choose the option that best suited my needs and budget.however, i was slightly disappointed by the lack of transparency regarding few additional fees and surcharges. i selected a specific delivery option and paid minor charges at checkout, which undermined the initial affordability of the service..                                                                                                                         | negative           | negative       |\n",
            "+-------------------------------------------------------------------------------------------------------------------------------------------------------------------------------------------------------------------------------------------------------------------------------------------------------------------------------------------------------------------------------------------------------------------------------------------------------------------------------------------------------------------------------------------------------------------------------------------------+--------------------+----------------+\n",
            "| while expressway logistics' pricing is competitive, their lack of accountability for delays and damages is disappointing. it's frustrating to pay for a service that fails to deliver on its promises consistently.                                                                                                                                                                                                                                                                                                                                                                             | negative           | negative       |\n",
            "+-------------------------------------------------------------------------------------------------------------------------------------------------------------------------------------------------------------------------------------------------------------------------------------------------------------------------------------------------------------------------------------------------------------------------------------------------------------------------------------------------------------------------------------------------------------------------------------------------+--------------------+----------------+\n",
            "| expressway logistics' pricing may seem attractive at first glance, but beware of some internal hidden fees that may sometimes add up. coupled with their reliable delivery times, it's simply not worth the hassle.but still i appreciate that my parcel got delivered safely a day after the promised window.                                                                                                                                                                                                                                                                                  | negative           | positive       |\n",
            "+-------------------------------------------------------------------------------------------------------------------------------------------------------------------------------------------------------------------------------------------------------------------------------------------------------------------------------------------------------------------------------------------------------------------------------------------------------------------------------------------------------------------------------------------------------------------------------------------------+--------------------+----------------+\n",
            "| expressway logistics has been my go-to courier service for years, primarily due to their extensive network coverage and competitive pricing. however, my recent experience has left me questioning their reliability. while their user-friendly website and efficient booking process remain commendable, the repeated delays in delivery and lack of proactive communication have been disappointing.despite these setbacks, their customer service team has always been courteous and responsive, attempting to address my concerns promptly.                                                 | negative           | negative       |\n",
            "+-------------------------------------------------------------------------------------------------------------------------------------------------------------------------------------------------------------------------------------------------------------------------------------------------------------------------------------------------------------------------------------------------------------------------------------------------------------------------------------------------------------------------------------------------------------------------------------------------+--------------------+----------------+\n",
            "| expressway logistics' incompetence led to the loss of my parcel, and their lack of accountability only added to the frustration. despite filing a claim and providing evidence of the missing items, i received no assistance or compensation for the lost package. their negligence and disregard for customer satisfaction are unacceptable, and i will be exploring legal options to recoup the value of the lost items.                                                                                                                                                                     | negative           | negative       |\n",
            "+-------------------------------------------------------------------------------------------------------------------------------------------------------------------------------------------------------------------------------------------------------------------------------------------------------------------------------------------------------------------------------------------------------------------------------------------------------------------------------------------------------------------------------------------------------------------------------------------------+--------------------+----------------+\n",
            "| i was deeply disappointed by the behavior of the delivery executive from expressway logistics. they exhibited a complete disregard for customer satisfaction, arriving late and mishandling the package upon delivery. despite raising my concerns with expressway logistics, there was no acknowledgment or resolution provided.                                                                                                                                                                                                                                                               | negative           | negative       |\n",
            "+-------------------------------------------------------------------------------------------------------------------------------------------------------------------------------------------------------------------------------------------------------------------------------------------------------------------------------------------------------------------------------------------------------------------------------------------------------------------------------------------------------------------------------------------------------------------------------------------------+--------------------+----------------+\n",
            "| as a frequent traveler, i often use expressway logistics to ship luggage and personal belongings ahead of time. their door-to-door service and reliable tracking make traveling a breeze.                                                                                                                                                                                                                                                                                                                                                                                                       | positive           | positive       |\n",
            "+-------------------------------------------------------------------------------------------------------------------------------------------------------------------------------------------------------------------------------------------------------------------------------------------------------------------------------------------------------------------------------------------------------------------------------------------------------------------------------------------------------------------------------------------------------------------------------------------------+--------------------+----------------+\n",
            "| expressway logistics caught my attention with its promise of seamless shipping solutions and a comprehensive network. however, my recent experiences have revealed some significant shortcomings. their online platform is disgusting and their tracking system is inaccurate.i've encountered repeated issues with inaccurate weight calculations that have led to unexpected charges. moreover, the limited options for customizing shipment preferences have made it challenging to meet my requirements.i cannot rely upon it for my future requirements.it failed to meet my requirements. | negative           | negative       |\n",
            "+-------------------------------------------------------------------------------------------------------------------------------------------------------------------------------------------------------------------------------------------------------------------------------------------------------------------------------------------------------------------------------------------------------------------------------------------------------------------------------------------------------------------------------------------------------------------------------------------------+--------------------+----------------+\n",
            "| the packaging provided by expressway logistics is always secure and well-protected, and ensured that my items arrive in perfect condition.                                                                                                                                                                                                                                                                                                                                                                                                                                                      | positive           | positive       |\n",
            "+-------------------------------------------------------------------------------------------------------------------------------------------------------------------------------------------------------------------------------------------------------------------------------------------------------------------------------------------------------------------------------------------------------------------------------------------------------------------------------------------------------------------------------------------------------------------------------------------------+--------------------+----------------+\n",
            "| my recent experience with expressway logistics left me thoroughly impressed. i had a highly time-sensitive shipment that required delicate handling and precise coordination. despite the challenges, expressway rose to the occasion, demonstrating an unparalleled level of professionalism and efficiency. their team meticulously planned every aspect of the shipment, from packaging to transportation, ensuring that no detail was overlooked.                                                                                                                                           | positive           | positive       |\n",
            "+-------------------------------------------------------------------------------------------------------------------------------------------------------------------------------------------------------------------------------------------------------------------------------------------------------------------------------------------------------------------------------------------------------------------------------------------------------------------------------------------------------------------------------------------------------------------------------------------------+--------------------+----------------+\n",
            "| i was initially impressed by expressway logistics' promise of reliability and affordability, but my recent encounters have been less than satisfactory. their website is so irritating and their drivers are too harsh, the repeated delays in delivery have been frustrating. additionally, the discovery of hidden fees within their pricing structure has left me feeling misled. in addition to these challenges, their customer service team has been inattentive and disrespectful, which has degraded the overall experience.not at all recommend!                                       | negative           | negative       |\n",
            "+-------------------------------------------------------------------------------------------------------------------------------------------------------------------------------------------------------------------------------------------------------------------------------------------------------------------------------------------------------------------------------------------------------------------------------------------------------------------------------------------------------------------------------------------------------------------------------------------------+--------------------+----------------+\n",
            "| thumbs up to expressway for their prompt responses and reliable shipping solutions. impressed!                                                                                                                                                                                                                                                                                                                                                                                                                                                                                                  | positive           | positive       |\n",
            "+-------------------------------------------------------------------------------------------------------------------------------------------------------------------------------------------------------------------------------------------------------------------------------------------------------------------------------------------------------------------------------------------------------------------------------------------------------------------------------------------------------------------------------------------------------------------------------------------------+--------------------+----------------+\n",
            "| i had a terrible experience with expressway logistics. not only was my pickup delayed, but the packaging was not done intactly, and the customer support team was unresponsive when i tried to raise the issue.                                                                                                                                                                                                                                                                                                                                                                                 | negative           | negative       |\n",
            "+-------------------------------------------------------------------------------------------------------------------------------------------------------------------------------------------------------------------------------------------------------------------------------------------------------------------------------------------------------------------------------------------------------------------------------------------------------------------------------------------------------------------------------------------------------------------------------------------------+--------------------+----------------+\n",
            "+-------------------------------------------------------------------------------------------------------------------------------------------------------------------------------------------------------------------------------------------------------------------------------------------------------------------------------------------------------------------------------------------------------------------------------------------------------------------------------------------------------------------------------------------------------------------------------------------------+--------------------+----------------+\n",
            "| Review                                                                                                                                                                                                                                                                                                                                                                                                                                                                                                                                                                                          | Model Prediction   | Ground Truth   |\n",
            "+=================================================================================================================================================================================================================================================================================================================================================================================================================================================================================================================================================================================================+====================+================+\n",
            "| the delivery executive assigned by expressway logistics was courteous and professional during the delivery process. they tried their best to handle the package with care.unfortunately, the package arrived with slight damage despite the delivery executive's efforts. the packaging seemed more than adequate to protect the contents during transit.                                                                                                                                                                                                                                       | negative           | positive       |\n",
            "+-------------------------------------------------------------------------------------------------------------------------------------------------------------------------------------------------------------------------------------------------------------------------------------------------------------------------------------------------------------------------------------------------------------------------------------------------------------------------------------------------------------------------------------------------------------------------------------------------+--------------------+----------------+\n",
            "| expressway logistics failed to meet my expectations. the delivery was delayed, and the customer support team was unresponsive and unhelpful when i tried to inquire about the status of my parcel.                                                                                                                                                                                                                                                                                                                                                                                              | negative           | negative       |\n",
            "+-------------------------------------------------------------------------------------------------------------------------------------------------------------------------------------------------------------------------------------------------------------------------------------------------------------------------------------------------------------------------------------------------------------------------------------------------------------------------------------------------------------------------------------------------------------------------------------------------+--------------------+----------------+\n",
            "| expressway logistics' incompetence resulted in a major inconvenience when my package was delivered to the wrong recipient. despite providing accurate delivery information, the package ended up in the hands of someone else, and efforts to retrieve it were unsuccessful. when i contacted customer service for assistance, i was met with apathy and a lack of urgency. their failure to rectify the situation in a timely manner is unacceptable, and i will be avoiding their services at all costs.                                                                                      | negative           | negative       |\n",
            "+-------------------------------------------------------------------------------------------------------------------------------------------------------------------------------------------------------------------------------------------------------------------------------------------------------------------------------------------------------------------------------------------------------------------------------------------------------------------------------------------------------------------------------------------------------------------------------------------------+--------------------+----------------+\n",
            "| kudos to expressway logistics for their outstanding service! they've been an essential partner for my business, handling all our shipping needs with professionalism and efficiency. if you're looking for a reliable logistic service provider, look no further than expressway logistics.                                                                                                                                                                                                                                                                                                     | positive           | positive       |\n",
            "+-------------------------------------------------------------------------------------------------------------------------------------------------------------------------------------------------------------------------------------------------------------------------------------------------------------------------------------------------------------------------------------------------------------------------------------------------------------------------------------------------------------------------------------------------------------------------------------------------+--------------------+----------------+\n",
            "| expressway logistics offers a convenient online platform for booking shipments, and their competitive rates initially drew me in. however, the frequent delays in delivery and lack of transparency regarding additional fees have soured my experience. while their customer service representatives are polite, they often seem powerless to resolve issues effectively.this lack of care and responsibilites from the concerned teams have led me unsatisfied and irritated.i cannot trust and rely on this again.will definitely not contact them ever for my courier deliveries!           | negative           | negative       |\n",
            "+-------------------------------------------------------------------------------------------------------------------------------------------------------------------------------------------------------------------------------------------------------------------------------------------------------------------------------------------------------------------------------------------------------------------------------------------------------------------------------------------------------------------------------------------------------------------------------------------------+--------------------+----------------+\n",
            "| planning a destination wedding is undoubtedly a daunting task, especially when it comes to coordinating transportation for guests and wedding essentials. fortunately, expressway logistics made this aspect of our wedding planning effortless. from the beginning, they were attentive to our needs and provided valuable insights to streamline the process.                                                                                                                                                                                                                                 | positive           | positive       |\n",
            "+-------------------------------------------------------------------------------------------------------------------------------------------------------------------------------------------------------------------------------------------------------------------------------------------------------------------------------------------------------------------------------------------------------------------------------------------------------------------------------------------------------------------------------------------------------------------------------------------------+--------------------+----------------+\n",
            "| expressway logistics consistently delivers on its promises, providing fast, efficient, and reliable courier services that exceeded my expectations.                                                                                                                                                                                                                                                                                                                                                                                                                                             | positive           | positive       |\n",
            "+-------------------------------------------------------------------------------------------------------------------------------------------------------------------------------------------------------------------------------------------------------------------------------------------------------------------------------------------------------------------------------------------------------------------------------------------------------------------------------------------------------------------------------------------------------------------------------------------------+--------------------+----------------+\n",
            "| i needed to ship perishable items internationally, and expressway logistics handled the process flawlessly. they ensured that the items were properly packaged and transported in temperature-controlled conditions.                                                                                                                                                                                                                                                                                                                                                                            | positive           | positive       |\n",
            "+-------------------------------------------------------------------------------------------------------------------------------------------------------------------------------------------------------------------------------------------------------------------------------------------------------------------------------------------------------------------------------------------------------------------------------------------------------------------------------------------------------------------------------------------------------------------------------------------------+--------------------+----------------+\n",
            "| i appreciated the flexibility offered by expressway logistics in terms of delivery options. their range of delivery speeds and service levels allowed me to choose the option that best suited my needs and budget.however, i was slightly disappointed by the lack of transparency regarding few additional fees and surcharges. i selected a specific delivery option and paid minor charges at checkout, which undermined the initial affordability of the service..                                                                                                                         | negative           | negative       |\n",
            "+-------------------------------------------------------------------------------------------------------------------------------------------------------------------------------------------------------------------------------------------------------------------------------------------------------------------------------------------------------------------------------------------------------------------------------------------------------------------------------------------------------------------------------------------------------------------------------------------------+--------------------+----------------+\n",
            "| while expressway logistics' pricing is competitive, their lack of accountability for delays and damages is disappointing. it's frustrating to pay for a service that fails to deliver on its promises consistently.                                                                                                                                                                                                                                                                                                                                                                             | negative           | negative       |\n",
            "+-------------------------------------------------------------------------------------------------------------------------------------------------------------------------------------------------------------------------------------------------------------------------------------------------------------------------------------------------------------------------------------------------------------------------------------------------------------------------------------------------------------------------------------------------------------------------------------------------+--------------------+----------------+\n",
            "| expressway logistics' pricing may seem attractive at first glance, but beware of some internal hidden fees that may sometimes add up. coupled with their reliable delivery times, it's simply not worth the hassle.but still i appreciate that my parcel got delivered safely a day after the promised window.                                                                                                                                                                                                                                                                                  | negative           | positive       |\n",
            "+-------------------------------------------------------------------------------------------------------------------------------------------------------------------------------------------------------------------------------------------------------------------------------------------------------------------------------------------------------------------------------------------------------------------------------------------------------------------------------------------------------------------------------------------------------------------------------------------------+--------------------+----------------+\n",
            "| expressway logistics has been my go-to courier service for years, primarily due to their extensive network coverage and competitive pricing. however, my recent experience has left me questioning their reliability. while their user-friendly website and efficient booking process remain commendable, the repeated delays in delivery and lack of proactive communication have been disappointing.despite these setbacks, their customer service team has always been courteous and responsive, attempting to address my concerns promptly.                                                 | negative           | negative       |\n",
            "+-------------------------------------------------------------------------------------------------------------------------------------------------------------------------------------------------------------------------------------------------------------------------------------------------------------------------------------------------------------------------------------------------------------------------------------------------------------------------------------------------------------------------------------------------------------------------------------------------+--------------------+----------------+\n",
            "| expressway logistics' incompetence led to the loss of my parcel, and their lack of accountability only added to the frustration. despite filing a claim and providing evidence of the missing items, i received no assistance or compensation for the lost package. their negligence and disregard for customer satisfaction are unacceptable, and i will be exploring legal options to recoup the value of the lost items.                                                                                                                                                                     | negative           | negative       |\n",
            "+-------------------------------------------------------------------------------------------------------------------------------------------------------------------------------------------------------------------------------------------------------------------------------------------------------------------------------------------------------------------------------------------------------------------------------------------------------------------------------------------------------------------------------------------------------------------------------------------------+--------------------+----------------+\n",
            "| i was deeply disappointed by the behavior of the delivery executive from expressway logistics. they exhibited a complete disregard for customer satisfaction, arriving late and mishandling the package upon delivery. despite raising my concerns with expressway logistics, there was no acknowledgment or resolution provided.                                                                                                                                                                                                                                                               | negative           | negative       |\n",
            "+-------------------------------------------------------------------------------------------------------------------------------------------------------------------------------------------------------------------------------------------------------------------------------------------------------------------------------------------------------------------------------------------------------------------------------------------------------------------------------------------------------------------------------------------------------------------------------------------------+--------------------+----------------+\n",
            "| as a frequent traveler, i often use expressway logistics to ship luggage and personal belongings ahead of time. their door-to-door service and reliable tracking make traveling a breeze.                                                                                                                                                                                                                                                                                                                                                                                                       | positive           | positive       |\n",
            "+-------------------------------------------------------------------------------------------------------------------------------------------------------------------------------------------------------------------------------------------------------------------------------------------------------------------------------------------------------------------------------------------------------------------------------------------------------------------------------------------------------------------------------------------------------------------------------------------------+--------------------+----------------+\n",
            "| expressway logistics caught my attention with its promise of seamless shipping solutions and a comprehensive network. however, my recent experiences have revealed some significant shortcomings. their online platform is disgusting and their tracking system is inaccurate.i've encountered repeated issues with inaccurate weight calculations that have led to unexpected charges. moreover, the limited options for customizing shipment preferences have made it challenging to meet my requirements.i cannot rely upon it for my future requirements.it failed to meet my requirements. | negative           | negative       |\n",
            "+-------------------------------------------------------------------------------------------------------------------------------------------------------------------------------------------------------------------------------------------------------------------------------------------------------------------------------------------------------------------------------------------------------------------------------------------------------------------------------------------------------------------------------------------------------------------------------------------------+--------------------+----------------+\n",
            "| the packaging provided by expressway logistics is always secure and well-protected, and ensured that my items arrive in perfect condition.                                                                                                                                                                                                                                                                                                                                                                                                                                                      | positive           | positive       |\n",
            "+-------------------------------------------------------------------------------------------------------------------------------------------------------------------------------------------------------------------------------------------------------------------------------------------------------------------------------------------------------------------------------------------------------------------------------------------------------------------------------------------------------------------------------------------------------------------------------------------------+--------------------+----------------+\n",
            "| my recent experience with expressway logistics left me thoroughly impressed. i had a highly time-sensitive shipment that required delicate handling and precise coordination. despite the challenges, expressway rose to the occasion, demonstrating an unparalleled level of professionalism and efficiency. their team meticulously planned every aspect of the shipment, from packaging to transportation, ensuring that no detail was overlooked.                                                                                                                                           | positive           | positive       |\n",
            "+-------------------------------------------------------------------------------------------------------------------------------------------------------------------------------------------------------------------------------------------------------------------------------------------------------------------------------------------------------------------------------------------------------------------------------------------------------------------------------------------------------------------------------------------------------------------------------------------------+--------------------+----------------+\n",
            "| i was initially impressed by expressway logistics' promise of reliability and affordability, but my recent encounters have been less than satisfactory. their website is so irritating and their drivers are too harsh, the repeated delays in delivery have been frustrating. additionally, the discovery of hidden fees within their pricing structure has left me feeling misled. in addition to these challenges, their customer service team has been inattentive and disrespectful, which has degraded the overall experience.not at all recommend!                                       | negative           | negative       |\n",
            "+-------------------------------------------------------------------------------------------------------------------------------------------------------------------------------------------------------------------------------------------------------------------------------------------------------------------------------------------------------------------------------------------------------------------------------------------------------------------------------------------------------------------------------------------------------------------------------------------------+--------------------+----------------+\n",
            "| thumbs up to expressway for their prompt responses and reliable shipping solutions. impressed!                                                                                                                                                                                                                                                                                                                                                                                                                                                                                                  | positive           | positive       |\n",
            "+-------------------------------------------------------------------------------------------------------------------------------------------------------------------------------------------------------------------------------------------------------------------------------------------------------------------------------------------------------------------------------------------------------------------------------------------------------------------------------------------------------------------------------------------------------------------------------------------------+--------------------+----------------+\n",
            "| i had a terrible experience with expressway logistics. not only was my pickup delayed, but the packaging was not done intactly, and the customer support team was unresponsive when i tried to raise the issue.                                                                                                                                                                                                                                                                                                                                                                                 | negative           | negative       |\n",
            "+-------------------------------------------------------------------------------------------------------------------------------------------------------------------------------------------------------------------------------------------------------------------------------------------------------------------------------------------------------------------------------------------------------------------------------------------------------------------------------------------------------------------------------------------------------------------------------------------------+--------------------+----------------+\n"
          ]
        },
        {
          "output_type": "stream",
          "name": "stderr",
          "text": [
            "\r 60%|██████    | 3/5 [00:37<00:25, 12.62s/it]"
          ]
        },
        {
          "output_type": "stream",
          "name": "stdout",
          "text": [
            "+-------------------------------------------------------------------------------------------------------------------------------------------------------------------------------------------------------------------------------------------------------------------------------------------------------------------------------------------------------------------------------------------------------------------------------------------------------------------------------------------------------------------------------------------------------------------------------------------------+--------------------+----------------+\n",
            "| Review                                                                                                                                                                                                                                                                                                                                                                                                                                                                                                                                                                                          | Model Prediction   | Ground Truth   |\n",
            "+=================================================================================================================================================================================================================================================================================================================================================================================================================================================================================================================================================================================================+====================+================+\n",
            "| the delivery executive assigned by expressway logistics was courteous and professional during the delivery process. they tried their best to handle the package with care.unfortunately, the package arrived with slight damage despite the delivery executive's efforts. the packaging seemed more than adequate to protect the contents during transit.                                                                                                                                                                                                                                       | negative           | positive       |\n",
            "+-------------------------------------------------------------------------------------------------------------------------------------------------------------------------------------------------------------------------------------------------------------------------------------------------------------------------------------------------------------------------------------------------------------------------------------------------------------------------------------------------------------------------------------------------------------------------------------------------+--------------------+----------------+\n",
            "| expressway logistics failed to meet my expectations. the delivery was delayed, and the customer support team was unresponsive and unhelpful when i tried to inquire about the status of my parcel.                                                                                                                                                                                                                                                                                                                                                                                              | negative           | negative       |\n",
            "+-------------------------------------------------------------------------------------------------------------------------------------------------------------------------------------------------------------------------------------------------------------------------------------------------------------------------------------------------------------------------------------------------------------------------------------------------------------------------------------------------------------------------------------------------------------------------------------------------+--------------------+----------------+\n",
            "| expressway logistics' incompetence resulted in a major inconvenience when my package was delivered to the wrong recipient. despite providing accurate delivery information, the package ended up in the hands of someone else, and efforts to retrieve it were unsuccessful. when i contacted customer service for assistance, i was met with apathy and a lack of urgency. their failure to rectify the situation in a timely manner is unacceptable, and i will be avoiding their services at all costs.                                                                                      | negative           | negative       |\n",
            "+-------------------------------------------------------------------------------------------------------------------------------------------------------------------------------------------------------------------------------------------------------------------------------------------------------------------------------------------------------------------------------------------------------------------------------------------------------------------------------------------------------------------------------------------------------------------------------------------------+--------------------+----------------+\n",
            "| kudos to expressway logistics for their outstanding service! they've been an essential partner for my business, handling all our shipping needs with professionalism and efficiency. if you're looking for a reliable logistic service provider, look no further than expressway logistics.                                                                                                                                                                                                                                                                                                     | positive           | positive       |\n",
            "+-------------------------------------------------------------------------------------------------------------------------------------------------------------------------------------------------------------------------------------------------------------------------------------------------------------------------------------------------------------------------------------------------------------------------------------------------------------------------------------------------------------------------------------------------------------------------------------------------+--------------------+----------------+\n",
            "| expressway logistics offers a convenient online platform for booking shipments, and their competitive rates initially drew me in. however, the frequent delays in delivery and lack of transparency regarding additional fees have soured my experience. while their customer service representatives are polite, they often seem powerless to resolve issues effectively.this lack of care and responsibilites from the concerned teams have led me unsatisfied and irritated.i cannot trust and rely on this again.will definitely not contact them ever for my courier deliveries!           | negative           | negative       |\n",
            "+-------------------------------------------------------------------------------------------------------------------------------------------------------------------------------------------------------------------------------------------------------------------------------------------------------------------------------------------------------------------------------------------------------------------------------------------------------------------------------------------------------------------------------------------------------------------------------------------------+--------------------+----------------+\n",
            "| planning a destination wedding is undoubtedly a daunting task, especially when it comes to coordinating transportation for guests and wedding essentials. fortunately, expressway logistics made this aspect of our wedding planning effortless. from the beginning, they were attentive to our needs and provided valuable insights to streamline the process.                                                                                                                                                                                                                                 | positive           | positive       |\n",
            "+-------------------------------------------------------------------------------------------------------------------------------------------------------------------------------------------------------------------------------------------------------------------------------------------------------------------------------------------------------------------------------------------------------------------------------------------------------------------------------------------------------------------------------------------------------------------------------------------------+--------------------+----------------+\n",
            "| expressway logistics consistently delivers on its promises, providing fast, efficient, and reliable courier services that exceeded my expectations.                                                                                                                                                                                                                                                                                                                                                                                                                                             | positive           | positive       |\n",
            "+-------------------------------------------------------------------------------------------------------------------------------------------------------------------------------------------------------------------------------------------------------------------------------------------------------------------------------------------------------------------------------------------------------------------------------------------------------------------------------------------------------------------------------------------------------------------------------------------------+--------------------+----------------+\n",
            "| i needed to ship perishable items internationally, and expressway logistics handled the process flawlessly. they ensured that the items were properly packaged and transported in temperature-controlled conditions.                                                                                                                                                                                                                                                                                                                                                                            | positive           | positive       |\n",
            "+-------------------------------------------------------------------------------------------------------------------------------------------------------------------------------------------------------------------------------------------------------------------------------------------------------------------------------------------------------------------------------------------------------------------------------------------------------------------------------------------------------------------------------------------------------------------------------------------------+--------------------+----------------+\n",
            "| i appreciated the flexibility offered by expressway logistics in terms of delivery options. their range of delivery speeds and service levels allowed me to choose the option that best suited my needs and budget.however, i was slightly disappointed by the lack of transparency regarding few additional fees and surcharges. i selected a specific delivery option and paid minor charges at checkout, which undermined the initial affordability of the service..                                                                                                                         | negative           | negative       |\n",
            "+-------------------------------------------------------------------------------------------------------------------------------------------------------------------------------------------------------------------------------------------------------------------------------------------------------------------------------------------------------------------------------------------------------------------------------------------------------------------------------------------------------------------------------------------------------------------------------------------------+--------------------+----------------+\n",
            "| while expressway logistics' pricing is competitive, their lack of accountability for delays and damages is disappointing. it's frustrating to pay for a service that fails to deliver on its promises consistently.                                                                                                                                                                                                                                                                                                                                                                             | negative           | negative       |\n",
            "+-------------------------------------------------------------------------------------------------------------------------------------------------------------------------------------------------------------------------------------------------------------------------------------------------------------------------------------------------------------------------------------------------------------------------------------------------------------------------------------------------------------------------------------------------------------------------------------------------+--------------------+----------------+\n",
            "| expressway logistics' pricing may seem attractive at first glance, but beware of some internal hidden fees that may sometimes add up. coupled with their reliable delivery times, it's simply not worth the hassle.but still i appreciate that my parcel got delivered safely a day after the promised window.                                                                                                                                                                                                                                                                                  | negative           | positive       |\n",
            "+-------------------------------------------------------------------------------------------------------------------------------------------------------------------------------------------------------------------------------------------------------------------------------------------------------------------------------------------------------------------------------------------------------------------------------------------------------------------------------------------------------------------------------------------------------------------------------------------------+--------------------+----------------+\n",
            "| expressway logistics has been my go-to courier service for years, primarily due to their extensive network coverage and competitive pricing. however, my recent experience has left me questioning their reliability. while their user-friendly website and efficient booking process remain commendable, the repeated delays in delivery and lack of proactive communication have been disappointing.despite these setbacks, their customer service team has always been courteous and responsive, attempting to address my concerns promptly.                                                 | negative           | negative       |\n",
            "+-------------------------------------------------------------------------------------------------------------------------------------------------------------------------------------------------------------------------------------------------------------------------------------------------------------------------------------------------------------------------------------------------------------------------------------------------------------------------------------------------------------------------------------------------------------------------------------------------+--------------------+----------------+\n",
            "| expressway logistics' incompetence led to the loss of my parcel, and their lack of accountability only added to the frustration. despite filing a claim and providing evidence of the missing items, i received no assistance or compensation for the lost package. their negligence and disregard for customer satisfaction are unacceptable, and i will be exploring legal options to recoup the value of the lost items.                                                                                                                                                                     | negative           | negative       |\n",
            "+-------------------------------------------------------------------------------------------------------------------------------------------------------------------------------------------------------------------------------------------------------------------------------------------------------------------------------------------------------------------------------------------------------------------------------------------------------------------------------------------------------------------------------------------------------------------------------------------------+--------------------+----------------+\n",
            "| i was deeply disappointed by the behavior of the delivery executive from expressway logistics. they exhibited a complete disregard for customer satisfaction, arriving late and mishandling the package upon delivery. despite raising my concerns with expressway logistics, there was no acknowledgment or resolution provided.                                                                                                                                                                                                                                                               | negative           | negative       |\n",
            "+-------------------------------------------------------------------------------------------------------------------------------------------------------------------------------------------------------------------------------------------------------------------------------------------------------------------------------------------------------------------------------------------------------------------------------------------------------------------------------------------------------------------------------------------------------------------------------------------------+--------------------+----------------+\n",
            "| as a frequent traveler, i often use expressway logistics to ship luggage and personal belongings ahead of time. their door-to-door service and reliable tracking make traveling a breeze.                                                                                                                                                                                                                                                                                                                                                                                                       | positive           | positive       |\n",
            "+-------------------------------------------------------------------------------------------------------------------------------------------------------------------------------------------------------------------------------------------------------------------------------------------------------------------------------------------------------------------------------------------------------------------------------------------------------------------------------------------------------------------------------------------------------------------------------------------------+--------------------+----------------+\n",
            "| expressway logistics caught my attention with its promise of seamless shipping solutions and a comprehensive network. however, my recent experiences have revealed some significant shortcomings. their online platform is disgusting and their tracking system is inaccurate.i've encountered repeated issues with inaccurate weight calculations that have led to unexpected charges. moreover, the limited options for customizing shipment preferences have made it challenging to meet my requirements.i cannot rely upon it for my future requirements.it failed to meet my requirements. | negative           | negative       |\n",
            "+-------------------------------------------------------------------------------------------------------------------------------------------------------------------------------------------------------------------------------------------------------------------------------------------------------------------------------------------------------------------------------------------------------------------------------------------------------------------------------------------------------------------------------------------------------------------------------------------------+--------------------+----------------+\n",
            "| the packaging provided by expressway logistics is always secure and well-protected, and ensured that my items arrive in perfect condition.                                                                                                                                                                                                                                                                                                                                                                                                                                                      | positive           | positive       |\n",
            "+-------------------------------------------------------------------------------------------------------------------------------------------------------------------------------------------------------------------------------------------------------------------------------------------------------------------------------------------------------------------------------------------------------------------------------------------------------------------------------------------------------------------------------------------------------------------------------------------------+--------------------+----------------+\n",
            "| my recent experience with expressway logistics left me thoroughly impressed. i had a highly time-sensitive shipment that required delicate handling and precise coordination. despite the challenges, expressway rose to the occasion, demonstrating an unparalleled level of professionalism and efficiency. their team meticulously planned every aspect of the shipment, from packaging to transportation, ensuring that no detail was overlooked.                                                                                                                                           | positive           | positive       |\n",
            "+-------------------------------------------------------------------------------------------------------------------------------------------------------------------------------------------------------------------------------------------------------------------------------------------------------------------------------------------------------------------------------------------------------------------------------------------------------------------------------------------------------------------------------------------------------------------------------------------------+--------------------+----------------+\n",
            "| i was initially impressed by expressway logistics' promise of reliability and affordability, but my recent encounters have been less than satisfactory. their website is so irritating and their drivers are too harsh, the repeated delays in delivery have been frustrating. additionally, the discovery of hidden fees within their pricing structure has left me feeling misled. in addition to these challenges, their customer service team has been inattentive and disrespectful, which has degraded the overall experience.not at all recommend!                                       | negative           | negative       |\n",
            "+-------------------------------------------------------------------------------------------------------------------------------------------------------------------------------------------------------------------------------------------------------------------------------------------------------------------------------------------------------------------------------------------------------------------------------------------------------------------------------------------------------------------------------------------------------------------------------------------------+--------------------+----------------+\n",
            "| thumbs up to expressway for their prompt responses and reliable shipping solutions. impressed!                                                                                                                                                                                                                                                                                                                                                                                                                                                                                                  | positive           | positive       |\n",
            "+-------------------------------------------------------------------------------------------------------------------------------------------------------------------------------------------------------------------------------------------------------------------------------------------------------------------------------------------------------------------------------------------------------------------------------------------------------------------------------------------------------------------------------------------------------------------------------------------------+--------------------+----------------+\n",
            "| i had a terrible experience with expressway logistics. not only was my pickup delayed, but the packaging was not done intactly, and the customer support team was unresponsive when i tried to raise the issue.                                                                                                                                                                                                                                                                                                                                                                                 | negative           | negative       |\n",
            "+-------------------------------------------------------------------------------------------------------------------------------------------------------------------------------------------------------------------------------------------------------------------------------------------------------------------------------------------------------------------------------------------------------------------------------------------------------------------------------------------------------------------------------------------------------------------------------------------------+--------------------+----------------+\n",
            "+-------------------------------------------------------------------------------------------------------------------------------------------------------------------------------------------------------------------------------------------------------------------------------------------------------------------------------------------------------------------------------------------------------------------------------------------------------------------------------------------------------------------------------------------------------------------------------------------------+--------------------+----------------+\n",
            "| Review                                                                                                                                                                                                                                                                                                                                                                                                                                                                                                                                                                                          | Model Prediction   | Ground Truth   |\n",
            "+=================================================================================================================================================================================================================================================================================================================================================================================================================================================================================================================================================================================================+====================+================+\n",
            "| the delivery executive assigned by expressway logistics was courteous and professional during the delivery process. they tried their best to handle the package with care.unfortunately, the package arrived with slight damage despite the delivery executive's efforts. the packaging seemed more than adequate to protect the contents during transit.                                                                                                                                                                                                                                       | negative           | positive       |\n",
            "+-------------------------------------------------------------------------------------------------------------------------------------------------------------------------------------------------------------------------------------------------------------------------------------------------------------------------------------------------------------------------------------------------------------------------------------------------------------------------------------------------------------------------------------------------------------------------------------------------+--------------------+----------------+\n",
            "| expressway logistics failed to meet my expectations. the delivery was delayed, and the customer support team was unresponsive and unhelpful when i tried to inquire about the status of my parcel.                                                                                                                                                                                                                                                                                                                                                                                              | negative           | negative       |\n",
            "+-------------------------------------------------------------------------------------------------------------------------------------------------------------------------------------------------------------------------------------------------------------------------------------------------------------------------------------------------------------------------------------------------------------------------------------------------------------------------------------------------------------------------------------------------------------------------------------------------+--------------------+----------------+\n",
            "| expressway logistics' incompetence resulted in a major inconvenience when my package was delivered to the wrong recipient. despite providing accurate delivery information, the package ended up in the hands of someone else, and efforts to retrieve it were unsuccessful. when i contacted customer service for assistance, i was met with apathy and a lack of urgency. their failure to rectify the situation in a timely manner is unacceptable, and i will be avoiding their services at all costs.                                                                                      | negative           | negative       |\n",
            "+-------------------------------------------------------------------------------------------------------------------------------------------------------------------------------------------------------------------------------------------------------------------------------------------------------------------------------------------------------------------------------------------------------------------------------------------------------------------------------------------------------------------------------------------------------------------------------------------------+--------------------+----------------+\n",
            "| kudos to expressway logistics for their outstanding service! they've been an essential partner for my business, handling all our shipping needs with professionalism and efficiency. if you're looking for a reliable logistic service provider, look no further than expressway logistics.                                                                                                                                                                                                                                                                                                     | positive           | positive       |\n",
            "+-------------------------------------------------------------------------------------------------------------------------------------------------------------------------------------------------------------------------------------------------------------------------------------------------------------------------------------------------------------------------------------------------------------------------------------------------------------------------------------------------------------------------------------------------------------------------------------------------+--------------------+----------------+\n",
            "| expressway logistics offers a convenient online platform for booking shipments, and their competitive rates initially drew me in. however, the frequent delays in delivery and lack of transparency regarding additional fees have soured my experience. while their customer service representatives are polite, they often seem powerless to resolve issues effectively.this lack of care and responsibilites from the concerned teams have led me unsatisfied and irritated.i cannot trust and rely on this again.will definitely not contact them ever for my courier deliveries!           | negative           | negative       |\n",
            "+-------------------------------------------------------------------------------------------------------------------------------------------------------------------------------------------------------------------------------------------------------------------------------------------------------------------------------------------------------------------------------------------------------------------------------------------------------------------------------------------------------------------------------------------------------------------------------------------------+--------------------+----------------+\n",
            "| planning a destination wedding is undoubtedly a daunting task, especially when it comes to coordinating transportation for guests and wedding essentials. fortunately, expressway logistics made this aspect of our wedding planning effortless. from the beginning, they were attentive to our needs and provided valuable insights to streamline the process.                                                                                                                                                                                                                                 | positive           | positive       |\n",
            "+-------------------------------------------------------------------------------------------------------------------------------------------------------------------------------------------------------------------------------------------------------------------------------------------------------------------------------------------------------------------------------------------------------------------------------------------------------------------------------------------------------------------------------------------------------------------------------------------------+--------------------+----------------+\n",
            "| expressway logistics consistently delivers on its promises, providing fast, efficient, and reliable courier services that exceeded my expectations.                                                                                                                                                                                                                                                                                                                                                                                                                                             | positive           | positive       |\n",
            "+-------------------------------------------------------------------------------------------------------------------------------------------------------------------------------------------------------------------------------------------------------------------------------------------------------------------------------------------------------------------------------------------------------------------------------------------------------------------------------------------------------------------------------------------------------------------------------------------------+--------------------+----------------+\n",
            "| i needed to ship perishable items internationally, and expressway logistics handled the process flawlessly. they ensured that the items were properly packaged and transported in temperature-controlled conditions.                                                                                                                                                                                                                                                                                                                                                                            | positive           | positive       |\n",
            "+-------------------------------------------------------------------------------------------------------------------------------------------------------------------------------------------------------------------------------------------------------------------------------------------------------------------------------------------------------------------------------------------------------------------------------------------------------------------------------------------------------------------------------------------------------------------------------------------------+--------------------+----------------+\n",
            "| i appreciated the flexibility offered by expressway logistics in terms of delivery options. their range of delivery speeds and service levels allowed me to choose the option that best suited my needs and budget.however, i was slightly disappointed by the lack of transparency regarding few additional fees and surcharges. i selected a specific delivery option and paid minor charges at checkout, which undermined the initial affordability of the service..                                                                                                                         | negative           | negative       |\n",
            "+-------------------------------------------------------------------------------------------------------------------------------------------------------------------------------------------------------------------------------------------------------------------------------------------------------------------------------------------------------------------------------------------------------------------------------------------------------------------------------------------------------------------------------------------------------------------------------------------------+--------------------+----------------+\n",
            "| while expressway logistics' pricing is competitive, their lack of accountability for delays and damages is disappointing. it's frustrating to pay for a service that fails to deliver on its promises consistently.                                                                                                                                                                                                                                                                                                                                                                             | negative           | negative       |\n",
            "+-------------------------------------------------------------------------------------------------------------------------------------------------------------------------------------------------------------------------------------------------------------------------------------------------------------------------------------------------------------------------------------------------------------------------------------------------------------------------------------------------------------------------------------------------------------------------------------------------+--------------------+----------------+\n",
            "| expressway logistics' pricing may seem attractive at first glance, but beware of some internal hidden fees that may sometimes add up. coupled with their reliable delivery times, it's simply not worth the hassle.but still i appreciate that my parcel got delivered safely a day after the promised window.                                                                                                                                                                                                                                                                                  | negative           | positive       |\n",
            "+-------------------------------------------------------------------------------------------------------------------------------------------------------------------------------------------------------------------------------------------------------------------------------------------------------------------------------------------------------------------------------------------------------------------------------------------------------------------------------------------------------------------------------------------------------------------------------------------------+--------------------+----------------+\n",
            "| expressway logistics has been my go-to courier service for years, primarily due to their extensive network coverage and competitive pricing. however, my recent experience has left me questioning their reliability. while their user-friendly website and efficient booking process remain commendable, the repeated delays in delivery and lack of proactive communication have been disappointing.despite these setbacks, their customer service team has always been courteous and responsive, attempting to address my concerns promptly.                                                 | negative           | negative       |\n",
            "+-------------------------------------------------------------------------------------------------------------------------------------------------------------------------------------------------------------------------------------------------------------------------------------------------------------------------------------------------------------------------------------------------------------------------------------------------------------------------------------------------------------------------------------------------------------------------------------------------+--------------------+----------------+\n",
            "| expressway logistics' incompetence led to the loss of my parcel, and their lack of accountability only added to the frustration. despite filing a claim and providing evidence of the missing items, i received no assistance or compensation for the lost package. their negligence and disregard for customer satisfaction are unacceptable, and i will be exploring legal options to recoup the value of the lost items.                                                                                                                                                                     | negative           | negative       |\n",
            "+-------------------------------------------------------------------------------------------------------------------------------------------------------------------------------------------------------------------------------------------------------------------------------------------------------------------------------------------------------------------------------------------------------------------------------------------------------------------------------------------------------------------------------------------------------------------------------------------------+--------------------+----------------+\n",
            "| i was deeply disappointed by the behavior of the delivery executive from expressway logistics. they exhibited a complete disregard for customer satisfaction, arriving late and mishandling the package upon delivery. despite raising my concerns with expressway logistics, there was no acknowledgment or resolution provided.                                                                                                                                                                                                                                                               | negative           | negative       |\n",
            "+-------------------------------------------------------------------------------------------------------------------------------------------------------------------------------------------------------------------------------------------------------------------------------------------------------------------------------------------------------------------------------------------------------------------------------------------------------------------------------------------------------------------------------------------------------------------------------------------------+--------------------+----------------+\n",
            "| as a frequent traveler, i often use expressway logistics to ship luggage and personal belongings ahead of time. their door-to-door service and reliable tracking make traveling a breeze.                                                                                                                                                                                                                                                                                                                                                                                                       | positive           | positive       |\n",
            "+-------------------------------------------------------------------------------------------------------------------------------------------------------------------------------------------------------------------------------------------------------------------------------------------------------------------------------------------------------------------------------------------------------------------------------------------------------------------------------------------------------------------------------------------------------------------------------------------------+--------------------+----------------+\n",
            "| expressway logistics caught my attention with its promise of seamless shipping solutions and a comprehensive network. however, my recent experiences have revealed some significant shortcomings. their online platform is disgusting and their tracking system is inaccurate.i've encountered repeated issues with inaccurate weight calculations that have led to unexpected charges. moreover, the limited options for customizing shipment preferences have made it challenging to meet my requirements.i cannot rely upon it for my future requirements.it failed to meet my requirements. | negative           | negative       |\n",
            "+-------------------------------------------------------------------------------------------------------------------------------------------------------------------------------------------------------------------------------------------------------------------------------------------------------------------------------------------------------------------------------------------------------------------------------------------------------------------------------------------------------------------------------------------------------------------------------------------------+--------------------+----------------+\n",
            "| the packaging provided by expressway logistics is always secure and well-protected, and ensured that my items arrive in perfect condition.                                                                                                                                                                                                                                                                                                                                                                                                                                                      | positive           | positive       |\n",
            "+-------------------------------------------------------------------------------------------------------------------------------------------------------------------------------------------------------------------------------------------------------------------------------------------------------------------------------------------------------------------------------------------------------------------------------------------------------------------------------------------------------------------------------------------------------------------------------------------------+--------------------+----------------+\n",
            "| my recent experience with expressway logistics left me thoroughly impressed. i had a highly time-sensitive shipment that required delicate handling and precise coordination. despite the challenges, expressway rose to the occasion, demonstrating an unparalleled level of professionalism and efficiency. their team meticulously planned every aspect of the shipment, from packaging to transportation, ensuring that no detail was overlooked.                                                                                                                                           | positive           | positive       |\n",
            "+-------------------------------------------------------------------------------------------------------------------------------------------------------------------------------------------------------------------------------------------------------------------------------------------------------------------------------------------------------------------------------------------------------------------------------------------------------------------------------------------------------------------------------------------------------------------------------------------------+--------------------+----------------+\n",
            "| i was initially impressed by expressway logistics' promise of reliability and affordability, but my recent encounters have been less than satisfactory. their website is so irritating and their drivers are too harsh, the repeated delays in delivery have been frustrating. additionally, the discovery of hidden fees within their pricing structure has left me feeling misled. in addition to these challenges, their customer service team has been inattentive and disrespectful, which has degraded the overall experience.not at all recommend!                                       | negative           | negative       |\n",
            "+-------------------------------------------------------------------------------------------------------------------------------------------------------------------------------------------------------------------------------------------------------------------------------------------------------------------------------------------------------------------------------------------------------------------------------------------------------------------------------------------------------------------------------------------------------------------------------------------------+--------------------+----------------+\n",
            "| thumbs up to expressway for their prompt responses and reliable shipping solutions. impressed!                                                                                                                                                                                                                                                                                                                                                                                                                                                                                                  | positive           | positive       |\n",
            "+-------------------------------------------------------------------------------------------------------------------------------------------------------------------------------------------------------------------------------------------------------------------------------------------------------------------------------------------------------------------------------------------------------------------------------------------------------------------------------------------------------------------------------------------------------------------------------------------------+--------------------+----------------+\n",
            "| i had a terrible experience with expressway logistics. not only was my pickup delayed, but the packaging was not done intactly, and the customer support team was unresponsive when i tried to raise the issue.                                                                                                                                                                                                                                                                                                                                                                                 | negative           | negative       |\n",
            "+-------------------------------------------------------------------------------------------------------------------------------------------------------------------------------------------------------------------------------------------------------------------------------------------------------------------------------------------------------------------------------------------------------------------------------------------------------------------------------------------------------------------------------------------------------------------------------------------------+--------------------+----------------+\n"
          ]
        },
        {
          "output_type": "stream",
          "name": "stderr",
          "text": [
            "\r 80%|████████  | 4/5 [01:02<00:17, 17.15s/it]"
          ]
        },
        {
          "output_type": "stream",
          "name": "stdout",
          "text": [
            "+-------------------------------------------------------------------------------------------------------------------------------------------------------------------------------------------------------------------------------------------------------------------------------------------------------------------------------------------------------------------------------------------------------------------------------------------------------------------------------------------------------------------------------------------------------------------------------------------------+--------------------+----------------+\n",
            "| Review                                                                                                                                                                                                                                                                                                                                                                                                                                                                                                                                                                                          | Model Prediction   | Ground Truth   |\n",
            "+=================================================================================================================================================================================================================================================================================================================================================================================================================================================================================================================================================================================================+====================+================+\n",
            "| the delivery executive assigned by expressway logistics was courteous and professional during the delivery process. they tried their best to handle the package with care.unfortunately, the package arrived with slight damage despite the delivery executive's efforts. the packaging seemed more than adequate to protect the contents during transit.                                                                                                                                                                                                                                       | negative           | positive       |\n",
            "+-------------------------------------------------------------------------------------------------------------------------------------------------------------------------------------------------------------------------------------------------------------------------------------------------------------------------------------------------------------------------------------------------------------------------------------------------------------------------------------------------------------------------------------------------------------------------------------------------+--------------------+----------------+\n",
            "| expressway logistics failed to meet my expectations. the delivery was delayed, and the customer support team was unresponsive and unhelpful when i tried to inquire about the status of my parcel.                                                                                                                                                                                                                                                                                                                                                                                              | negative           | negative       |\n",
            "+-------------------------------------------------------------------------------------------------------------------------------------------------------------------------------------------------------------------------------------------------------------------------------------------------------------------------------------------------------------------------------------------------------------------------------------------------------------------------------------------------------------------------------------------------------------------------------------------------+--------------------+----------------+\n",
            "| expressway logistics' incompetence resulted in a major inconvenience when my package was delivered to the wrong recipient. despite providing accurate delivery information, the package ended up in the hands of someone else, and efforts to retrieve it were unsuccessful. when i contacted customer service for assistance, i was met with apathy and a lack of urgency. their failure to rectify the situation in a timely manner is unacceptable, and i will be avoiding their services at all costs.                                                                                      | negative           | negative       |\n",
            "+-------------------------------------------------------------------------------------------------------------------------------------------------------------------------------------------------------------------------------------------------------------------------------------------------------------------------------------------------------------------------------------------------------------------------------------------------------------------------------------------------------------------------------------------------------------------------------------------------+--------------------+----------------+\n",
            "| kudos to expressway logistics for their outstanding service! they've been an essential partner for my business, handling all our shipping needs with professionalism and efficiency. if you're looking for a reliable logistic service provider, look no further than expressway logistics.                                                                                                                                                                                                                                                                                                     | positive           | positive       |\n",
            "+-------------------------------------------------------------------------------------------------------------------------------------------------------------------------------------------------------------------------------------------------------------------------------------------------------------------------------------------------------------------------------------------------------------------------------------------------------------------------------------------------------------------------------------------------------------------------------------------------+--------------------+----------------+\n",
            "| expressway logistics offers a convenient online platform for booking shipments, and their competitive rates initially drew me in. however, the frequent delays in delivery and lack of transparency regarding additional fees have soured my experience. while their customer service representatives are polite, they often seem powerless to resolve issues effectively.this lack of care and responsibilites from the concerned teams have led me unsatisfied and irritated.i cannot trust and rely on this again.will definitely not contact them ever for my courier deliveries!           | negative           | negative       |\n",
            "+-------------------------------------------------------------------------------------------------------------------------------------------------------------------------------------------------------------------------------------------------------------------------------------------------------------------------------------------------------------------------------------------------------------------------------------------------------------------------------------------------------------------------------------------------------------------------------------------------+--------------------+----------------+\n",
            "| planning a destination wedding is undoubtedly a daunting task, especially when it comes to coordinating transportation for guests and wedding essentials. fortunately, expressway logistics made this aspect of our wedding planning effortless. from the beginning, they were attentive to our needs and provided valuable insights to streamline the process.                                                                                                                                                                                                                                 | positive           | positive       |\n",
            "+-------------------------------------------------------------------------------------------------------------------------------------------------------------------------------------------------------------------------------------------------------------------------------------------------------------------------------------------------------------------------------------------------------------------------------------------------------------------------------------------------------------------------------------------------------------------------------------------------+--------------------+----------------+\n",
            "| expressway logistics consistently delivers on its promises, providing fast, efficient, and reliable courier services that exceeded my expectations.                                                                                                                                                                                                                                                                                                                                                                                                                                             | positive           | positive       |\n",
            "+-------------------------------------------------------------------------------------------------------------------------------------------------------------------------------------------------------------------------------------------------------------------------------------------------------------------------------------------------------------------------------------------------------------------------------------------------------------------------------------------------------------------------------------------------------------------------------------------------+--------------------+----------------+\n",
            "| i needed to ship perishable items internationally, and expressway logistics handled the process flawlessly. they ensured that the items were properly packaged and transported in temperature-controlled conditions.                                                                                                                                                                                                                                                                                                                                                                            | positive           | positive       |\n",
            "+-------------------------------------------------------------------------------------------------------------------------------------------------------------------------------------------------------------------------------------------------------------------------------------------------------------------------------------------------------------------------------------------------------------------------------------------------------------------------------------------------------------------------------------------------------------------------------------------------+--------------------+----------------+\n",
            "| i appreciated the flexibility offered by expressway logistics in terms of delivery options. their range of delivery speeds and service levels allowed me to choose the option that best suited my needs and budget.however, i was slightly disappointed by the lack of transparency regarding few additional fees and surcharges. i selected a specific delivery option and paid minor charges at checkout, which undermined the initial affordability of the service..                                                                                                                         | negative           | negative       |\n",
            "+-------------------------------------------------------------------------------------------------------------------------------------------------------------------------------------------------------------------------------------------------------------------------------------------------------------------------------------------------------------------------------------------------------------------------------------------------------------------------------------------------------------------------------------------------------------------------------------------------+--------------------+----------------+\n",
            "| while expressway logistics' pricing is competitive, their lack of accountability for delays and damages is disappointing. it's frustrating to pay for a service that fails to deliver on its promises consistently.                                                                                                                                                                                                                                                                                                                                                                             | negative           | negative       |\n",
            "+-------------------------------------------------------------------------------------------------------------------------------------------------------------------------------------------------------------------------------------------------------------------------------------------------------------------------------------------------------------------------------------------------------------------------------------------------------------------------------------------------------------------------------------------------------------------------------------------------+--------------------+----------------+\n",
            "| expressway logistics' pricing may seem attractive at first glance, but beware of some internal hidden fees that may sometimes add up. coupled with their reliable delivery times, it's simply not worth the hassle.but still i appreciate that my parcel got delivered safely a day after the promised window.                                                                                                                                                                                                                                                                                  | negative           | positive       |\n",
            "+-------------------------------------------------------------------------------------------------------------------------------------------------------------------------------------------------------------------------------------------------------------------------------------------------------------------------------------------------------------------------------------------------------------------------------------------------------------------------------------------------------------------------------------------------------------------------------------------------+--------------------+----------------+\n",
            "| expressway logistics has been my go-to courier service for years, primarily due to their extensive network coverage and competitive pricing. however, my recent experience has left me questioning their reliability. while their user-friendly website and efficient booking process remain commendable, the repeated delays in delivery and lack of proactive communication have been disappointing.despite these setbacks, their customer service team has always been courteous and responsive, attempting to address my concerns promptly.                                                 | negative           | negative       |\n",
            "+-------------------------------------------------------------------------------------------------------------------------------------------------------------------------------------------------------------------------------------------------------------------------------------------------------------------------------------------------------------------------------------------------------------------------------------------------------------------------------------------------------------------------------------------------------------------------------------------------+--------------------+----------------+\n",
            "| expressway logistics' incompetence led to the loss of my parcel, and their lack of accountability only added to the frustration. despite filing a claim and providing evidence of the missing items, i received no assistance or compensation for the lost package. their negligence and disregard for customer satisfaction are unacceptable, and i will be exploring legal options to recoup the value of the lost items.                                                                                                                                                                     | negative           | negative       |\n",
            "+-------------------------------------------------------------------------------------------------------------------------------------------------------------------------------------------------------------------------------------------------------------------------------------------------------------------------------------------------------------------------------------------------------------------------------------------------------------------------------------------------------------------------------------------------------------------------------------------------+--------------------+----------------+\n",
            "| i was deeply disappointed by the behavior of the delivery executive from expressway logistics. they exhibited a complete disregard for customer satisfaction, arriving late and mishandling the package upon delivery. despite raising my concerns with expressway logistics, there was no acknowledgment or resolution provided.                                                                                                                                                                                                                                                               | negative           | negative       |\n",
            "+-------------------------------------------------------------------------------------------------------------------------------------------------------------------------------------------------------------------------------------------------------------------------------------------------------------------------------------------------------------------------------------------------------------------------------------------------------------------------------------------------------------------------------------------------------------------------------------------------+--------------------+----------------+\n",
            "| as a frequent traveler, i often use expressway logistics to ship luggage and personal belongings ahead of time. their door-to-door service and reliable tracking make traveling a breeze.                                                                                                                                                                                                                                                                                                                                                                                                       | positive           | positive       |\n",
            "+-------------------------------------------------------------------------------------------------------------------------------------------------------------------------------------------------------------------------------------------------------------------------------------------------------------------------------------------------------------------------------------------------------------------------------------------------------------------------------------------------------------------------------------------------------------------------------------------------+--------------------+----------------+\n",
            "| expressway logistics caught my attention with its promise of seamless shipping solutions and a comprehensive network. however, my recent experiences have revealed some significant shortcomings. their online platform is disgusting and their tracking system is inaccurate.i've encountered repeated issues with inaccurate weight calculations that have led to unexpected charges. moreover, the limited options for customizing shipment preferences have made it challenging to meet my requirements.i cannot rely upon it for my future requirements.it failed to meet my requirements. | negative           | negative       |\n",
            "+-------------------------------------------------------------------------------------------------------------------------------------------------------------------------------------------------------------------------------------------------------------------------------------------------------------------------------------------------------------------------------------------------------------------------------------------------------------------------------------------------------------------------------------------------------------------------------------------------+--------------------+----------------+\n",
            "| the packaging provided by expressway logistics is always secure and well-protected, and ensured that my items arrive in perfect condition.                                                                                                                                                                                                                                                                                                                                                                                                                                                      | positive           | positive       |\n",
            "+-------------------------------------------------------------------------------------------------------------------------------------------------------------------------------------------------------------------------------------------------------------------------------------------------------------------------------------------------------------------------------------------------------------------------------------------------------------------------------------------------------------------------------------------------------------------------------------------------+--------------------+----------------+\n",
            "| my recent experience with expressway logistics left me thoroughly impressed. i had a highly time-sensitive shipment that required delicate handling and precise coordination. despite the challenges, expressway rose to the occasion, demonstrating an unparalleled level of professionalism and efficiency. their team meticulously planned every aspect of the shipment, from packaging to transportation, ensuring that no detail was overlooked.                                                                                                                                           | positive           | positive       |\n",
            "+-------------------------------------------------------------------------------------------------------------------------------------------------------------------------------------------------------------------------------------------------------------------------------------------------------------------------------------------------------------------------------------------------------------------------------------------------------------------------------------------------------------------------------------------------------------------------------------------------+--------------------+----------------+\n",
            "| i was initially impressed by expressway logistics' promise of reliability and affordability, but my recent encounters have been less than satisfactory. their website is so irritating and their drivers are too harsh, the repeated delays in delivery have been frustrating. additionally, the discovery of hidden fees within their pricing structure has left me feeling misled. in addition to these challenges, their customer service team has been inattentive and disrespectful, which has degraded the overall experience.not at all recommend!                                       | negative           | negative       |\n",
            "+-------------------------------------------------------------------------------------------------------------------------------------------------------------------------------------------------------------------------------------------------------------------------------------------------------------------------------------------------------------------------------------------------------------------------------------------------------------------------------------------------------------------------------------------------------------------------------------------------+--------------------+----------------+\n",
            "| thumbs up to expressway for their prompt responses and reliable shipping solutions. impressed!                                                                                                                                                                                                                                                                                                                                                                                                                                                                                                  | positive           | positive       |\n",
            "+-------------------------------------------------------------------------------------------------------------------------------------------------------------------------------------------------------------------------------------------------------------------------------------------------------------------------------------------------------------------------------------------------------------------------------------------------------------------------------------------------------------------------------------------------------------------------------------------------+--------------------+----------------+\n",
            "| i had a terrible experience with expressway logistics. not only was my pickup delayed, but the packaging was not done intactly, and the customer support team was unresponsive when i tried to raise the issue.                                                                                                                                                                                                                                                                                                                                                                                 | negative           | negative       |\n",
            "+-------------------------------------------------------------------------------------------------------------------------------------------------------------------------------------------------------------------------------------------------------------------------------------------------------------------------------------------------------------------------------------------------------------------------------------------------------------------------------------------------------------------------------------------------------------------------------------------------+--------------------+----------------+\n",
            "+-------------------------------------------------------------------------------------------------------------------------------------------------------------------------------------------------------------------------------------------------------------------------------------------------------------------------------------------------------------------------------------------------------------------------------------------------------------------------------------------------------------------------------------------------------------------------------------------------+--------------------+----------------+\n",
            "| Review                                                                                                                                                                                                                                                                                                                                                                                                                                                                                                                                                                                          | Model Prediction   | Ground Truth   |\n",
            "+=================================================================================================================================================================================================================================================================================================================================================================================================================================================================================================================================================================================================+====================+================+\n",
            "| the delivery executive assigned by expressway logistics was courteous and professional during the delivery process. they tried their best to handle the package with care.unfortunately, the package arrived with slight damage despite the delivery executive's efforts. the packaging seemed more than adequate to protect the contents during transit.                                                                                                                                                                                                                                       | negative           | positive       |\n",
            "+-------------------------------------------------------------------------------------------------------------------------------------------------------------------------------------------------------------------------------------------------------------------------------------------------------------------------------------------------------------------------------------------------------------------------------------------------------------------------------------------------------------------------------------------------------------------------------------------------+--------------------+----------------+\n",
            "| expressway logistics failed to meet my expectations. the delivery was delayed, and the customer support team was unresponsive and unhelpful when i tried to inquire about the status of my parcel.                                                                                                                                                                                                                                                                                                                                                                                              | negative           | negative       |\n",
            "+-------------------------------------------------------------------------------------------------------------------------------------------------------------------------------------------------------------------------------------------------------------------------------------------------------------------------------------------------------------------------------------------------------------------------------------------------------------------------------------------------------------------------------------------------------------------------------------------------+--------------------+----------------+\n",
            "| expressway logistics' incompetence resulted in a major inconvenience when my package was delivered to the wrong recipient. despite providing accurate delivery information, the package ended up in the hands of someone else, and efforts to retrieve it were unsuccessful. when i contacted customer service for assistance, i was met with apathy and a lack of urgency. their failure to rectify the situation in a timely manner is unacceptable, and i will be avoiding their services at all costs.                                                                                      | negative           | negative       |\n",
            "+-------------------------------------------------------------------------------------------------------------------------------------------------------------------------------------------------------------------------------------------------------------------------------------------------------------------------------------------------------------------------------------------------------------------------------------------------------------------------------------------------------------------------------------------------------------------------------------------------+--------------------+----------------+\n",
            "| kudos to expressway logistics for their outstanding service! they've been an essential partner for my business, handling all our shipping needs with professionalism and efficiency. if you're looking for a reliable logistic service provider, look no further than expressway logistics.                                                                                                                                                                                                                                                                                                     | positive           | positive       |\n",
            "+-------------------------------------------------------------------------------------------------------------------------------------------------------------------------------------------------------------------------------------------------------------------------------------------------------------------------------------------------------------------------------------------------------------------------------------------------------------------------------------------------------------------------------------------------------------------------------------------------+--------------------+----------------+\n",
            "| expressway logistics offers a convenient online platform for booking shipments, and their competitive rates initially drew me in. however, the frequent delays in delivery and lack of transparency regarding additional fees have soured my experience. while their customer service representatives are polite, they often seem powerless to resolve issues effectively.this lack of care and responsibilites from the concerned teams have led me unsatisfied and irritated.i cannot trust and rely on this again.will definitely not contact them ever for my courier deliveries!           | negative           | negative       |\n",
            "+-------------------------------------------------------------------------------------------------------------------------------------------------------------------------------------------------------------------------------------------------------------------------------------------------------------------------------------------------------------------------------------------------------------------------------------------------------------------------------------------------------------------------------------------------------------------------------------------------+--------------------+----------------+\n",
            "| planning a destination wedding is undoubtedly a daunting task, especially when it comes to coordinating transportation for guests and wedding essentials. fortunately, expressway logistics made this aspect of our wedding planning effortless. from the beginning, they were attentive to our needs and provided valuable insights to streamline the process.                                                                                                                                                                                                                                 | positive           | positive       |\n",
            "+-------------------------------------------------------------------------------------------------------------------------------------------------------------------------------------------------------------------------------------------------------------------------------------------------------------------------------------------------------------------------------------------------------------------------------------------------------------------------------------------------------------------------------------------------------------------------------------------------+--------------------+----------------+\n",
            "| expressway logistics consistently delivers on its promises, providing fast, efficient, and reliable courier services that exceeded my expectations.                                                                                                                                                                                                                                                                                                                                                                                                                                             | positive           | positive       |\n",
            "+-------------------------------------------------------------------------------------------------------------------------------------------------------------------------------------------------------------------------------------------------------------------------------------------------------------------------------------------------------------------------------------------------------------------------------------------------------------------------------------------------------------------------------------------------------------------------------------------------+--------------------+----------------+\n",
            "| i needed to ship perishable items internationally, and expressway logistics handled the process flawlessly. they ensured that the items were properly packaged and transported in temperature-controlled conditions.                                                                                                                                                                                                                                                                                                                                                                            | positive           | positive       |\n",
            "+-------------------------------------------------------------------------------------------------------------------------------------------------------------------------------------------------------------------------------------------------------------------------------------------------------------------------------------------------------------------------------------------------------------------------------------------------------------------------------------------------------------------------------------------------------------------------------------------------+--------------------+----------------+\n",
            "| i appreciated the flexibility offered by expressway logistics in terms of delivery options. their range of delivery speeds and service levels allowed me to choose the option that best suited my needs and budget.however, i was slightly disappointed by the lack of transparency regarding few additional fees and surcharges. i selected a specific delivery option and paid minor charges at checkout, which undermined the initial affordability of the service..                                                                                                                         | negative           | negative       |\n",
            "+-------------------------------------------------------------------------------------------------------------------------------------------------------------------------------------------------------------------------------------------------------------------------------------------------------------------------------------------------------------------------------------------------------------------------------------------------------------------------------------------------------------------------------------------------------------------------------------------------+--------------------+----------------+\n",
            "| while expressway logistics' pricing is competitive, their lack of accountability for delays and damages is disappointing. it's frustrating to pay for a service that fails to deliver on its promises consistently.                                                                                                                                                                                                                                                                                                                                                                             | negative           | negative       |\n",
            "+-------------------------------------------------------------------------------------------------------------------------------------------------------------------------------------------------------------------------------------------------------------------------------------------------------------------------------------------------------------------------------------------------------------------------------------------------------------------------------------------------------------------------------------------------------------------------------------------------+--------------------+----------------+\n",
            "| expressway logistics' pricing may seem attractive at first glance, but beware of some internal hidden fees that may sometimes add up. coupled with their reliable delivery times, it's simply not worth the hassle.but still i appreciate that my parcel got delivered safely a day after the promised window.                                                                                                                                                                                                                                                                                  | negative           | positive       |\n",
            "+-------------------------------------------------------------------------------------------------------------------------------------------------------------------------------------------------------------------------------------------------------------------------------------------------------------------------------------------------------------------------------------------------------------------------------------------------------------------------------------------------------------------------------------------------------------------------------------------------+--------------------+----------------+\n",
            "| expressway logistics has been my go-to courier service for years, primarily due to their extensive network coverage and competitive pricing. however, my recent experience has left me questioning their reliability. while their user-friendly website and efficient booking process remain commendable, the repeated delays in delivery and lack of proactive communication have been disappointing.despite these setbacks, their customer service team has always been courteous and responsive, attempting to address my concerns promptly.                                                 | negative           | negative       |\n",
            "+-------------------------------------------------------------------------------------------------------------------------------------------------------------------------------------------------------------------------------------------------------------------------------------------------------------------------------------------------------------------------------------------------------------------------------------------------------------------------------------------------------------------------------------------------------------------------------------------------+--------------------+----------------+\n",
            "| expressway logistics' incompetence led to the loss of my parcel, and their lack of accountability only added to the frustration. despite filing a claim and providing evidence of the missing items, i received no assistance or compensation for the lost package. their negligence and disregard for customer satisfaction are unacceptable, and i will be exploring legal options to recoup the value of the lost items.                                                                                                                                                                     | negative           | negative       |\n",
            "+-------------------------------------------------------------------------------------------------------------------------------------------------------------------------------------------------------------------------------------------------------------------------------------------------------------------------------------------------------------------------------------------------------------------------------------------------------------------------------------------------------------------------------------------------------------------------------------------------+--------------------+----------------+\n",
            "| i was deeply disappointed by the behavior of the delivery executive from expressway logistics. they exhibited a complete disregard for customer satisfaction, arriving late and mishandling the package upon delivery. despite raising my concerns with expressway logistics, there was no acknowledgment or resolution provided.                                                                                                                                                                                                                                                               | negative           | negative       |\n",
            "+-------------------------------------------------------------------------------------------------------------------------------------------------------------------------------------------------------------------------------------------------------------------------------------------------------------------------------------------------------------------------------------------------------------------------------------------------------------------------------------------------------------------------------------------------------------------------------------------------+--------------------+----------------+\n",
            "| as a frequent traveler, i often use expressway logistics to ship luggage and personal belongings ahead of time. their door-to-door service and reliable tracking make traveling a breeze.                                                                                                                                                                                                                                                                                                                                                                                                       | positive           | positive       |\n",
            "+-------------------------------------------------------------------------------------------------------------------------------------------------------------------------------------------------------------------------------------------------------------------------------------------------------------------------------------------------------------------------------------------------------------------------------------------------------------------------------------------------------------------------------------------------------------------------------------------------+--------------------+----------------+\n",
            "| expressway logistics caught my attention with its promise of seamless shipping solutions and a comprehensive network. however, my recent experiences have revealed some significant shortcomings. their online platform is disgusting and their tracking system is inaccurate.i've encountered repeated issues with inaccurate weight calculations that have led to unexpected charges. moreover, the limited options for customizing shipment preferences have made it challenging to meet my requirements.i cannot rely upon it for my future requirements.it failed to meet my requirements. | negative           | negative       |\n",
            "+-------------------------------------------------------------------------------------------------------------------------------------------------------------------------------------------------------------------------------------------------------------------------------------------------------------------------------------------------------------------------------------------------------------------------------------------------------------------------------------------------------------------------------------------------------------------------------------------------+--------------------+----------------+\n",
            "| the packaging provided by expressway logistics is always secure and well-protected, and ensured that my items arrive in perfect condition.                                                                                                                                                                                                                                                                                                                                                                                                                                                      | positive           | positive       |\n",
            "+-------------------------------------------------------------------------------------------------------------------------------------------------------------------------------------------------------------------------------------------------------------------------------------------------------------------------------------------------------------------------------------------------------------------------------------------------------------------------------------------------------------------------------------------------------------------------------------------------+--------------------+----------------+\n",
            "| my recent experience with expressway logistics left me thoroughly impressed. i had a highly time-sensitive shipment that required delicate handling and precise coordination. despite the challenges, expressway rose to the occasion, demonstrating an unparalleled level of professionalism and efficiency. their team meticulously planned every aspect of the shipment, from packaging to transportation, ensuring that no detail was overlooked.                                                                                                                                           | positive           | positive       |\n",
            "+-------------------------------------------------------------------------------------------------------------------------------------------------------------------------------------------------------------------------------------------------------------------------------------------------------------------------------------------------------------------------------------------------------------------------------------------------------------------------------------------------------------------------------------------------------------------------------------------------+--------------------+----------------+\n",
            "| i was initially impressed by expressway logistics' promise of reliability and affordability, but my recent encounters have been less than satisfactory. their website is so irritating and their drivers are too harsh, the repeated delays in delivery have been frustrating. additionally, the discovery of hidden fees within their pricing structure has left me feeling misled. in addition to these challenges, their customer service team has been inattentive and disrespectful, which has degraded the overall experience.not at all recommend!                                       | negative           | negative       |\n",
            "+-------------------------------------------------------------------------------------------------------------------------------------------------------------------------------------------------------------------------------------------------------------------------------------------------------------------------------------------------------------------------------------------------------------------------------------------------------------------------------------------------------------------------------------------------------------------------------------------------+--------------------+----------------+\n",
            "| thumbs up to expressway for their prompt responses and reliable shipping solutions. impressed!                                                                                                                                                                                                                                                                                                                                                                                                                                                                                                  | positive           | positive       |\n",
            "+-------------------------------------------------------------------------------------------------------------------------------------------------------------------------------------------------------------------------------------------------------------------------------------------------------------------------------------------------------------------------------------------------------------------------------------------------------------------------------------------------------------------------------------------------------------------------------------------------+--------------------+----------------+\n",
            "| i had a terrible experience with expressway logistics. not only was my pickup delayed, but the packaging was not done intactly, and the customer support team was unresponsive when i tried to raise the issue.                                                                                                                                                                                                                                                                                                                                                                                 | negative           | negative       |\n",
            "+-------------------------------------------------------------------------------------------------------------------------------------------------------------------------------------------------------------------------------------------------------------------------------------------------------------------------------------------------------------------------------------------------------------------------------------------------------------------------------------------------------------------------------------------------------------------------------------------------+--------------------+----------------+\n"
          ]
        },
        {
          "output_type": "stream",
          "name": "stderr",
          "text": [
            "100%|██████████| 5/5 [01:15<00:00, 15.16s/it]"
          ]
        },
        {
          "output_type": "stream",
          "name": "stdout",
          "text": [
            "+-------------------------------------------------------------------------------------------------------------------------------------------------------------------------------------------------------------------------------------------------------------------------------------------------------------------------------------------------------------------------------------------------------------------------------------------------------------------------------------------------------------------------------------------------------------------------------------------------+--------------------+----------------+\n",
            "| Review                                                                                                                                                                                                                                                                                                                                                                                                                                                                                                                                                                                          | Model Prediction   | Ground Truth   |\n",
            "+=================================================================================================================================================================================================================================================================================================================================================================================================================================================================================================================================================================================================+====================+================+\n",
            "| the delivery executive assigned by expressway logistics was courteous and professional during the delivery process. they tried their best to handle the package with care.unfortunately, the package arrived with slight damage despite the delivery executive's efforts. the packaging seemed more than adequate to protect the contents during transit.                                                                                                                                                                                                                                       | negative           | positive       |\n",
            "+-------------------------------------------------------------------------------------------------------------------------------------------------------------------------------------------------------------------------------------------------------------------------------------------------------------------------------------------------------------------------------------------------------------------------------------------------------------------------------------------------------------------------------------------------------------------------------------------------+--------------------+----------------+\n",
            "| expressway logistics failed to meet my expectations. the delivery was delayed, and the customer support team was unresponsive and unhelpful when i tried to inquire about the status of my parcel.                                                                                                                                                                                                                                                                                                                                                                                              | negative           | negative       |\n",
            "+-------------------------------------------------------------------------------------------------------------------------------------------------------------------------------------------------------------------------------------------------------------------------------------------------------------------------------------------------------------------------------------------------------------------------------------------------------------------------------------------------------------------------------------------------------------------------------------------------+--------------------+----------------+\n",
            "| expressway logistics' incompetence resulted in a major inconvenience when my package was delivered to the wrong recipient. despite providing accurate delivery information, the package ended up in the hands of someone else, and efforts to retrieve it were unsuccessful. when i contacted customer service for assistance, i was met with apathy and a lack of urgency. their failure to rectify the situation in a timely manner is unacceptable, and i will be avoiding their services at all costs.                                                                                      | negative           | negative       |\n",
            "+-------------------------------------------------------------------------------------------------------------------------------------------------------------------------------------------------------------------------------------------------------------------------------------------------------------------------------------------------------------------------------------------------------------------------------------------------------------------------------------------------------------------------------------------------------------------------------------------------+--------------------+----------------+\n",
            "| kudos to expressway logistics for their outstanding service! they've been an essential partner for my business, handling all our shipping needs with professionalism and efficiency. if you're looking for a reliable logistic service provider, look no further than expressway logistics.                                                                                                                                                                                                                                                                                                     | positive           | positive       |\n",
            "+-------------------------------------------------------------------------------------------------------------------------------------------------------------------------------------------------------------------------------------------------------------------------------------------------------------------------------------------------------------------------------------------------------------------------------------------------------------------------------------------------------------------------------------------------------------------------------------------------+--------------------+----------------+\n",
            "| expressway logistics offers a convenient online platform for booking shipments, and their competitive rates initially drew me in. however, the frequent delays in delivery and lack of transparency regarding additional fees have soured my experience. while their customer service representatives are polite, they often seem powerless to resolve issues effectively.this lack of care and responsibilites from the concerned teams have led me unsatisfied and irritated.i cannot trust and rely on this again.will definitely not contact them ever for my courier deliveries!           | negative           | negative       |\n",
            "+-------------------------------------------------------------------------------------------------------------------------------------------------------------------------------------------------------------------------------------------------------------------------------------------------------------------------------------------------------------------------------------------------------------------------------------------------------------------------------------------------------------------------------------------------------------------------------------------------+--------------------+----------------+\n",
            "| planning a destination wedding is undoubtedly a daunting task, especially when it comes to coordinating transportation for guests and wedding essentials. fortunately, expressway logistics made this aspect of our wedding planning effortless. from the beginning, they were attentive to our needs and provided valuable insights to streamline the process.                                                                                                                                                                                                                                 | positive           | positive       |\n",
            "+-------------------------------------------------------------------------------------------------------------------------------------------------------------------------------------------------------------------------------------------------------------------------------------------------------------------------------------------------------------------------------------------------------------------------------------------------------------------------------------------------------------------------------------------------------------------------------------------------+--------------------+----------------+\n",
            "| expressway logistics consistently delivers on its promises, providing fast, efficient, and reliable courier services that exceeded my expectations.                                                                                                                                                                                                                                                                                                                                                                                                                                             | positive           | positive       |\n",
            "+-------------------------------------------------------------------------------------------------------------------------------------------------------------------------------------------------------------------------------------------------------------------------------------------------------------------------------------------------------------------------------------------------------------------------------------------------------------------------------------------------------------------------------------------------------------------------------------------------+--------------------+----------------+\n",
            "| i needed to ship perishable items internationally, and expressway logistics handled the process flawlessly. they ensured that the items were properly packaged and transported in temperature-controlled conditions.                                                                                                                                                                                                                                                                                                                                                                            | positive           | positive       |\n",
            "+-------------------------------------------------------------------------------------------------------------------------------------------------------------------------------------------------------------------------------------------------------------------------------------------------------------------------------------------------------------------------------------------------------------------------------------------------------------------------------------------------------------------------------------------------------------------------------------------------+--------------------+----------------+\n",
            "| i appreciated the flexibility offered by expressway logistics in terms of delivery options. their range of delivery speeds and service levels allowed me to choose the option that best suited my needs and budget.however, i was slightly disappointed by the lack of transparency regarding few additional fees and surcharges. i selected a specific delivery option and paid minor charges at checkout, which undermined the initial affordability of the service..                                                                                                                         | negative           | negative       |\n",
            "+-------------------------------------------------------------------------------------------------------------------------------------------------------------------------------------------------------------------------------------------------------------------------------------------------------------------------------------------------------------------------------------------------------------------------------------------------------------------------------------------------------------------------------------------------------------------------------------------------+--------------------+----------------+\n",
            "| while expressway logistics' pricing is competitive, their lack of accountability for delays and damages is disappointing. it's frustrating to pay for a service that fails to deliver on its promises consistently.                                                                                                                                                                                                                                                                                                                                                                             | negative           | negative       |\n",
            "+-------------------------------------------------------------------------------------------------------------------------------------------------------------------------------------------------------------------------------------------------------------------------------------------------------------------------------------------------------------------------------------------------------------------------------------------------------------------------------------------------------------------------------------------------------------------------------------------------+--------------------+----------------+\n",
            "| expressway logistics' pricing may seem attractive at first glance, but beware of some internal hidden fees that may sometimes add up. coupled with their reliable delivery times, it's simply not worth the hassle.but still i appreciate that my parcel got delivered safely a day after the promised window.                                                                                                                                                                                                                                                                                  | negative           | positive       |\n",
            "+-------------------------------------------------------------------------------------------------------------------------------------------------------------------------------------------------------------------------------------------------------------------------------------------------------------------------------------------------------------------------------------------------------------------------------------------------------------------------------------------------------------------------------------------------------------------------------------------------+--------------------+----------------+\n",
            "| expressway logistics has been my go-to courier service for years, primarily due to their extensive network coverage and competitive pricing. however, my recent experience has left me questioning their reliability. while their user-friendly website and efficient booking process remain commendable, the repeated delays in delivery and lack of proactive communication have been disappointing.despite these setbacks, their customer service team has always been courteous and responsive, attempting to address my concerns promptly.                                                 | negative           | negative       |\n",
            "+-------------------------------------------------------------------------------------------------------------------------------------------------------------------------------------------------------------------------------------------------------------------------------------------------------------------------------------------------------------------------------------------------------------------------------------------------------------------------------------------------------------------------------------------------------------------------------------------------+--------------------+----------------+\n",
            "| expressway logistics' incompetence led to the loss of my parcel, and their lack of accountability only added to the frustration. despite filing a claim and providing evidence of the missing items, i received no assistance or compensation for the lost package. their negligence and disregard for customer satisfaction are unacceptable, and i will be exploring legal options to recoup the value of the lost items.                                                                                                                                                                     | negative           | negative       |\n",
            "+-------------------------------------------------------------------------------------------------------------------------------------------------------------------------------------------------------------------------------------------------------------------------------------------------------------------------------------------------------------------------------------------------------------------------------------------------------------------------------------------------------------------------------------------------------------------------------------------------+--------------------+----------------+\n",
            "| i was deeply disappointed by the behavior of the delivery executive from expressway logistics. they exhibited a complete disregard for customer satisfaction, arriving late and mishandling the package upon delivery. despite raising my concerns with expressway logistics, there was no acknowledgment or resolution provided.                                                                                                                                                                                                                                                               | negative           | negative       |\n",
            "+-------------------------------------------------------------------------------------------------------------------------------------------------------------------------------------------------------------------------------------------------------------------------------------------------------------------------------------------------------------------------------------------------------------------------------------------------------------------------------------------------------------------------------------------------------------------------------------------------+--------------------+----------------+\n",
            "| as a frequent traveler, i often use expressway logistics to ship luggage and personal belongings ahead of time. their door-to-door service and reliable tracking make traveling a breeze.                                                                                                                                                                                                                                                                                                                                                                                                       | positive           | positive       |\n",
            "+-------------------------------------------------------------------------------------------------------------------------------------------------------------------------------------------------------------------------------------------------------------------------------------------------------------------------------------------------------------------------------------------------------------------------------------------------------------------------------------------------------------------------------------------------------------------------------------------------+--------------------+----------------+\n",
            "| expressway logistics caught my attention with its promise of seamless shipping solutions and a comprehensive network. however, my recent experiences have revealed some significant shortcomings. their online platform is disgusting and their tracking system is inaccurate.i've encountered repeated issues with inaccurate weight calculations that have led to unexpected charges. moreover, the limited options for customizing shipment preferences have made it challenging to meet my requirements.i cannot rely upon it for my future requirements.it failed to meet my requirements. | negative           | negative       |\n",
            "+-------------------------------------------------------------------------------------------------------------------------------------------------------------------------------------------------------------------------------------------------------------------------------------------------------------------------------------------------------------------------------------------------------------------------------------------------------------------------------------------------------------------------------------------------------------------------------------------------+--------------------+----------------+\n",
            "| the packaging provided by expressway logistics is always secure and well-protected, and ensured that my items arrive in perfect condition.                                                                                                                                                                                                                                                                                                                                                                                                                                                      | positive           | positive       |\n",
            "+-------------------------------------------------------------------------------------------------------------------------------------------------------------------------------------------------------------------------------------------------------------------------------------------------------------------------------------------------------------------------------------------------------------------------------------------------------------------------------------------------------------------------------------------------------------------------------------------------+--------------------+----------------+\n",
            "| my recent experience with expressway logistics left me thoroughly impressed. i had a highly time-sensitive shipment that required delicate handling and precise coordination. despite the challenges, expressway rose to the occasion, demonstrating an unparalleled level of professionalism and efficiency. their team meticulously planned every aspect of the shipment, from packaging to transportation, ensuring that no detail was overlooked.                                                                                                                                           | positive           | positive       |\n",
            "+-------------------------------------------------------------------------------------------------------------------------------------------------------------------------------------------------------------------------------------------------------------------------------------------------------------------------------------------------------------------------------------------------------------------------------------------------------------------------------------------------------------------------------------------------------------------------------------------------+--------------------+----------------+\n",
            "| i was initially impressed by expressway logistics' promise of reliability and affordability, but my recent encounters have been less than satisfactory. their website is so irritating and their drivers are too harsh, the repeated delays in delivery have been frustrating. additionally, the discovery of hidden fees within their pricing structure has left me feeling misled. in addition to these challenges, their customer service team has been inattentive and disrespectful, which has degraded the overall experience.not at all recommend!                                       | negative           | negative       |\n",
            "+-------------------------------------------------------------------------------------------------------------------------------------------------------------------------------------------------------------------------------------------------------------------------------------------------------------------------------------------------------------------------------------------------------------------------------------------------------------------------------------------------------------------------------------------------------------------------------------------------+--------------------+----------------+\n",
            "| thumbs up to expressway for their prompt responses and reliable shipping solutions. impressed!                                                                                                                                                                                                                                                                                                                                                                                                                                                                                                  | positive           | positive       |\n",
            "+-------------------------------------------------------------------------------------------------------------------------------------------------------------------------------------------------------------------------------------------------------------------------------------------------------------------------------------------------------------------------------------------------------------------------------------------------------------------------------------------------------------------------------------------------------------------------------------------------+--------------------+----------------+\n",
            "| i had a terrible experience with expressway logistics. not only was my pickup delayed, but the packaging was not done intactly, and the customer support team was unresponsive when i tried to raise the issue.                                                                                                                                                                                                                                                                                                                                                                                 | negative           | negative       |\n",
            "+-------------------------------------------------------------------------------------------------------------------------------------------------------------------------------------------------------------------------------------------------------------------------------------------------------------------------------------------------------------------------------------------------------------------------------------------------------------------------------------------------------------------------------------------------------------------------------------------------+--------------------+----------------+\n"
          ]
        },
        {
          "output_type": "stream",
          "name": "stderr",
          "text": [
            "\n"
          ]
        }
      ],
      "source": [
        "for _ in tqdm(range(num_eval_runs)):\n",
        "\n",
        "    # For each run create a new sample of examples\n",
        "    examples = create_examples(cs_examples_df)\n",
        "\n",
        "    # Assemble the zero shot prompt with these examples\n",
        "    zero_shot_prompt = [{'role':'system', 'content': zero_shot_system_message}]\n",
        "    # zero_shot_prompt = create_prompt(zero_shot_system_message, examples, user_message_template)\n",
        "\n",
        "    # Assemble the few shot prompt with these examples\n",
        "    few_shot_prompt = create_prompt(few_shot_system_message, examples, user_message_template)\n",
        "\n",
        "    # Evaluate zero shot prompt accuracy on gold examples\n",
        "    zero_shot_micro_f1 = evaluate_prompt(zero_shot_prompt, gold_examples, user_message_template)\n",
        "\n",
        "    # Evaluate few shot prompt accuracy on gold examples\n",
        "    few_shot_micro_f1 = evaluate_prompt(few_shot_prompt, gold_examples, user_message_template)\n",
        "\n",
        "    zero_shot_performance.append(zero_shot_micro_f1)\n",
        "    few_shot_performance.append(few_shot_micro_f1)"
      ]
    },
    {
      "cell_type": "markdown",
      "metadata": {
        "id": "4JSJzAeZZUBl",
        "nteract": {
          "transient": {
            "deleting": false
          }
        }
      },
      "source": [
        "\n",
        "\n",
        "Compute the average (mean) and measure the variability (standard deviation) of the evaluation scores for both zero shot and few shot prompts."
      ]
    },
    {
      "cell_type": "code",
      "source": [
        "zero_shot_performance_mean=np.round(np.mean(zero_shot_performance), 3)\n",
        "zero_shot_performance_std=np.round(np.std(zero_shot_performance), 3)\n",
        "print(f\"Zero shot performance: {zero_shot_performance_mean} +/- {zero_shot_performance_std} \")\n",
        "# Calculate for Zero Shot"
      ],
      "metadata": {
        "id": "Wlx7hRekacH2",
        "colab": {
          "base_uri": "https://localhost:8080/"
        },
        "outputId": "b1dd67e8-d823-420e-e78f-ae569642cfde"
      },
      "execution_count": 56,
      "outputs": [
        {
          "output_type": "stream",
          "name": "stdout",
          "text": [
            "Zero shot performance: 0.905 +/- 0.0 \n"
          ]
        }
      ]
    },
    {
      "cell_type": "code",
      "source": [
        "few_shot_performance_mean=np.round(np.mean(few_shot_performance), 3)\n",
        "few_shot_performance_std=np.round(np.std(few_shot_performance), 3)\n",
        "print(f\"Few shot performance: {few_shot_performance_mean} +/- {few_shot_performance_std} \")\n",
        "# Calculate for Few Shot"
      ],
      "metadata": {
        "id": "aUt85F--aehR",
        "colab": {
          "base_uri": "https://localhost:8080/"
        },
        "outputId": "b70d3d22-4ed5-4d8a-97cc-d1a295055d18"
      },
      "execution_count": 57,
      "outputs": [
        {
          "output_type": "stream",
          "name": "stdout",
          "text": [
            "Few shot performance: 0.905 +/- 0.0 \n"
          ]
        }
      ]
    }
  ],
  "metadata": {
    "colab": {
      "provenance": []
    },
    "kernelspec": {
      "display_name": "Python 3",
      "name": "python3"
    },
    "language_info": {
      "codemirror_mode": {
        "name": "ipython",
        "version": 3
      },
      "file_extension": ".py",
      "mimetype": "text/x-python",
      "name": "python",
      "nbconvert_exporter": "python",
      "pygments_lexer": "ipython3",
      "version": "3.12.2"
    }
  },
  "nbformat": 4,
  "nbformat_minor": 0
}